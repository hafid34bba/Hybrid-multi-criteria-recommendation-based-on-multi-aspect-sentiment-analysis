{
  "cells": [
    {
      "cell_type": "code",
      "execution_count": null,
      "metadata": {
        "id": "lbeBE9UaD8Bd"
      },
      "outputs": [],
      "source": [
        "import tensorflow as tf\n",
        "from tensorflow.keras.layers import Embedding, Dense, Input, Flatten, concatenate,LSTM,Dropout\n",
        "from tensorflow.keras.models import Model\n",
        "import pandas as pd\n",
        "import numpy as np\n",
        "from sklearn.preprocessing import OrdinalEncoder\n",
        "from keras.preprocessing.text import Tokenizer\n",
        "from keras.preprocessing.sequence import pad_sequences"
      ]
    },
    {
      "cell_type": "code",
      "execution_count": null,
      "metadata": {
        "colab": {
          "base_uri": "https://localhost:8080/",
          "height": 206
        },
        "id": "RKEQOuw9EJAj",
        "outputId": "eb52358f-0516-4302-81b7-0e3eab4d08d8"
      },
      "outputs": [
        {
          "output_type": "execute_result",
          "data": {
            "text/plain": [
              "       Unnamed: 0                                               text  overall\n",
              "57259       83028  This was my third stay at the Hudson in three ...      2.0\n",
              "42140      340771  I recently stayed at the hotel for business an...      5.0\n",
              "24817      681238  The Inn at the Market is the best hotel/inn I ...      5.0\n",
              "28005      279624  I stayed at this hotel for 1 night prior to fl...      2.0\n",
              "74198      578233  Stayed at the Fairfield Inn & Suites for the I...      5.0"
            ],
            "text/html": [
              "\n",
              "  <div id=\"df-25b4994b-e79f-4182-bcaa-3b0d0d5c057b\">\n",
              "    <div class=\"colab-df-container\">\n",
              "      <div>\n",
              "<style scoped>\n",
              "    .dataframe tbody tr th:only-of-type {\n",
              "        vertical-align: middle;\n",
              "    }\n",
              "\n",
              "    .dataframe tbody tr th {\n",
              "        vertical-align: top;\n",
              "    }\n",
              "\n",
              "    .dataframe thead th {\n",
              "        text-align: right;\n",
              "    }\n",
              "</style>\n",
              "<table border=\"1\" class=\"dataframe\">\n",
              "  <thead>\n",
              "    <tr style=\"text-align: right;\">\n",
              "      <th></th>\n",
              "      <th>Unnamed: 0</th>\n",
              "      <th>text</th>\n",
              "      <th>overall</th>\n",
              "    </tr>\n",
              "  </thead>\n",
              "  <tbody>\n",
              "    <tr>\n",
              "      <th>57259</th>\n",
              "      <td>83028</td>\n",
              "      <td>This was my third stay at the Hudson in three ...</td>\n",
              "      <td>2.0</td>\n",
              "    </tr>\n",
              "    <tr>\n",
              "      <th>42140</th>\n",
              "      <td>340771</td>\n",
              "      <td>I recently stayed at the hotel for business an...</td>\n",
              "      <td>5.0</td>\n",
              "    </tr>\n",
              "    <tr>\n",
              "      <th>24817</th>\n",
              "      <td>681238</td>\n",
              "      <td>The Inn at the Market is the best hotel/inn I ...</td>\n",
              "      <td>5.0</td>\n",
              "    </tr>\n",
              "    <tr>\n",
              "      <th>28005</th>\n",
              "      <td>279624</td>\n",
              "      <td>I stayed at this hotel for 1 night prior to fl...</td>\n",
              "      <td>2.0</td>\n",
              "    </tr>\n",
              "    <tr>\n",
              "      <th>74198</th>\n",
              "      <td>578233</td>\n",
              "      <td>Stayed at the Fairfield Inn &amp; Suites for the I...</td>\n",
              "      <td>5.0</td>\n",
              "    </tr>\n",
              "  </tbody>\n",
              "</table>\n",
              "</div>\n",
              "      <button class=\"colab-df-convert\" onclick=\"convertToInteractive('df-25b4994b-e79f-4182-bcaa-3b0d0d5c057b')\"\n",
              "              title=\"Convert this dataframe to an interactive table.\"\n",
              "              style=\"display:none;\">\n",
              "        \n",
              "  <svg xmlns=\"http://www.w3.org/2000/svg\" height=\"24px\"viewBox=\"0 0 24 24\"\n",
              "       width=\"24px\">\n",
              "    <path d=\"M0 0h24v24H0V0z\" fill=\"none\"/>\n",
              "    <path d=\"M18.56 5.44l.94 2.06.94-2.06 2.06-.94-2.06-.94-.94-2.06-.94 2.06-2.06.94zm-11 1L8.5 8.5l.94-2.06 2.06-.94-2.06-.94L8.5 2.5l-.94 2.06-2.06.94zm10 10l.94 2.06.94-2.06 2.06-.94-2.06-.94-.94-2.06-.94 2.06-2.06.94z\"/><path d=\"M17.41 7.96l-1.37-1.37c-.4-.4-.92-.59-1.43-.59-.52 0-1.04.2-1.43.59L10.3 9.45l-7.72 7.72c-.78.78-.78 2.05 0 2.83L4 21.41c.39.39.9.59 1.41.59.51 0 1.02-.2 1.41-.59l7.78-7.78 2.81-2.81c.8-.78.8-2.07 0-2.86zM5.41 20L4 18.59l7.72-7.72 1.47 1.35L5.41 20z\"/>\n",
              "  </svg>\n",
              "      </button>\n",
              "      \n",
              "  <style>\n",
              "    .colab-df-container {\n",
              "      display:flex;\n",
              "      flex-wrap:wrap;\n",
              "      gap: 12px;\n",
              "    }\n",
              "\n",
              "    .colab-df-convert {\n",
              "      background-color: #E8F0FE;\n",
              "      border: none;\n",
              "      border-radius: 50%;\n",
              "      cursor: pointer;\n",
              "      display: none;\n",
              "      fill: #1967D2;\n",
              "      height: 32px;\n",
              "      padding: 0 0 0 0;\n",
              "      width: 32px;\n",
              "    }\n",
              "\n",
              "    .colab-df-convert:hover {\n",
              "      background-color: #E2EBFA;\n",
              "      box-shadow: 0px 1px 2px rgba(60, 64, 67, 0.3), 0px 1px 3px 1px rgba(60, 64, 67, 0.15);\n",
              "      fill: #174EA6;\n",
              "    }\n",
              "\n",
              "    [theme=dark] .colab-df-convert {\n",
              "      background-color: #3B4455;\n",
              "      fill: #D2E3FC;\n",
              "    }\n",
              "\n",
              "    [theme=dark] .colab-df-convert:hover {\n",
              "      background-color: #434B5C;\n",
              "      box-shadow: 0px 1px 3px 1px rgba(0, 0, 0, 0.15);\n",
              "      filter: drop-shadow(0px 1px 2px rgba(0, 0, 0, 0.3));\n",
              "      fill: #FFFFFF;\n",
              "    }\n",
              "  </style>\n",
              "\n",
              "      <script>\n",
              "        const buttonEl =\n",
              "          document.querySelector('#df-25b4994b-e79f-4182-bcaa-3b0d0d5c057b button.colab-df-convert');\n",
              "        buttonEl.style.display =\n",
              "          google.colab.kernel.accessAllowed ? 'block' : 'none';\n",
              "\n",
              "        async function convertToInteractive(key) {\n",
              "          const element = document.querySelector('#df-25b4994b-e79f-4182-bcaa-3b0d0d5c057b');\n",
              "          const dataTable =\n",
              "            await google.colab.kernel.invokeFunction('convertToInteractive',\n",
              "                                                     [key], {});\n",
              "          if (!dataTable) return;\n",
              "\n",
              "          const docLinkHtml = 'Like what you see? Visit the ' +\n",
              "            '<a target=\"_blank\" href=https://colab.research.google.com/notebooks/data_table.ipynb>data table notebook</a>'\n",
              "            + ' to learn more about interactive tables.';\n",
              "          element.innerHTML = '';\n",
              "          dataTable['output_type'] = 'display_data';\n",
              "          await google.colab.output.renderOutput(dataTable, element);\n",
              "          const docLink = document.createElement('div');\n",
              "          docLink.innerHTML = docLinkHtml;\n",
              "          element.appendChild(docLink);\n",
              "        }\n",
              "      </script>\n",
              "    </div>\n",
              "  </div>\n",
              "  "
            ]
          },
          "metadata": {},
          "execution_count": 10
        }
      ],
      "source": [
        "data = pd.read_csv('/content/drive/MyDrive/sentiment_hotel_data.csv')\n",
        "#data['Label'] = data['overall'].apply(lambda x : 1 if x>3.5 else(0 if ))\n",
        "data = data.sample(frac=1)\n",
        "data.head()"
      ]
    },
    {
      "cell_type": "code",
      "source": [
        "pos_data = data[data['overall']>=3.5].iloc[:4500]\n",
        "pos_data['Label'] = 1\n",
        "neg_data = data[data['overall']<3].iloc[:4500]\n",
        "neg_data['Label'] = 0"
      ],
      "metadata": {
        "id": "zd6FIWYtauzQ"
      },
      "execution_count": null,
      "outputs": []
    },
    {
      "cell_type": "markdown",
      "source": [
        ""
      ],
      "metadata": {
        "id": "Ovn5MMYMkdlK"
      }
    },
    {
      "cell_type": "code",
      "source": [
        "data = pd.concat([pos_data,neg_data])\n",
        "data = data.sample(frac=1)\n",
        "data.head()"
      ],
      "metadata": {
        "colab": {
          "base_uri": "https://localhost:8080/",
          "height": 206
        },
        "id": "lWmpOgbnbGe1",
        "outputId": "31dea28e-716c-4397-a553-065082ad43f9"
      },
      "execution_count": null,
      "outputs": [
        {
          "output_type": "execute_result",
          "data": {
            "text/plain": [
              "       Unnamed: 0                                               text  overall  \\\n",
              "28724       84610  Booked room with two twin beds. Expected it to...      1.0   \n",
              "73799      458694  The good:\\nExcellent staff--very helpful and f...      2.0   \n",
              "33594       30974  We had a week in NYC as our son's choir perfor...      4.0   \n",
              "92646      647067  This was my second time staying in this hotel....      4.0   \n",
              "1231         3301  It's no wonder this hotel is always \"on sale\"....      1.0   \n",
              "\n",
              "       Label  \n",
              "28724      0  \n",
              "73799      0  \n",
              "33594      1  \n",
              "92646      1  \n",
              "1231       0  "
            ],
            "text/html": [
              "\n",
              "  <div id=\"df-75ba6469-49bd-4771-ad67-82eba0875885\">\n",
              "    <div class=\"colab-df-container\">\n",
              "      <div>\n",
              "<style scoped>\n",
              "    .dataframe tbody tr th:only-of-type {\n",
              "        vertical-align: middle;\n",
              "    }\n",
              "\n",
              "    .dataframe tbody tr th {\n",
              "        vertical-align: top;\n",
              "    }\n",
              "\n",
              "    .dataframe thead th {\n",
              "        text-align: right;\n",
              "    }\n",
              "</style>\n",
              "<table border=\"1\" class=\"dataframe\">\n",
              "  <thead>\n",
              "    <tr style=\"text-align: right;\">\n",
              "      <th></th>\n",
              "      <th>Unnamed: 0</th>\n",
              "      <th>text</th>\n",
              "      <th>overall</th>\n",
              "      <th>Label</th>\n",
              "    </tr>\n",
              "  </thead>\n",
              "  <tbody>\n",
              "    <tr>\n",
              "      <th>28724</th>\n",
              "      <td>84610</td>\n",
              "      <td>Booked room with two twin beds. Expected it to...</td>\n",
              "      <td>1.0</td>\n",
              "      <td>0</td>\n",
              "    </tr>\n",
              "    <tr>\n",
              "      <th>73799</th>\n",
              "      <td>458694</td>\n",
              "      <td>The good:\\nExcellent staff--very helpful and f...</td>\n",
              "      <td>2.0</td>\n",
              "      <td>0</td>\n",
              "    </tr>\n",
              "    <tr>\n",
              "      <th>33594</th>\n",
              "      <td>30974</td>\n",
              "      <td>We had a week in NYC as our son's choir perfor...</td>\n",
              "      <td>4.0</td>\n",
              "      <td>1</td>\n",
              "    </tr>\n",
              "    <tr>\n",
              "      <th>92646</th>\n",
              "      <td>647067</td>\n",
              "      <td>This was my second time staying in this hotel....</td>\n",
              "      <td>4.0</td>\n",
              "      <td>1</td>\n",
              "    </tr>\n",
              "    <tr>\n",
              "      <th>1231</th>\n",
              "      <td>3301</td>\n",
              "      <td>It's no wonder this hotel is always \"on sale\"....</td>\n",
              "      <td>1.0</td>\n",
              "      <td>0</td>\n",
              "    </tr>\n",
              "  </tbody>\n",
              "</table>\n",
              "</div>\n",
              "      <button class=\"colab-df-convert\" onclick=\"convertToInteractive('df-75ba6469-49bd-4771-ad67-82eba0875885')\"\n",
              "              title=\"Convert this dataframe to an interactive table.\"\n",
              "              style=\"display:none;\">\n",
              "        \n",
              "  <svg xmlns=\"http://www.w3.org/2000/svg\" height=\"24px\"viewBox=\"0 0 24 24\"\n",
              "       width=\"24px\">\n",
              "    <path d=\"M0 0h24v24H0V0z\" fill=\"none\"/>\n",
              "    <path d=\"M18.56 5.44l.94 2.06.94-2.06 2.06-.94-2.06-.94-.94-2.06-.94 2.06-2.06.94zm-11 1L8.5 8.5l.94-2.06 2.06-.94-2.06-.94L8.5 2.5l-.94 2.06-2.06.94zm10 10l.94 2.06.94-2.06 2.06-.94-2.06-.94-.94-2.06-.94 2.06-2.06.94z\"/><path d=\"M17.41 7.96l-1.37-1.37c-.4-.4-.92-.59-1.43-.59-.52 0-1.04.2-1.43.59L10.3 9.45l-7.72 7.72c-.78.78-.78 2.05 0 2.83L4 21.41c.39.39.9.59 1.41.59.51 0 1.02-.2 1.41-.59l7.78-7.78 2.81-2.81c.8-.78.8-2.07 0-2.86zM5.41 20L4 18.59l7.72-7.72 1.47 1.35L5.41 20z\"/>\n",
              "  </svg>\n",
              "      </button>\n",
              "      \n",
              "  <style>\n",
              "    .colab-df-container {\n",
              "      display:flex;\n",
              "      flex-wrap:wrap;\n",
              "      gap: 12px;\n",
              "    }\n",
              "\n",
              "    .colab-df-convert {\n",
              "      background-color: #E8F0FE;\n",
              "      border: none;\n",
              "      border-radius: 50%;\n",
              "      cursor: pointer;\n",
              "      display: none;\n",
              "      fill: #1967D2;\n",
              "      height: 32px;\n",
              "      padding: 0 0 0 0;\n",
              "      width: 32px;\n",
              "    }\n",
              "\n",
              "    .colab-df-convert:hover {\n",
              "      background-color: #E2EBFA;\n",
              "      box-shadow: 0px 1px 2px rgba(60, 64, 67, 0.3), 0px 1px 3px 1px rgba(60, 64, 67, 0.15);\n",
              "      fill: #174EA6;\n",
              "    }\n",
              "\n",
              "    [theme=dark] .colab-df-convert {\n",
              "      background-color: #3B4455;\n",
              "      fill: #D2E3FC;\n",
              "    }\n",
              "\n",
              "    [theme=dark] .colab-df-convert:hover {\n",
              "      background-color: #434B5C;\n",
              "      box-shadow: 0px 1px 3px 1px rgba(0, 0, 0, 0.15);\n",
              "      filter: drop-shadow(0px 1px 2px rgba(0, 0, 0, 0.3));\n",
              "      fill: #FFFFFF;\n",
              "    }\n",
              "  </style>\n",
              "\n",
              "      <script>\n",
              "        const buttonEl =\n",
              "          document.querySelector('#df-75ba6469-49bd-4771-ad67-82eba0875885 button.colab-df-convert');\n",
              "        buttonEl.style.display =\n",
              "          google.colab.kernel.accessAllowed ? 'block' : 'none';\n",
              "\n",
              "        async function convertToInteractive(key) {\n",
              "          const element = document.querySelector('#df-75ba6469-49bd-4771-ad67-82eba0875885');\n",
              "          const dataTable =\n",
              "            await google.colab.kernel.invokeFunction('convertToInteractive',\n",
              "                                                     [key], {});\n",
              "          if (!dataTable) return;\n",
              "\n",
              "          const docLinkHtml = 'Like what you see? Visit the ' +\n",
              "            '<a target=\"_blank\" href=https://colab.research.google.com/notebooks/data_table.ipynb>data table notebook</a>'\n",
              "            + ' to learn more about interactive tables.';\n",
              "          element.innerHTML = '';\n",
              "          dataTable['output_type'] = 'display_data';\n",
              "          await google.colab.output.renderOutput(dataTable, element);\n",
              "          const docLink = document.createElement('div');\n",
              "          docLink.innerHTML = docLinkHtml;\n",
              "          element.appendChild(docLink);\n",
              "        }\n",
              "      </script>\n",
              "    </div>\n",
              "  </div>\n",
              "  "
            ]
          },
          "metadata": {},
          "execution_count": 12
        }
      ]
    },
    {
      "cell_type": "code",
      "execution_count": null,
      "metadata": {
        "colab": {
          "base_uri": "https://localhost:8080/",
          "height": 282
        },
        "id": "_T_uldkUchoZ",
        "outputId": "92237b19-170f-4c5a-a0b0-ed0c7e9bc768"
      },
      "outputs": [
        {
          "output_type": "execute_result",
          "data": {
            "text/plain": [
              "<matplotlib.axes._subplots.AxesSubplot at 0x7fba87081350>"
            ]
          },
          "metadata": {},
          "execution_count": 13
        },
        {
          "output_type": "display_data",
          "data": {
            "text/plain": [
              "<Figure size 432x288 with 1 Axes>"
            ],
            "image/png": "[encoded data removed]"
          },
          "metadata": {
            "needs_background": "light"
          }
        }
      ],
      "source": [
        "data.Label.hist()"
      ]
    },
    {
      "cell_type": "code",
      "execution_count": null,
      "metadata": {
        "colab": {
          "base_uri": "https://localhost:8080/"
        },
        "id": "vwM5banmEQgZ",
        "outputId": "1fbe9556-83c3-44ef-85fe-01b1f2d56e8d"
      },
      "outputs": [
        {
          "output_type": "stream",
          "name": "stderr",
          "text": [
            "[nltk_data] Downloading package stopwords to /root/nltk_data...\n",
            "[nltk_data]   Package stopwords is already up-to-date!\n",
            "[nltk_data] Downloading package wordnet to /root/nltk_data...\n",
            "[nltk_data]   Package wordnet is already up-to-date!\n"
          ]
        },
        {
          "output_type": "execute_result",
          "data": {
            "text/plain": [
              "True"
            ]
          },
          "metadata": {},
          "execution_count": 14
        }
      ],
      "source": [
        "import nltk\n",
        "nltk.download('stopwords')\n",
        "nltk.download('wordnet')\n"
      ]
    },
    {
      "cell_type": "code",
      "execution_count": null,
      "metadata": {
        "colab": {
          "base_uri": "https://localhost:8080/"
        },
        "id": "m_i4l3CLEaWG",
        "outputId": "5779e7b4-f6f1-480f-8a7d-d07fc479bf7a"
      },
      "outputs": [
        {
          "output_type": "execute_result",
          "data": {
            "text/plain": [
              "array(['Booked room with two twin beds Expected it to be small with no view but not the size of my closet Each bed had only one mattress on a board - no box springs The beds were about  inch apart and jammed against each wall - no room for bedside table - just a pole lamp between the two There was a small wardrobe and a small desk with a flat screen mounted on the wall We had to move the chair to in front of the wardrobe making it unusable in order to have room for our two suitcases on the floor One of us literally had to sit on our bed while the other moved around the small cramped room The lighting was really bad - two small pole lamps for the entire room - we kept bathroom lights on and door open to help us see to read Very very noisy a/c stuck in window inches away from me The bathroom was no wider than  feet with a sink mounted on the wall - no place to put your stuff except on the floor They blamed it on Cheaptickets and the difference between their definitions of deluxe They may be a three-star hotel but they dump one-star rooms on those using Cheaptickets and Expedia - as guys checking in to another room also found out',\n",
              "       'The good\\nExcellent staff--very helpful and friendly\\nBeautiful building--fun just to explore the hotel and enjoy the interior design and antique furnishings that are everywhere\\nLocation--in the heart of downtown and within walking distance to many hot spots museums Kennedy memorial etc\\nThe bad\\nThe rooms are quite uncomfortable--hard to control the temperature The door to our room let in so much light from the hallway that we couldnt sleep We shoved towels around the bottom and were still bothered by it Were not picky--this is a first for us\\nThe restaurant--excellent food; terribly slow and terrible service We ordered a continental breakfast with a bagel with cream cheese and a cup of fruit and it took  minutes \\nThe parking $ / day with mandatory valet is a bit rediculous\\nThe amennities no pool\\nOther not kid friendly at all If you have kids with you go somewhere else',\n",
              "       'We had a week in NYC as our sons choir performed at Carnegie Hall The Roger Smith corner junior suite was spacious and comfortable and had a flair of originality that the chains never provide It was perfect for us as my elderly aunt came in from Staten Island and used the sofa bed for one night and our son joined us after the group leftand we werent charged per person fees like so many other hotels in NYC \\nThe original art and sculpture in the lobby give it a very artsy feel--and Joel our son said he much preferred it to the steel and glass Grand Hyatt down the street Its an easy walk to Grand Central or to st/Lexington Ave and from there to the rest of the city Even though its right on Lexington Avenue it really wasnt too loud The TV needs updating but they see that as part of their charm And the bathroom is miniscule but functional Despite that wed stay there again \\nThe older but nicely appointed room made us feel at home and the iMacs in the lobby were the frosting on the cake Check it out',\n",
              "       ...,\n",
              "       'This hotel is outstanding for the price I paid around $ for a King room and the pictures on the website for this hotel do not lie the rooms are beautiful and modern The lobby is gorgeous No feelings about the hotel not being clean enough However the bathrooms are average but truly a bargain',\n",
              "       'Firstly the negatives-\\nThe decorating was seriously in need of updating\\nPlaster falling off the walls\\nNo plug in bathroom sink\\nBathroom door swollen too big to close\\nThe positives-\\nWe had a fantastic view of the Empire State Building and the Chrysler Building from our window\\nClean sheets and towels every day\\nLots of hot water from a great power shower\\nSuperkingsize bed\\nNo bugs micecockoaches or other un-invited room guests as noted by some other reviewers\\nWed read some really awful reviews before going and almost changed hotels Glad we didnt - it was basic but location makes up for it We asked the receptionist - Sheila - for a room with a view and she was only too happy to oblige \\nClose to lots of the sights and we would also recommend Andrews for great breakfasts turn right out of Hotel a couple of blocks up on the same side as Hotel\\nDont go expecting too much from Hotel Pennsylvania and you wont be disappointed',\n",
              "       'My Son and his wife was so happy and impressed with their stay in the honeymoon suite they called me the day after their wedding The Hotel and staff were just awesome to them They even had fresh rose petals scattered in the bedroom and around the heart shaped tub I would strongly recommend this to anyone but especailly couples who need to stay first night of their honeymoon in dallas Its close to everything'],\n",
              "      dtype=object)"
            ]
          },
          "metadata": {},
          "execution_count": 15
        }
      ],
      "source": [
        "import re\n",
        "def remove_punc(line):\n",
        "  line = re.sub('[0-9@]', '',line)\n",
        "  line = re.sub('[#[]', '',line)\n",
        "  line = re.sub(']', '',line)\n",
        "  line = re.sub('[\\'\":,.?!&)(]', '',line)\n",
        "  line = line.rstrip().lstrip()\n",
        "  return line\n",
        "\n",
        "data['text'] = data['text'].apply(lambda x : remove_punc(x))\n",
        "data.text.values"
      ]
    },
    {
      "cell_type": "code",
      "source": [
        "import nltk\n",
        "nltk.download('omw-1.4')  "
      ],
      "metadata": {
        "colab": {
          "base_uri": "https://localhost:8080/"
        },
        "id": "J9WCOBOSi0jl",
        "outputId": "ac4a39ae-a63b-43f7-e98f-6db9ca4e2a29"
      },
      "execution_count": null,
      "outputs": [
        {
          "output_type": "stream",
          "name": "stderr",
          "text": [
            "[nltk_data] Downloading package omw-1.4 to /root/nltk_data...\n",
            "[nltk_data]   Package omw-1.4 is already up-to-date!\n"
          ]
        },
        {
          "output_type": "execute_result",
          "data": {
            "text/plain": [
              "True"
            ]
          },
          "metadata": {},
          "execution_count": 16
        }
      ]
    },
    {
      "cell_type": "code",
      "execution_count": null,
      "metadata": {
        "id": "QpfVHPCoEcsJ",
        "colab": {
          "base_uri": "https://localhost:8080/"
        },
        "outputId": "27f28a34-0db3-4cec-d2b8-edfd9698b330"
      },
      "outputs": [
        {
          "output_type": "execute_result",
          "data": {
            "text/plain": [
              "array(['booked room two twin bed expected small view size closet bed one mattress board - box spring bed inch apart jammed wall - room bedside table - pole lamp two wa small wardrobe small desk flat screen mounted wall move chair front wardrobe making unusable order room two suitcase floor one u literally sit bed moved around small cramped room lighting wa really bad - two small pole lamp entire room - kept bathroom light door open help u see read noisy a/c stuck window inch away bathroom wa wider foot sink mounted wall - place put stuff except floor blamed cheaptickets difference definition deluxe may three-star hotel dump one-star room using cheaptickets expedia - guy checking another room also found',\n",
              "       'good\\nexcellent staff--very helpful friendly\\nbeautiful building--fun explore hotel enjoy interior design antique furnishing everywhere\\nlocation--in heart downtown within walking distance many hot spot museum kennedy memorial etc\\nthe bad\\nthe room quite uncomfortable--hard control temperature door room let much light hallway couldnt sleep shoved towel around bottom still bothered picky--this first us\\nthe restaurant--excellent food; terribly slow terrible service ordered continental breakfast bagel cream cheese cup fruit took minute \\nthe parking $ / day mandatory valet bit rediculous\\nthe amennities pool\\nother kid friendly kid go somewhere else',\n",
              "       'week nyc son choir performed carnegie hall roger smith corner junior suite wa spacious comfortable flair originality chain never provide wa perfect u elderly aunt came staten island used sofa bed one night son joined u group leftand werent charged per person fee like many hotel nyc \\nthe original art sculpture lobby give artsy feel--and joel son said much preferred steel glass grand hyatt street easy walk grand central st/lexington ave rest city even though right lexington avenue really wasnt loud tv need updating see part charm bathroom miniscule functional despite wed stay \\nthe older nicely appointed room made u feel home imacs lobby frosting cake check',\n",
              "       ...,\n",
              "       'hotel outstanding price paid around $ king room picture website hotel lie room beautiful modern lobby gorgeous feeling hotel clean enough however bathroom average truly bargain',\n",
              "       'firstly negatives-\\nthe decorating wa seriously need updating\\nplaster falling walls\\nno plug bathroom sink\\nbathroom door swollen big close\\nthe positives-\\nwe fantastic view empire state building chrysler building window\\nclean sheet towel every day\\nlots hot water great power shower\\nsuperkingsize bed\\nno bug micecockoaches un-invited room guest noted reviewers\\nwed read really awful review going almost changed hotel glad didnt - wa basic location make asked receptionist - sheila - room view wa happy oblige \\nclose lot sight would also recommend andrew great breakfast turn right hotel couple block side hotel\\ndont go expecting much hotel pennsylvania wont disappointed',\n",
              "       'son wife wa happy impressed stay honeymoon suite called day wedding hotel staff awesome even fresh rose petal scattered bedroom around heart shaped tub would strongly recommend anyone especailly couple need stay first night honeymoon dallas close everything'],\n",
              "      dtype=object)"
            ]
          },
          "metadata": {},
          "execution_count": 17
        }
      ],
      "source": [
        "import nltk\n",
        "from nltk.corpus import stopwords\n",
        "stop_w = stopwords.words('english')\n",
        "from nltk.stem import WordNetLemmatizer\n",
        "  \n",
        "lemmatizer = WordNetLemmatizer()\n",
        "\n",
        "data['text'] = data['text'].apply(lambda x : ' '.join([lemmatizer.lemmatize(w.lower()) for w in x.split(' ') if lemmatizer.lemmatize(w.lower()) not in stop_w ]))\n",
        "data['text'] = data['text'].apply(lambda x : ' '.join([t for t in x.split(' ') if len(t)>0]))\n",
        "    \n",
        "data.text.values"
      ]
    },
    {
      "cell_type": "code",
      "execution_count": null,
      "metadata": {
        "colab": {
          "base_uri": "https://localhost:8080/",
          "height": 282
        },
        "id": "Putwg8AE5J3l",
        "outputId": "3c44558d-e50f-48ae-cc0e-b04e5b3574ad"
      },
      "outputs": [
        {
          "output_type": "execute_result",
          "data": {
            "text/plain": [
              "<matplotlib.axes._subplots.AxesSubplot at 0x7fba86a417d0>"
            ]
          },
          "metadata": {},
          "execution_count": 18
        },
        {
          "output_type": "display_data",
          "data": {
            "text/plain": [
              "<Figure size 432x288 with 1 Axes>"
            ],
            "image/png": "[encoded data removed]"
          },
          "metadata": {
            "needs_background": "light"
          }
        }
      ],
      "source": [
        "data['length'] = data['text'].apply(lambda x : len(x.split(' ')))\n",
        "data.length.hist()"
      ]
    },
    {
      "cell_type": "code",
      "execution_count": null,
      "metadata": {
        "colab": {
          "base_uri": "https://localhost:8080/"
        },
        "id": "pz1yO0bNwGuh",
        "outputId": "e3074a90-5829-4592-9d12-d41eb459054b"
      },
      "outputs": [
        {
          "output_type": "stream",
          "name": "stdout",
          "text": [
            "Looking in indexes: https://pypi.org/simple, https://us-python.pkg.dev/colab-wheels/public/simple/\n",
            "Requirement already satisfied: transformers in /usr/local/lib/python3.7/dist-packages (4.20.1)\n",
            "Requirement already satisfied: filelock in /usr/local/lib/python3.7/dist-packages (from transformers) (3.7.1)\n",
            "Requirement already satisfied: requests in /usr/local/lib/python3.7/dist-packages (from transformers) (2.23.0)\n",
            "Requirement already satisfied: huggingface-hub<1.0,>=0.1.0 in /usr/local/lib/python3.7/dist-packages (from transformers) (0.8.1)\n",
            "Requirement already satisfied: regex!=2019.12.17 in /usr/local/lib/python3.7/dist-packages (from transformers) (2022.6.2)\n",
            "Requirement already satisfied: tqdm>=4.27 in /usr/local/lib/python3.7/dist-packages (from transformers) (4.64.0)\n",
            "Requirement already satisfied: numpy>=1.17 in /usr/local/lib/python3.7/dist-packages (from transformers) (1.21.6)\n",
            "Requirement already satisfied: pyyaml>=5.1 in /usr/local/lib/python3.7/dist-packages (from transformers) (6.0)\n",
            "Requirement already satisfied: packaging>=20.0 in /usr/local/lib/python3.7/dist-packages (from transformers) (21.3)\n",
            "Requirement already satisfied: tokenizers!=0.11.3,<0.13,>=0.11.1 in /usr/local/lib/python3.7/dist-packages (from transformers) (0.12.1)\n",
            "Requirement already satisfied: importlib-metadata in /usr/local/lib/python3.7/dist-packages (from transformers) (4.11.4)\n",
            "Requirement already satisfied: typing-extensions>=3.7.4.3 in /usr/local/lib/python3.7/dist-packages (from huggingface-hub<1.0,>=0.1.0->transformers) (4.1.1)\n",
            "Requirement already satisfied: pyparsing!=3.0.5,>=2.0.2 in /usr/local/lib/python3.7/dist-packages (from packaging>=20.0->transformers) (3.0.9)\n",
            "Requirement already satisfied: zipp>=0.5 in /usr/local/lib/python3.7/dist-packages (from importlib-metadata->transformers) (3.8.0)\n",
            "Requirement already satisfied: idna<3,>=2.5 in /usr/local/lib/python3.7/dist-packages (from requests->transformers) (2.10)\n",
            "Requirement already satisfied: chardet<4,>=3.0.2 in /usr/local/lib/python3.7/dist-packages (from requests->transformers) (3.0.4)\n",
            "Requirement already satisfied: certifi>=2017.4.17 in /usr/local/lib/python3.7/dist-packages (from requests->transformers) (2022.6.15)\n",
            "Requirement already satisfied: urllib3!=1.25.0,!=1.25.1,<1.26,>=1.21.1 in /usr/local/lib/python3.7/dist-packages (from requests->transformers) (1.24.3)\n"
          ]
        }
      ],
      "source": [
        "!pip install --upgrade transformers"
      ]
    },
    {
      "cell_type": "code",
      "execution_count": null,
      "metadata": {
        "colab": {
          "base_uri": "https://localhost:8080/"
        },
        "id": "palJWQvMwJ8S",
        "outputId": "8ccdbc72-0c1d-4155-a453-a39ef610121e"
      },
      "outputs": [
        {
          "output_type": "stream",
          "name": "stderr",
          "text": [
            "Some layers from the model checkpoint at bert-base-uncased were not used when initializing TFBertModel: ['nsp___cls', 'mlm___cls']\n",
            "- This IS expected if you are initializing TFBertModel from the checkpoint of a model trained on another task or with another architecture (e.g. initializing a BertForSequenceClassification model from a BertForPreTraining model).\n",
            "- This IS NOT expected if you are initializing TFBertModel from the checkpoint of a model that you expect to be exactly identical (initializing a BertForSequenceClassification model from a BertForSequenceClassification model).\n",
            "All the layers of TFBertModel were initialized from the model checkpoint at bert-base-uncased.\n",
            "If your task is similar to the task the model of the checkpoint was trained on, you can already use TFBertModel for predictions without further training.\n"
          ]
        }
      ],
      "source": [
        "from transformers import BertTokenizer, TFBertModel,pipeline\n",
        "tokenizer = BertTokenizer.from_pretrained('bert-base-uncased')\n",
        "model = TFBertModel.from_pretrained(\"bert-base-uncased\")\n"
      ]
    },
    {
      "cell_type": "code",
      "execution_count": null,
      "metadata": {
        "id": "lgVDrgvL45xt"
      },
      "outputs": [],
      "source": [
        ""
      ]
    },
    {
      "cell_type": "code",
      "execution_count": null,
      "metadata": {
        "colab": {
          "base_uri": "https://localhost:8080/"
        },
        "id": "SgUg5zPf93bx",
        "outputId": "b3fd021e-f2ad-4b6e-bafc-4be5782ca5bf"
      },
      "outputs": [
        {
          "output_type": "stream",
          "name": "stdout",
          "text": [
            "0\n",
            "1000\n",
            "2000\n",
            "3000\n",
            "4000\n",
            "5000\n",
            "6000\n",
            "7000\n",
            "8000\n"
          ]
        }
      ],
      "source": [
        "texts = []\n",
        "labels = []\n",
        "text = list(data.text.values)\n",
        "label = list(data.Label.values)\n",
        "\n",
        "for i in range(0,len(text),10):\n",
        "  if (i%1000)==0:\n",
        "    print(i)\n",
        "  try:\n",
        "    encoded_input = tokenizer(text[i:i+10], return_tensors='tf',max_length = 150,  # maximum length of a sentence  (TODO Figure the longest passage length)\n",
        "      truncation = 'longest_first',padding='max_length'\n",
        "    )\n",
        "  \n",
        "    output = model(encoded_input)\n",
        "    for j in range(10):\n",
        "      texts.append(np.copy(np.array(output['last_hidden_state'])[j]))\n",
        "      labels.append(label[i+j])\n",
        "  except:\n",
        "    pass"
      ]
    },
    {
      "cell_type": "code",
      "execution_count": null,
      "metadata": {
        "id": "43sEShfv3gav",
        "colab": {
          "base_uri": "https://localhost:8080/"
        },
        "outputId": "32c0a65f-747b-4561-cd5f-1b788bad526b"
      },
      "outputs": [
        {
          "output_type": "execute_result",
          "data": {
            "text/plain": [
              "9000"
            ]
          },
          "metadata": {},
          "execution_count": 22
        }
      ],
      "source": [
        "import numpy as np\n",
        "len(labels)"
      ]
    },
    {
      "cell_type": "code",
      "execution_count": null,
      "metadata": {
        "id": "FzwwHgoiIlOE"
      },
      "outputs": [],
      "source": [
        "texts = np.array(texts)"
      ]
    },
    {
      "cell_type": "code",
      "execution_count": null,
      "metadata": {
        "id": "Nwy7crOq8ejF"
      },
      "outputs": [],
      "source": [
        "labels = np.array(labels)"
      ]
    },
    {
      "cell_type": "code",
      "execution_count": null,
      "metadata": {
        "id": "LW9qQpGR8h9j",
        "colab": {
          "base_uri": "https://localhost:8080/"
        },
        "outputId": "13f375bb-8993-4300-d357-4c36a15c0122"
      },
      "outputs": [
        {
          "output_type": "execute_result",
          "data": {
            "text/plain": [
              "(9000, 150, 768)"
            ]
          },
          "metadata": {},
          "execution_count": 25
        }
      ],
      "source": [
        "texts.shape"
      ]
    },
    {
      "cell_type": "code",
      "execution_count": null,
      "metadata": {
        "id": "0WMy60dRFR9g"
      },
      "outputs": [],
      "source": [
        "from sklearn.model_selection import train_test_split\n",
        "text_train, text_test,label_train,label_test = train_test_split(texts,labels,test_size=0.2,random_state=24)"
      ]
    },
    {
      "cell_type": "code",
      "execution_count": null,
      "metadata": {
        "id": "85Xj7ob3FUT2"
      },
      "outputs": [],
      "source": [
        "from tensorflow.keras.regularizers import L1L2\n",
        "from tensorflow.keras.layers import Dense, LSTM, Embedding,Bidirectional\n",
        "import tensorflow\n",
        "from tensorflow.compat.v1.keras.layers import CuDNNLSTM\n",
        "def mod():\n",
        "  sent_inp = Input(shape=(150, 768))\n",
        "  X = Bidirectional(LSTM(512, return_sequences=True))(sent_inp)\n",
        "  \n",
        "  X = Bidirectional(LSTM(100,return_sequences=True))(X)\n",
        "  X = Dropout(0.2)(X)\n",
        "  X = Bidirectional(LSTM(200,return_sequences=True))(X)\n",
        "  X = Dropout(0.2)(X)\n",
        "  X = Bidirectional(LSTM(100))(X)\n",
        "  \n",
        "  X = Dense(16,activation='relu',kernel_regularizer='l1')(X) \n",
        "  out = Dense(1,activation='sigmoid')(X)\n",
        "\n",
        "\n",
        "  \n",
        "\n",
        "\n",
        "  \n",
        "  \n",
        "  \n",
        "  \n",
        "  model = Model(inputs=sent_inp, \n",
        "                  outputs=out)\n",
        "  \n",
        "  return model\n"
      ]
    },
    {
      "cell_type": "code",
      "execution_count": null,
      "metadata": {
        "id": "HqSsUJsZFXgu"
      },
      "outputs": [],
      "source": [
        "model = mod()"
      ]
    },
    {
      "cell_type": "code",
      "execution_count": null,
      "metadata": {
        "id": "ruDOd2OW-oX7"
      },
      "outputs": [],
      "source": [
        "texts = None"
      ]
    },
    {
      "cell_type": "code",
      "execution_count": null,
      "metadata": {
        "id": "6hytVp92Fls1",
        "colab": {
          "base_uri": "https://localhost:8080/",
          "height": 976
        },
        "outputId": "c3bc8b85-63bd-4a47-f639-4d0a604f20d0"
      },
      "outputs": [
        {
          "output_type": "execute_result",
          "data": {
            "text/plain": [
              "<IPython.core.display.Image object>"
            ],
            "image/png": "[encoded data removed]"
          },
          "metadata": {},
          "execution_count": 30
        }
      ],
      "source": [
        "tf.keras.utils.plot_model(model, to_file='img.png', show_shapes=True)"
      ]
    },
    {
      "cell_type": "code",
      "execution_count": null,
      "metadata": {
        "id": "E9u8fVLqFm91"
      },
      "outputs": [],
      "source": [
        "model.compile(optimizer='adam',loss='binary_crossentropy',metrics=['accuracy'])"
      ]
    },
    {
      "cell_type": "code",
      "source": [
        ""
      ],
      "metadata": {
        "id": "454fBBwwd3oN"
      },
      "execution_count": null,
      "outputs": []
    },
    {
      "cell_type": "code",
      "execution_count": null,
      "metadata": {
        "colab": {
          "base_uri": "https://localhost:8080/"
        },
        "id": "HXo-AzZq-2Cz",
        "outputId": "e0b0b5c6-5273-446b-dad3-741b3852d7ca"
      },
      "outputs": [
        {
          "output_type": "stream",
          "name": "stdout",
          "text": [
            "Epoch 1/15\n",
            "24/24 [==============================] - 32s 818ms/step - loss: 2.8253 - accuracy: 0.7743 - val_loss: 2.3467 - val_accuracy: 0.8685\n",
            "Epoch 2/15\n",
            "24/24 [==============================] - 17s 706ms/step - loss: 2.0278 - accuracy: 0.8845 - val_loss: 1.7244 - val_accuracy: 0.9019\n",
            "Epoch 3/15\n",
            "24/24 [==============================] - 17s 700ms/step - loss: 1.4610 - accuracy: 0.9067 - val_loss: 1.2500 - val_accuracy: 0.8954\n",
            "Epoch 4/15\n",
            "24/24 [==============================] - 17s 702ms/step - loss: 1.0080 - accuracy: 0.9155 - val_loss: 0.8081 - val_accuracy: 0.9278\n",
            "Epoch 5/15\n",
            "24/24 [==============================] - 17s 708ms/step - loss: 0.6699 - accuracy: 0.9216 - val_loss: 0.5493 - val_accuracy: 0.9278\n",
            "Epoch 6/15\n",
            "24/24 [==============================] - 17s 713ms/step - loss: 0.4528 - accuracy: 0.9239 - val_loss: 0.3880 - val_accuracy: 0.9324\n",
            "Epoch 7/15\n",
            "24/24 [==============================] - 17s 710ms/step - loss: 0.3305 - accuracy: 0.9315 - val_loss: 0.3513 - val_accuracy: 0.9287\n",
            "Epoch 8/15\n",
            "24/24 [==============================] - 17s 710ms/step - loss: 0.2993 - accuracy: 0.9361 - val_loss: 0.3054 - val_accuracy: 0.9324\n",
            "Epoch 9/15\n",
            "24/24 [==============================] - 17s 706ms/step - loss: 0.2891 - accuracy: 0.9350 - val_loss: 0.3009 - val_accuracy: 0.9324\n",
            "Epoch 10/15\n",
            "24/24 [==============================] - 17s 706ms/step - loss: 0.2689 - accuracy: 0.9433 - val_loss: 0.2877 - val_accuracy: 0.9370\n",
            "Epoch 11/15\n",
            "24/24 [==============================] - 17s 708ms/step - loss: 0.2503 - accuracy: 0.9497 - val_loss: 0.3072 - val_accuracy: 0.9259\n",
            "Epoch 12/15\n",
            "24/24 [==============================] - 17s 709ms/step - loss: 0.2437 - accuracy: 0.9523 - val_loss: 0.3149 - val_accuracy: 0.9204\n",
            "Epoch 13/15\n",
            "24/24 [==============================] - 17s 709ms/step - loss: 0.2456 - accuracy: 0.9477 - val_loss: 0.2750 - val_accuracy: 0.9389\n",
            "Epoch 14/15\n",
            "24/24 [==============================] - 17s 707ms/step - loss: 0.2306 - accuracy: 0.9552 - val_loss: 0.2849 - val_accuracy: 0.9370\n",
            "Epoch 15/15\n",
            "24/24 [==============================] - 17s 707ms/step - loss: 0.2161 - accuracy: 0.9618 - val_loss: 0.2856 - val_accuracy: 0.9333\n"
          ]
        }
      ],
      "source": [
        "history = model.fit(text_train,label_train,validation_split=0.15,epochs=15,batch_size=256)"
      ]
    },
    {
      "cell_type": "code",
      "execution_count": null,
      "metadata": {
        "id": "dYObTPSr_6tZ"
      },
      "outputs": [],
      "source": [
        "pred = model.predict(text_test)"
      ]
    },
    {
      "cell_type": "code",
      "execution_count": null,
      "metadata": {
        "id": "Aph-0zqm_-J1"
      },
      "outputs": [],
      "source": [
        "pred_bin = [1 if pr[0]>=0.5 else 0 for pr in pred  ]"
      ]
    },
    {
      "cell_type": "code",
      "execution_count": null,
      "metadata": {
        "colab": {
          "base_uri": "https://localhost:8080/"
        },
        "id": "7HtDJFOUAEE4",
        "outputId": "46d3544f-376a-4f4a-c41f-0498ae201b92"
      },
      "outputs": [
        {
          "output_type": "execute_result",
          "data": {
            "text/plain": [
              "0.9311111111111111"
            ]
          },
          "metadata": {},
          "execution_count": 35
        }
      ],
      "source": [
        "from sklearn.metrics import accuracy_score, f1_score,recall_score,precision_score\n",
        "accuracy_score(pred_bin,label_test)"
      ]
    },
    {
      "cell_type": "code",
      "execution_count": null,
      "metadata": {
        "colab": {
          "base_uri": "https://localhost:8080/",
          "height": 159
        },
        "id": "5fap0O42bR9P",
        "outputId": "02439089-6832-4eff-c313-7d55b8f67e92"
      },
      "outputs": [
        {
          "output_type": "display_data",
          "data": {
            "text/plain": [
              "<Figure size 432x288 with 1 Axes>"
            ],
            "image/png": "[encoded data removed]"
          },
          "metadata": {
            "needs_background": "light"
          }
        },
        {
          "output_type": "display_data",
          "data": {
            "text/plain": [
              "<Figure size 432x288 with 0 Axes>"
            ]
          },
          "metadata": {}
        }
      ],
      "source": [
        "from matplotlib import pyplot as plt\n",
        "\n",
        "plt.plot(history.history['loss'], label='train loss')\n",
        "plt.plot(history.history['val_loss'], label='val loss')\n",
        "plt.legend()\n",
        "plt.show()\n",
        "plt.savefig('loss')"
      ]
    },
    {
      "cell_type": "code",
      "execution_count": null,
      "metadata": {
        "id": "Kp9sBFdWZiOp"
      },
      "outputs": [],
      "source": [
        "model.save('/content/drive/MyDrive/Trip_model_sentimentv2_withoutCuda.h5')"
      ]
    },
    {
      "cell_type": "code",
      "execution_count": null,
      "metadata": {
        "id": "XhYh8dpxGafa"
      },
      "outputs": [],
      "source": [
        ""
      ]
    }
  ],
  "metadata": {
    "accelerator": "GPU",
    "colab": {
      "collapsed_sections": [],
      "name": "bert_feat_extraction.ipynb",
      "provenance": []
    },
    "kernelspec": {
      "display_name": "Python 3",
      "name": "python3"
    },
    "language_info": {
      "name": "python"
    }
  },
  "nbformat": 4,
  "nbformat_minor": 0
}