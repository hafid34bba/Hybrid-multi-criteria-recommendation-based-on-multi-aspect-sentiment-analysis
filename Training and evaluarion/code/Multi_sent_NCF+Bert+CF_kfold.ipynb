{
  "nbformat": 4,
  "nbformat_minor": 0,
  "metadata": {
    "colab": {
      "name": "Multi NCF+Bert+CF_kfold.ipynb",
      "provenance": [],
      "collapsed_sections": []
    },
    "kernelspec": {
      "name": "python3",
      "display_name": "Python 3"
    },
    "language_info": {
      "name": "python"
    },
    "accelerator": "GPU"
  },
  "cells": [
    {
      "cell_type": "code",
      "execution_count": null,
      "metadata": {
        "id": "XnImRD1f8IYh"
      },
      "outputs": [],
      "source": [
        "import tensorflow as tf\n",
        "from tensorflow.keras.layers import Embedding, Dense, Input, Flatten, concatenate,LSTM,Dropout\n",
        "from tensorflow.keras.models import Model\n",
        "import pandas as pd\n",
        "import numpy as np\n",
        "from sklearn.preprocessing import OrdinalEncoder\n",
        "from keras.preprocessing.text import Tokenizer\n",
        "from keras.preprocessing.sequence import pad_sequences"
      ]
    },
    {
      "cell_type": "code",
      "source": [
        "def ncf_model(arch):\n",
        "  user_input = Input(shape=(1,), name = 'user_input')\n",
        "  embed_user = Embedding(input_dim=nb_users, output_dim=64, input_length=1)(user_input)\n",
        "  embed_user = Flatten()(embed_user)\n",
        "\n",
        "\n",
        "  hotel_input = Input(shape=(1,), name = 'item_input')\n",
        "  embed_hotel = Embedding(input_dim=nb_hotels, output_dim=64, input_length=1)(hotel_input)\n",
        "  embed_hotel = Flatten()(embed_hotel)\n",
        "\n",
        "  layers0 = concatenate([embed_user,embed_hotel])\n",
        "\n",
        "  if len(arch)>1:\n",
        "\n",
        "    hidden = Dense(arch[0],activation='relu')(layers0)\n",
        "\n",
        "    for j in range(1,len(arch)):\n",
        "      hidden = Dense(arch[j],activation='relu')(hidden)\n",
        "  else:\n",
        "    hidden = Dense(8,activation='relu')(layers0) \n",
        "\n",
        "  out = Dense(5)(hidden)\n",
        "  model = Model(inputs=[user_input, hotel_input], \n",
        "                  outputs=out)\n",
        "  \n",
        "  model.compile(optimizer='adam',loss='mae',metrics=['mae'])\n",
        "\n",
        "  return model"
      ],
      "metadata": {
        "id": "fK9CrgXjrcIf"
      },
      "execution_count": null,
      "outputs": []
    },
    {
      "cell_type": "code",
      "source": [
        "df = pd.DataFrame(data={'alpha':[],'beta':[],\t'mean mae':[],\t'mae_cleanliness':[],\n",
        "                        'mae_location':[],'mae_rooms':[],'mae_service':[],'mae_sleep':[],'mae_value':[],\t\n",
        "                        'mean rmse':[], 'rmse_cleanliness':[],'rmse_location':[],'rmse_rooms':[],\t\n",
        "                        'rmse_service':[],'rmse_sleep':[],'rmse_value':[]})\n",
        "df"
      ],
      "metadata": {
        "colab": {
          "base_uri": "https://localhost:8080/",
          "height": 131
        },
        "id": "bkytjAUbU-J5",
        "outputId": "2c9fa7f0-2f58-4803-efbb-66e9eb4eea23"
      },
      "execution_count": null,
      "outputs": [
        {
          "output_type": "execute_result",
          "data": {
            "text/plain": [
              "Empty DataFrame\n",
              "Columns: [alpha, beta, mean mae, mae_cleanliness, mae_location, mae_rooms, mae_service, mae_sleep, mae_value, mean rmse, rmse_cleanliness, rmse_location, rmse_rooms, rmse_service, rmse_sleep, rmse_value]\n",
              "Index: []"
            ],
            "text/html": [
              "\n",
              "  <div id=\"df-34829b0c-2772-4a90-8aa8-54c3777bf204\">\n",
              "    <div class=\"colab-df-container\">\n",
              "      <div>\n",
              "<style scoped>\n",
              "    .dataframe tbody tr th:only-of-type {\n",
              "        vertical-align: middle;\n",
              "    }\n",
              "\n",
              "    .dataframe tbody tr th {\n",
              "        vertical-align: top;\n",
              "    }\n",
              "\n",
              "    .dataframe thead th {\n",
              "        text-align: right;\n",
              "    }\n",
              "</style>\n",
              "<table border=\"1\" class=\"dataframe\">\n",
              "  <thead>\n",
              "    <tr style=\"text-align: right;\">\n",
              "      <th></th>\n",
              "      <th>alpha</th>\n",
              "      <th>beta</th>\n",
              "      <th>mean mae</th>\n",
              "      <th>mae_cleanliness</th>\n",
              "      <th>mae_location</th>\n",
              "      <th>mae_rooms</th>\n",
              "      <th>mae_service</th>\n",
              "      <th>mae_sleep</th>\n",
              "      <th>mae_value</th>\n",
              "      <th>mean rmse</th>\n",
              "      <th>rmse_cleanliness</th>\n",
              "      <th>rmse_location</th>\n",
              "      <th>rmse_rooms</th>\n",
              "      <th>rmse_service</th>\n",
              "      <th>rmse_sleep</th>\n",
              "      <th>rmse_value</th>\n",
              "    </tr>\n",
              "  </thead>\n",
              "  <tbody>\n",
              "  </tbody>\n",
              "</table>\n",
              "</div>\n",
              "      <button class=\"colab-df-convert\" onclick=\"convertToInteractive('df-34829b0c-2772-4a90-8aa8-54c3777bf204')\"\n",
              "              title=\"Convert this dataframe to an interactive table.\"\n",
              "              style=\"display:none;\">\n",
              "        \n",
              "  <svg xmlns=\"http://www.w3.org/2000/svg\" height=\"24px\"viewBox=\"0 0 24 24\"\n",
              "       width=\"24px\">\n",
              "    <path d=\"M0 0h24v24H0V0z\" fill=\"none\"/>\n",
              "    <path d=\"M18.56 5.44l.94 2.06.94-2.06 2.06-.94-2.06-.94-.94-2.06-.94 2.06-2.06.94zm-11 1L8.5 8.5l.94-2.06 2.06-.94-2.06-.94L8.5 2.5l-.94 2.06-2.06.94zm10 10l.94 2.06.94-2.06 2.06-.94-2.06-.94-.94-2.06-.94 2.06-2.06.94z\"/><path d=\"M17.41 7.96l-1.37-1.37c-.4-.4-.92-.59-1.43-.59-.52 0-1.04.2-1.43.59L10.3 9.45l-7.72 7.72c-.78.78-.78 2.05 0 2.83L4 21.41c.39.39.9.59 1.41.59.51 0 1.02-.2 1.41-.59l7.78-7.78 2.81-2.81c.8-.78.8-2.07 0-2.86zM5.41 20L4 18.59l7.72-7.72 1.47 1.35L5.41 20z\"/>\n",
              "  </svg>\n",
              "      </button>\n",
              "      \n",
              "  <style>\n",
              "    .colab-df-container {\n",
              "      display:flex;\n",
              "      flex-wrap:wrap;\n",
              "      gap: 12px;\n",
              "    }\n",
              "\n",
              "    .colab-df-convert {\n",
              "      background-color: #E8F0FE;\n",
              "      border: none;\n",
              "      border-radius: 50%;\n",
              "      cursor: pointer;\n",
              "      display: none;\n",
              "      fill: #1967D2;\n",
              "      height: 32px;\n",
              "      padding: 0 0 0 0;\n",
              "      width: 32px;\n",
              "    }\n",
              "\n",
              "    .colab-df-convert:hover {\n",
              "      background-color: #E2EBFA;\n",
              "      box-shadow: 0px 1px 2px rgba(60, 64, 67, 0.3), 0px 1px 3px 1px rgba(60, 64, 67, 0.15);\n",
              "      fill: #174EA6;\n",
              "    }\n",
              "\n",
              "    [theme=dark] .colab-df-convert {\n",
              "      background-color: #3B4455;\n",
              "      fill: #D2E3FC;\n",
              "    }\n",
              "\n",
              "    [theme=dark] .colab-df-convert:hover {\n",
              "      background-color: #434B5C;\n",
              "      box-shadow: 0px 1px 3px 1px rgba(0, 0, 0, 0.15);\n",
              "      filter: drop-shadow(0px 1px 2px rgba(0, 0, 0, 0.3));\n",
              "      fill: #FFFFFF;\n",
              "    }\n",
              "  </style>\n",
              "\n",
              "      <script>\n",
              "        const buttonEl =\n",
              "          document.querySelector('#df-34829b0c-2772-4a90-8aa8-54c3777bf204 button.colab-df-convert');\n",
              "        buttonEl.style.display =\n",
              "          google.colab.kernel.accessAllowed ? 'block' : 'none';\n",
              "\n",
              "        async function convertToInteractive(key) {\n",
              "          const element = document.querySelector('#df-34829b0c-2772-4a90-8aa8-54c3777bf204');\n",
              "          const dataTable =\n",
              "            await google.colab.kernel.invokeFunction('convertToInteractive',\n",
              "                                                     [key], {});\n",
              "          if (!dataTable) return;\n",
              "\n",
              "          const docLinkHtml = 'Like what you see? Visit the ' +\n",
              "            '<a target=\"_blank\" href=https://colab.research.google.com/notebooks/data_table.ipynb>data table notebook</a>'\n",
              "            + ' to learn more about interactive tables.';\n",
              "          element.innerHTML = '';\n",
              "          dataTable['output_type'] = 'display_data';\n",
              "          await google.colab.output.renderOutput(dataTable, element);\n",
              "          const docLink = document.createElement('div');\n",
              "          docLink.innerHTML = docLinkHtml;\n",
              "          element.appendChild(docLink);\n",
              "        }\n",
              "      </script>\n",
              "    </div>\n",
              "  </div>\n",
              "  "
            ]
          },
          "metadata": {},
          "execution_count": 3
        }
      ]
    },
    {
      "cell_type": "code",
      "source": [
        "from sklearn.model_selection import KFold\n",
        "from sklearn.metrics import mean_squared_error as mse\n",
        "from sklearn.metrics import mean_absolute_error as mae\n",
        "from sklearn.neighbors import DistanceMetric\n",
        "kf = KFold(n_splits=5,random_state=24,shuffle=True)\n",
        "from sklearn.metrics.pairwise import cosine_similarity\n",
        "\n",
        "\n",
        "dist = DistanceMetric.get_metric('hamming')\n",
        "\n",
        "\n",
        "\n",
        "\n",
        "value_alpha = [0.7,0.5,0.3]\n",
        "dic_alpha = {}\n",
        "for alpha in value_alpha:\n",
        "\n",
        "        dic_alpha[alpha] = {}\n",
        "        dic_alpha[alpha]['mae_clean'] = []\n",
        "        dic_alpha[alpha]['mae_location'] = []\n",
        "        dic_alpha[alpha]['mae_rooms'] = []\n",
        "        dic_alpha[alpha]['mae_service'] = []\n",
        "        dic_alpha[alpha]['mae_value'] = []\n",
        "        dic_alpha[alpha]['mae_mean'] = []\n",
        "\n",
        "        dic_alpha[alpha]['rmse_clean'] = []\n",
        "        dic_alpha[alpha]['rmse_location'] = []\n",
        "        dic_alpha[alpha]['rmse_rooms'] = []\n",
        "        dic_alpha[alpha]['rmse_service'] = []\n",
        "        dic_alpha[alpha]['rmse_value'] = []\n",
        "        dic_alpha[alpha]['rmse_mean'] = []\n",
        "k=7\n",
        "for i in range(1,6):\n",
        "    pred_Bert_cf = []\n",
        "    train_data = pd.read_csv('/content/drive/MyDrive/Trip_multi_fold_with_sentiment'+str(i)+'_train.csv')\n",
        "    test_data = pd.read_csv('/content/drive/MyDrive/Trip_multi_fold_with_sentiment'+str(i)+'_test.csv')\n",
        "    train_data.shape , test_data.shape\n",
        "    nb_users = int(max(train_data.user_id.unique())) +1\n",
        "    nb_hotels = int(max(train_data.offering_id.unique())) +1\n",
        "    nb_users, nb_hotels\n",
        "\n",
        "    ncf = ncf_model([128,64,32,16,8])\n",
        "\n",
        "    y = train_data[['cleanliness','location','rooms','service','value']].values\n",
        "    y_test = test_data[['cleanliness','location','rooms','service','value']].values\n",
        "    callback = tf.keras.callbacks.EarlyStopping(monitor='val_loss', patience=3)\n",
        "    ncf.fit([train_data.user_id.values,train_data.offering_id.values],y,validation_split=0.1,callbacks=[callback],\n",
        "              \n",
        "              epochs=20,batch_size=128)\n",
        "    ncf_pred = ncf.predict([test_data.user_id.values,test_data.offering_id.values])\n",
        "    cmp=0\n",
        "    for idx,row in test_data.iterrows():\n",
        "      cmp+=1\n",
        "      precedent_data = train_data[train_data['user_id']==row['user_id']]\n",
        "      precedent_hotels = precedent_data.offering_id.values\n",
        "      prcd_reviews = precedent_data[['cleanliness_sent','location_sent','rooms_sent','service_sent',\n",
        "                                         'value_sent']].values\n",
        "      hotel_id = row['offering_id']\n",
        "      \n",
        "      if hotel_id in train_data.offering_id.values:\n",
        "        precedent_data = train_data[train_data['user_id']==row['user_id']]\n",
        "\n",
        "        if precedent_data.shape[0] > 0:\n",
        "\n",
        "          precedent_hotels = precedent_data.offering_id.values\n",
        "          prcd_reviews = precedent_data[['cleanliness_sent','location_sent','rooms_sent','service_sent',\n",
        "                                         'value_sent']].values\n",
        "          \n",
        "        \n",
        "          prcedent_data_sentiment_review = {}\n",
        "          for h_id,rev in zip(precedent_hotels,prcd_reviews):\n",
        "            \n",
        "            \n",
        "            prcedent_data_sentiment_review[h_id] = rev.mean()\n",
        "            \n",
        "          \n",
        "          user = row['user_id']\n",
        "\n",
        "          maybe_sim_users = []\n",
        "          sim = {}\n",
        "          if cmp%100==0:\n",
        "            print('rest',test_data.shape[0] - cmp)\n",
        "\n",
        "          users = train_data[train_data['offering_id']==hotel_id].user_id.unique()\n",
        "          for user1 in users:\n",
        "            if (user1 != user):\n",
        "              \n",
        "\n",
        "              user1_data = train_data[train_data['user_id']==user1]\n",
        "              sim_items = set(precedent_hotels).intersection(set(user1_data.offering_id.values))\n",
        "              if len(sim_items) > 0:\n",
        "                  \n",
        "                  maybe_sim_users.append(user1)\n",
        "                \n",
        "                  user_rat = []\n",
        "                  user1_rat = []\n",
        "                  for item in sim_items:\n",
        "                    \n",
        "                    user_rat.append(prcedent_data_sentiment_review[item])\n",
        "\n",
        "                  \n",
        "                    rev = user1_data[user1_data['offering_id']==item][['cleanliness_sent','location_sent','rooms_sent','service_sent',\n",
        "                                         'value_sent']].values\n",
        "                    \n",
        "                    \n",
        "                    user1_rat.append(rev[0].mean())\n",
        "                  \n",
        "                  if  1 - abs(cosine_similarity([user_rat],[user1_rat])[0][0]) > 0.5:        \n",
        "                    sim[user1] = 1 - abs(cosine_similarity([user_rat],[user1_rat])[0][0])\n",
        "          \n",
        "          if len(sim.keys())>0: #similar users\n",
        "            rat = [0.0,0.0,0.0,0.0,0.0]\n",
        "            sum_sim = 0.0\n",
        "            for user1 in list(sim.keys())[:k]:\n",
        "              rat += sim[user1] * train_data[(train_data['user_id']==user1) & (train_data['offering_id']==hotel_id ) ][['cleanliness','location','rooms','service','value']].values[0]\n",
        "              sum_sim+= sim[user1]\n",
        "            rat = rat / sum_sim\n",
        "          \n",
        "          \n",
        "          else : #no similar users\n",
        "            rat = [0.0,0.0,0.0,0.0,0.0]\n",
        "            for i,col in zip([0,1,2,3,4],['cleanliness','location','rooms','service','value']):\n",
        "              rat[i] = np.mean(train_data[train_data['offering_id']==hotel_id][[col]].values)\n",
        "          \n",
        "        else: #new_user\n",
        "            rat = [0.0,0.0,0.0,0.0,0.0]\n",
        "            for i,col in zip([0,1,2,3,4],['cleanliness','location','rooms','service','value']):\n",
        "              rat[i] = np.mean(train_data[train_data['offering_id']==hotel_id][[col]].values)  \n",
        "\n",
        "      elif train_data[train_data['user_id']==row['user_id']].shape[0]>0: #new_item\n",
        "        rat = [0.0,0.0,0.0,0.0,0.0]\n",
        "        for i,col in zip([0,1,2,3,4],['cleanliness','location','rooms','service','value']):\n",
        "            rat[i] = np.mean(precedent_data[[col]].values)\n",
        "      else: #new_user , new_item\n",
        "        #rnd_petubation = random.uniform(-1,1)\n",
        "        #val = rnd_petubation + 3.0\n",
        "        rat = [3.0,3.0,3.0,3.0,3.0]\n",
        "      pred_Bert_cf.append(rat.copy())\n",
        "\n",
        "    pred_Bert_cf = np.array(pred_Bert_cf)\n",
        "\n",
        "    \n",
        "    for alpha in value_alpha:\n",
        "      pred = alpha*ncf_pred + (1-alpha)*pred_Bert_cf\n",
        "      pred = np.array(pred)\n",
        "      dic_alpha[alpha]['mae_clean'].append(mae(pred[:,0],y_test[:,0]))\n",
        "      dic_alpha[alpha]['mae_location'].append(mae(pred[:,1],y_test[:,1]))\n",
        "      dic_alpha[alpha]['mae_rooms'].append(mae(pred[:,2],y_test[:,2]))\n",
        "      dic_alpha[alpha]['mae_service'].append(mae(pred[:,3],y_test[:,3]))\n",
        "      dic_alpha[alpha]['mae_value'].append(mae(pred[:,4],y_test[:,4]))\n",
        "      dic_alpha[alpha]['mae_mean'].append(mae(pred,y_test))\n",
        "\n",
        "      dic_alpha[alpha]['rmse_clean'].append(mse(pred[:,0],y_test[:,0],squared=False))\n",
        "      dic_alpha[alpha]['rmse_location'].append(mse(pred[:,1],y_test[:,1],squared=False))\n",
        "      dic_alpha[alpha]['rmse_rooms'].append(mse(pred[:,2],y_test[:,2],squared=False))\n",
        "      dic_alpha[alpha]['rmse_service'].append(mse(pred[:,3],y_test[:,3],squared=False))\n",
        "      dic_alpha[alpha]['rmse_value'].append(mse(pred[:,4],y_test[:,4],squared=False))\n",
        "      dic_alpha[alpha]['rmse_mean'].append(mse(pred,y_test,squared=False))\n",
        "      \n",
        "\n",
        " \n",
        "      \n",
        "    \n",
        "\n",
        "\n",
        "    \n",
        "\n",
        "\n"
      ],
      "metadata": {
        "colab": {
          "base_uri": "https://localhost:8080/",
          "height": 1000
        },
        "id": "uYa70miF8yct",
        "outputId": "516c60d6-58de-469f-ea6c-0a3c104a41d3"
      },
      "execution_count": null,
      "outputs": [
        {
          "output_type": "stream",
          "name": "stderr",
          "text": [
            "/usr/local/lib/python3.7/dist-packages/sklearn/neighbors/_distance_metric.py:14: FutureWarning: sklearn.neighbors.DistanceMetric has been moved to sklearn.metrics.DistanceMetric in 1.0. This import path will be removed in 1.3\n",
            "  category=FutureWarning,\n"
          ]
        },
        {
          "output_type": "stream",
          "name": "stdout",
          "text": [
            "Epoch 1/20\n",
            "55/55 [==============================] - 2s 15ms/step - loss: 3.6253 - mae: 3.6253 - val_loss: 1.7331 - val_mae: 1.7331\n",
            "Epoch 2/20\n",
            "55/55 [==============================] - 0s 9ms/step - loss: 1.2168 - mae: 1.2168 - val_loss: 1.1014 - val_mae: 1.1014\n",
            "Epoch 3/20\n",
            "55/55 [==============================] - 0s 8ms/step - loss: 0.7462 - mae: 0.7462 - val_loss: 1.0335 - val_mae: 1.0335\n",
            "Epoch 4/20\n",
            "55/55 [==============================] - 0s 7ms/step - loss: 0.6979 - mae: 0.6979 - val_loss: 0.9948 - val_mae: 0.9948\n",
            "Epoch 5/20\n",
            "55/55 [==============================] - 0s 6ms/step - loss: 0.6774 - mae: 0.6774 - val_loss: 0.9973 - val_mae: 0.9973\n",
            "Epoch 6/20\n",
            "55/55 [==============================] - 0s 6ms/step - loss: 0.6641 - mae: 0.6641 - val_loss: 1.0075 - val_mae: 1.0075\n",
            "Epoch 7/20\n",
            "55/55 [==============================] - 0s 6ms/step - loss: 0.6561 - mae: 0.6561 - val_loss: 0.9948 - val_mae: 0.9948\n",
            "Epoch 8/20\n",
            "55/55 [==============================] - 0s 6ms/step - loss: 0.6470 - mae: 0.6470 - val_loss: 0.9246 - val_mae: 0.9246\n",
            "Epoch 9/20\n",
            "55/55 [==============================] - 0s 6ms/step - loss: 0.6394 - mae: 0.6394 - val_loss: 0.9488 - val_mae: 0.9488\n",
            "Epoch 10/20\n",
            "55/55 [==============================] - 0s 5ms/step - loss: 0.6244 - mae: 0.6244 - val_loss: 0.9471 - val_mae: 0.9471\n",
            "Epoch 11/20\n",
            "55/55 [==============================] - 0s 5ms/step - loss: 0.6062 - mae: 0.6062 - val_loss: 0.9105 - val_mae: 0.9105\n",
            "Epoch 12/20\n",
            "55/55 [==============================] - 0s 5ms/step - loss: 0.5864 - mae: 0.5864 - val_loss: 0.9275 - val_mae: 0.9275\n",
            "Epoch 13/20\n",
            "55/55 [==============================] - 0s 6ms/step - loss: 0.5642 - mae: 0.5642 - val_loss: 0.9234 - val_mae: 0.9234\n",
            "Epoch 14/20\n",
            "55/55 [==============================] - 0s 6ms/step - loss: 0.5436 - mae: 0.5436 - val_loss: 0.9258 - val_mae: 0.9258\n"
          ]
        },
        {
          "output_type": "error",
          "ename": "InvalidArgumentError",
          "evalue": "ignored",
          "traceback": [
            "\u001b[0;31m---------------------------------------------------------------------------\u001b[0m",
            "\u001b[0;31mInvalidArgumentError\u001b[0m                      Traceback (most recent call last)",
            "\u001b[0;32m<ipython-input-6-b38ab5391706>\u001b[0m in \u001b[0;36m<module>\u001b[0;34m()\u001b[0m\n\u001b[1;32m     48\u001b[0m \u001b[0;34m\u001b[0m\u001b[0m\n\u001b[1;32m     49\u001b[0m               epochs=20,batch_size=128)\n\u001b[0;32m---> 50\u001b[0;31m     \u001b[0mncf_pred\u001b[0m \u001b[0;34m=\u001b[0m \u001b[0mncf\u001b[0m\u001b[0;34m.\u001b[0m\u001b[0mpredict\u001b[0m\u001b[0;34m(\u001b[0m\u001b[0;34m[\u001b[0m\u001b[0mtest_data\u001b[0m\u001b[0;34m.\u001b[0m\u001b[0muser_id\u001b[0m\u001b[0;34m.\u001b[0m\u001b[0mvalues\u001b[0m\u001b[0;34m,\u001b[0m\u001b[0mtest_data\u001b[0m\u001b[0;34m.\u001b[0m\u001b[0moffering_id\u001b[0m\u001b[0;34m.\u001b[0m\u001b[0mvalues\u001b[0m\u001b[0;34m]\u001b[0m\u001b[0;34m)\u001b[0m\u001b[0;34m\u001b[0m\u001b[0;34m\u001b[0m\u001b[0m\n\u001b[0m\u001b[1;32m     51\u001b[0m     \u001b[0mcmp\u001b[0m\u001b[0;34m=\u001b[0m\u001b[0;36m0\u001b[0m\u001b[0;34m\u001b[0m\u001b[0;34m\u001b[0m\u001b[0m\n\u001b[1;32m     52\u001b[0m     \u001b[0;32mfor\u001b[0m \u001b[0midx\u001b[0m\u001b[0;34m,\u001b[0m\u001b[0mrow\u001b[0m \u001b[0;32min\u001b[0m \u001b[0mtest_data\u001b[0m\u001b[0;34m.\u001b[0m\u001b[0miterrows\u001b[0m\u001b[0;34m(\u001b[0m\u001b[0;34m)\u001b[0m\u001b[0;34m:\u001b[0m\u001b[0;34m\u001b[0m\u001b[0;34m\u001b[0m\u001b[0m\n",
            "\u001b[0;32m/usr/local/lib/python3.7/dist-packages/keras/utils/traceback_utils.py\u001b[0m in \u001b[0;36merror_handler\u001b[0;34m(*args, **kwargs)\u001b[0m\n\u001b[1;32m     65\u001b[0m     \u001b[0;32mexcept\u001b[0m \u001b[0mException\u001b[0m \u001b[0;32mas\u001b[0m \u001b[0me\u001b[0m\u001b[0;34m:\u001b[0m  \u001b[0;31m# pylint: disable=broad-except\u001b[0m\u001b[0;34m\u001b[0m\u001b[0;34m\u001b[0m\u001b[0m\n\u001b[1;32m     66\u001b[0m       \u001b[0mfiltered_tb\u001b[0m \u001b[0;34m=\u001b[0m \u001b[0m_process_traceback_frames\u001b[0m\u001b[0;34m(\u001b[0m\u001b[0me\u001b[0m\u001b[0;34m.\u001b[0m\u001b[0m__traceback__\u001b[0m\u001b[0;34m)\u001b[0m\u001b[0;34m\u001b[0m\u001b[0;34m\u001b[0m\u001b[0m\n\u001b[0;32m---> 67\u001b[0;31m       \u001b[0;32mraise\u001b[0m \u001b[0me\u001b[0m\u001b[0;34m.\u001b[0m\u001b[0mwith_traceback\u001b[0m\u001b[0;34m(\u001b[0m\u001b[0mfiltered_tb\u001b[0m\u001b[0;34m)\u001b[0m \u001b[0;32mfrom\u001b[0m \u001b[0;32mNone\u001b[0m\u001b[0;34m\u001b[0m\u001b[0;34m\u001b[0m\u001b[0m\n\u001b[0m\u001b[1;32m     68\u001b[0m     \u001b[0;32mfinally\u001b[0m\u001b[0;34m:\u001b[0m\u001b[0;34m\u001b[0m\u001b[0;34m\u001b[0m\u001b[0m\n\u001b[1;32m     69\u001b[0m       \u001b[0;32mdel\u001b[0m \u001b[0mfiltered_tb\u001b[0m\u001b[0;34m\u001b[0m\u001b[0;34m\u001b[0m\u001b[0m\n",
            "\u001b[0;32m/usr/local/lib/python3.7/dist-packages/tensorflow/python/eager/execute.py\u001b[0m in \u001b[0;36mquick_execute\u001b[0;34m(op_name, num_outputs, inputs, attrs, ctx, name)\u001b[0m\n\u001b[1;32m     53\u001b[0m     \u001b[0mctx\u001b[0m\u001b[0;34m.\u001b[0m\u001b[0mensure_initialized\u001b[0m\u001b[0;34m(\u001b[0m\u001b[0;34m)\u001b[0m\u001b[0;34m\u001b[0m\u001b[0;34m\u001b[0m\u001b[0m\n\u001b[1;32m     54\u001b[0m     tensors = pywrap_tfe.TFE_Py_Execute(ctx._handle, device_name, op_name,\n\u001b[0;32m---> 55\u001b[0;31m                                         inputs, attrs, num_outputs)\n\u001b[0m\u001b[1;32m     56\u001b[0m   \u001b[0;32mexcept\u001b[0m \u001b[0mcore\u001b[0m\u001b[0;34m.\u001b[0m\u001b[0m_NotOkStatusException\u001b[0m \u001b[0;32mas\u001b[0m \u001b[0me\u001b[0m\u001b[0;34m:\u001b[0m\u001b[0;34m\u001b[0m\u001b[0;34m\u001b[0m\u001b[0m\n\u001b[1;32m     57\u001b[0m     \u001b[0;32mif\u001b[0m \u001b[0mname\u001b[0m \u001b[0;32mis\u001b[0m \u001b[0;32mnot\u001b[0m \u001b[0;32mNone\u001b[0m\u001b[0;34m:\u001b[0m\u001b[0;34m\u001b[0m\u001b[0;34m\u001b[0m\u001b[0m\n",
            "\u001b[0;31mInvalidArgumentError\u001b[0m: Graph execution error:\n\nDetected at node 'model_1/embedding_4/embedding_lookup' defined at (most recent call last):\n    File \"/usr/lib/python3.7/runpy.py\", line 193, in _run_module_as_main\n      \"__main__\", mod_spec)\n    File \"/usr/lib/python3.7/runpy.py\", line 85, in _run_code\n      exec(code, run_globals)\n    File \"/usr/local/lib/python3.7/dist-packages/ipykernel_launcher.py\", line 16, in <module>\n      app.launch_new_instance()\n    File \"/usr/local/lib/python3.7/dist-packages/traitlets/config/application.py\", line 965, in launch_instance\n      app.start()\n    File \"/usr/local/lib/python3.7/dist-packages/ipykernel/kernelapp.py\", line 499, in start\n      self.io_loop.start()\n    File \"/usr/local/lib/python3.7/dist-packages/tornado/platform/asyncio.py\", line 132, in start\n      self.asyncio_loop.run_forever()\n    File \"/usr/lib/python3.7/asyncio/base_events.py\", line 541, in run_forever\n      self._run_once()\n    File \"/usr/lib/python3.7/asyncio/base_events.py\", line 1786, in _run_once\n      handle._run()\n    File \"/usr/lib/python3.7/asyncio/events.py\", line 88, in _run\n      self._context.run(self._callback, *self._args)\n    File \"/usr/local/lib/python3.7/dist-packages/tornado/platform/asyncio.py\", line 122, in _handle_events\n      handler_func(fileobj, events)\n    File \"/usr/local/lib/python3.7/dist-packages/tornado/stack_context.py\", line 300, in null_wrapper\n      return fn(*args, **kwargs)\n    File \"/usr/local/lib/python3.7/dist-packages/zmq/eventloop/zmqstream.py\", line 452, in _handle_events\n      self._handle_recv()\n    File \"/usr/local/lib/python3.7/dist-packages/zmq/eventloop/zmqstream.py\", line 481, in _handle_recv\n      self._run_callback(callback, msg)\n    File \"/usr/local/lib/python3.7/dist-packages/zmq/eventloop/zmqstream.py\", line 431, in _run_callback\n      callback(*args, **kwargs)\n    File \"/usr/local/lib/python3.7/dist-packages/tornado/stack_context.py\", line 300, in null_wrapper\n      return fn(*args, **kwargs)\n    File \"/usr/local/lib/python3.7/dist-packages/ipykernel/kernelbase.py\", line 283, in dispatcher\n      return self.dispatch_shell(stream, msg)\n    File \"/usr/local/lib/python3.7/dist-packages/ipykernel/kernelbase.py\", line 233, in dispatch_shell\n      handler(stream, idents, msg)\n    File \"/usr/local/lib/python3.7/dist-packages/ipykernel/kernelbase.py\", line 399, in execute_request\n      user_expressions, allow_stdin)\n    File \"/usr/local/lib/python3.7/dist-packages/ipykernel/ipkernel.py\", line 208, in do_execute\n      res = shell.run_cell(code, store_history=store_history, silent=silent)\n    File \"/usr/local/lib/python3.7/dist-packages/ipykernel/zmqshell.py\", line 537, in run_cell\n      return super(ZMQInteractiveShell, self).run_cell(*args, **kwargs)\n    File \"/usr/local/lib/python3.7/dist-packages/IPython/core/interactiveshell.py\", line 2718, in run_cell\n      interactivity=interactivity, compiler=compiler, result=result)\n    File \"/usr/local/lib/python3.7/dist-packages/IPython/core/interactiveshell.py\", line 2822, in run_ast_nodes\n      if self.run_code(code, result):\n    File \"/usr/local/lib/python3.7/dist-packages/IPython/core/interactiveshell.py\", line 2882, in run_code\n      exec(code_obj, self.user_global_ns, self.user_ns)\n    File \"<ipython-input-6-b38ab5391706>\", line 50, in <module>\n      ncf_pred = ncf.predict([test_data.user_id.values,test_data.offering_id.values])\n    File \"/usr/local/lib/python3.7/dist-packages/keras/utils/traceback_utils.py\", line 64, in error_handler\n      return fn(*args, **kwargs)\n    File \"/usr/local/lib/python3.7/dist-packages/keras/engine/training.py\", line 1982, in predict\n      tmp_batch_outputs = self.predict_function(iterator)\n    File \"/usr/local/lib/python3.7/dist-packages/keras/engine/training.py\", line 1801, in predict_function\n      return step_function(self, iterator)\n    File \"/usr/local/lib/python3.7/dist-packages/keras/engine/training.py\", line 1790, in step_function\n      outputs = model.distribute_strategy.run(run_step, args=(data,))\n    File \"/usr/local/lib/python3.7/dist-packages/keras/engine/training.py\", line 1783, in run_step\n      outputs = model.predict_step(data)\n    File \"/usr/local/lib/python3.7/dist-packages/keras/engine/training.py\", line 1751, in predict_step\n      return self(x, training=False)\n    File \"/usr/local/lib/python3.7/dist-packages/keras/utils/traceback_utils.py\", line 64, in error_handler\n      return fn(*args, **kwargs)\n    File \"/usr/local/lib/python3.7/dist-packages/keras/engine/base_layer.py\", line 1096, in __call__\n      outputs = call_fn(inputs, *args, **kwargs)\n    File \"/usr/local/lib/python3.7/dist-packages/keras/utils/traceback_utils.py\", line 92, in error_handler\n      return fn(*args, **kwargs)\n    File \"/usr/local/lib/python3.7/dist-packages/keras/engine/functional.py\", line 452, in call\n      inputs, training=training, mask=mask)\n    File \"/usr/local/lib/python3.7/dist-packages/keras/engine/functional.py\", line 589, in _run_internal_graph\n      outputs = node.layer(*args, **kwargs)\n    File \"/usr/local/lib/python3.7/dist-packages/keras/utils/traceback_utils.py\", line 64, in error_handler\n      return fn(*args, **kwargs)\n    File \"/usr/local/lib/python3.7/dist-packages/keras/engine/base_layer.py\", line 1096, in __call__\n      outputs = call_fn(inputs, *args, **kwargs)\n    File \"/usr/local/lib/python3.7/dist-packages/keras/utils/traceback_utils.py\", line 92, in error_handler\n      return fn(*args, **kwargs)\n    File \"/usr/local/lib/python3.7/dist-packages/keras/layers/embeddings.py\", line 197, in call\n      out = tf.nn.embedding_lookup(self.embeddings, inputs)\nNode: 'model_1/embedding_4/embedding_lookup'\nindices[1,0] = 1984 is not in [0, 1984)\n\t [[{{node model_1/embedding_4/embedding_lookup}}]] [Op:__inference_predict_function_6344]"
          ]
        }
      ]
    },
    {
      "cell_type": "code",
      "source": [
        "dic_alpha"
      ],
      "metadata": {
        "colab": {
          "base_uri": "https://localhost:8080/"
        },
        "id": "tKWDF_bGZ1Qb",
        "outputId": "ae1ff819-666a-440f-afd4-e736b63b681b"
      },
      "execution_count": null,
      "outputs": [
        {
          "output_type": "execute_result",
          "data": {
            "text/plain": [
              "{0.3: {'mae_clean': [0.7592796039544036,\n",
              "   0.7715815132278522,\n",
              "   0.7488192324487385,\n",
              "   0.7314523608935728,\n",
              "   0.7754853478310755],\n",
              "  'mae_location': [0.654607765078873,\n",
              "   0.6505162640413515,\n",
              "   0.6209565010081052,\n",
              "   0.6350054830174534,\n",
              "   0.6471272834233363],\n",
              "  'mae_mean': [0.8217695125886282,\n",
              "   0.8105492172326318,\n",
              "   0.816232960354004,\n",
              "   0.8084991425328752,\n",
              "   0.8263237095252874],\n",
              "  'mae_rooms': [0.8636296602259124,\n",
              "   0.8478529334573639,\n",
              "   0.8765217153829854,\n",
              "   0.8679693939438262,\n",
              "   0.8531290027464798],\n",
              "  'mae_service': [0.8793563814648586,\n",
              "   0.8577878116439701,\n",
              "   0.8900524821443818,\n",
              "   0.8641307332358156,\n",
              "   0.8974968771593379],\n",
              "  'mae_value': [0.9519741522190914,\n",
              "   0.9250075637926174,\n",
              "   0.9448148707858071,\n",
              "   0.9439377415737085,\n",
              "   0.9583800364662052],\n",
              "  'rmse_clean': [1.0483973870114602,\n",
              "   1.072835839788409,\n",
              "   1.0314428120287662,\n",
              "   1.0144309175391124,\n",
              "   1.0643927375754971],\n",
              "  'rmse_location': [0.9091535654563236,\n",
              "   0.9110028878112877,\n",
              "   0.8893965620224181,\n",
              "   0.8915513480458047,\n",
              "   0.908431181432034],\n",
              "  'rmse_mean': [1.0994609313741412,\n",
              "   1.0951936997632792,\n",
              "   1.1020215583962587,\n",
              "   1.084734184292913,\n",
              "   1.1025651185322656],\n",
              "  'rmse_rooms': [1.1196998548814436,\n",
              "   1.1146902419297517,\n",
              "   1.1515173910656191,\n",
              "   1.1352245646140093,\n",
              "   1.1114137533559252],\n",
              "  'rmse_service': [1.1937577556375993,\n",
              "   1.1775015305699923,\n",
              "   1.2162756453398238,\n",
              "   1.1574911196287319,\n",
              "   1.2076064720820656],\n",
              "  'rmse_value': [1.226296093883883,\n",
              "   1.199937998716956,\n",
              "   1.2214753815246693,\n",
              "   1.2249729716369093,\n",
              "   1.2209814482158048]},\n",
              " 0.5: {'mae_clean': [0.756184273937298,\n",
              "   0.7755265129374096,\n",
              "   0.7494314271475879,\n",
              "   0.7275185958619238,\n",
              "   0.7740874722407814],\n",
              "  'mae_location': [0.6632118069506336,\n",
              "   0.6604526020791596,\n",
              "   0.6156714133975819,\n",
              "   0.6353250667637474,\n",
              "   0.6639626362963112],\n",
              "  'mae_mean': [0.8181238747877654,\n",
              "   0.8117515398013213,\n",
              "   0.810475589007147,\n",
              "   0.8036931785089653,\n",
              "   0.826599079338787],\n",
              "  'mae_rooms': [0.8607221133122479,\n",
              "   0.8472869564575861,\n",
              "   0.8784372766935477,\n",
              "   0.8716839124004939,\n",
              "   0.8528759744440839],\n",
              "  'mae_service': [0.8727861527952282,\n",
              "   0.8575358991827017,\n",
              "   0.877031316726983,\n",
              "   0.8516891701886355,\n",
              "   0.8908036611714824],\n",
              "  'mae_value': [0.9377150269434211,\n",
              "   0.9179557283497519,\n",
              "   0.9318065110700311,\n",
              "   0.9322491473300242,\n",
              "   0.9512656525412716],\n",
              "  'rmse_clean': [1.0403386904613665,\n",
              "   1.0751321805941882,\n",
              "   1.0291308164491841,\n",
              "   1.0071645584936013,\n",
              "   1.0667550302023936],\n",
              "  'rmse_location': [0.9086220746769543,\n",
              "   0.917128037850554,\n",
              "   0.882200320748499,\n",
              "   0.8896407933909122,\n",
              "   0.9139783056050658],\n",
              "  'rmse_mean': [1.0899355428479445,\n",
              "   1.0956622307046464,\n",
              "   1.0956651890599303,\n",
              "   1.0771688721790702,\n",
              "   1.1005174652943286],\n",
              "  'rmse_rooms': [1.1116277999742663,\n",
              "   1.1143862707414778,\n",
              "   1.1540988094055142,\n",
              "   1.1341318584348765,\n",
              "   1.109075097403274],\n",
              "  'rmse_service': [1.1814227969927826,\n",
              "   1.1769583469979183,\n",
              "   1.2025403409627575,\n",
              "   1.1437618374388365,\n",
              "   1.1986129778266545],\n",
              "  'rmse_value': [1.2076663521343658,\n",
              "   1.194706317339112,\n",
              "   1.2103556577337153,\n",
              "   1.2111453131371415,\n",
              "   1.2141659154342739]},\n",
              " 0.7: {'mae_clean': [0.7591833936552526,\n",
              "   0.7841320211106219,\n",
              "   0.7567849089346688,\n",
              "   0.7309815819682823,\n",
              "   0.7817667311003133],\n",
              "  'mae_location': [0.6788285082676341,\n",
              "   0.6771161210162071,\n",
              "   0.6178525431883561,\n",
              "   0.6427573080719662,\n",
              "   0.6877732873068355],\n",
              "  'mae_mean': [0.822202283263428,\n",
              "   0.8196034699000709,\n",
              "   0.8134063625455188,\n",
              "   0.8064824486281266,\n",
              "   0.8357392826867492],\n",
              "  'mae_rooms': [0.8657919279532915,\n",
              "   0.8539929610079251,\n",
              "   0.8889861886087604,\n",
              "   0.8811493038241881,\n",
              "   0.862183616304462],\n",
              "  'mae_service': [0.8740555681336059,\n",
              "   0.8627357003773876,\n",
              "   0.8728401349945927,\n",
              "   0.8463864502547295,\n",
              "   0.8930728560608376],\n",
              "  'mae_value': [0.9331520183073627,\n",
              "   0.9200405459882179,\n",
              "   0.9305680370012187,\n",
              "   0.9311375990214674,\n",
              "   0.9538999226612978],\n",
              "  'rmse_clean': [1.0451644101686495,\n",
              "   1.0900849626366829,\n",
              "   1.0393080512810855,\n",
              "   1.0154287951058512,\n",
              "   1.0841270061980302],\n",
              "  'rmse_location': [0.9231390622277784,\n",
              "   0.938802226799865,\n",
              "   0.8870063928627622,\n",
              "   0.903059558246008,\n",
              "   0.9369292147489291],\n",
              "  'rmse_mean': [1.0941950173506299,\n",
              "   1.1102190491178294,\n",
              "   1.1034222675516974,\n",
              "   1.0852802575834246,\n",
              "   1.114355217893778],\n",
              "  'rmse_rooms': [1.1174440976464612,\n",
              "   1.1295254331559705,\n",
              "   1.1716654012606937,\n",
              "   1.1472291701820199,\n",
              "   1.1228580513173299],\n",
              "  'rmse_service': [1.1826785248392637,\n",
              "   1.1892661417595873,\n",
              "   1.2037283029026078,\n",
              "   1.1469809729167633,\n",
              "   1.2043404880401016],\n",
              "  'rmse_value': [1.2025489918710048,\n",
              "   1.2034164812370518,\n",
              "   1.2154031894513484,\n",
              "   1.2137027914664866,\n",
              "   1.2235213291645088]}}"
            ]
          },
          "metadata": {},
          "execution_count": 48
        }
      ]
    },
    {
      "cell_type": "code",
      "source": [
        "dic_final = {}\n",
        "for alpha in value_alpha:\n",
        "  dic_final[alpha] = {}\n",
        "  for key in dic_alpha[alpha].keys():\n",
        "    dic_final[alpha][key] = np.mean(dic_alpha[alpha][key])"
      ],
      "metadata": {
        "id": "e8TMtoWsdfxc"
      },
      "execution_count": null,
      "outputs": []
    },
    {
      "cell_type": "code",
      "source": [
        "dic_final"
      ],
      "metadata": {
        "colab": {
          "base_uri": "https://localhost:8080/"
        },
        "id": "AHr9-Wh1d6tX",
        "outputId": "32099735-ace8-4b55-b72a-a6105b5cf6e0"
      },
      "execution_count": null,
      "outputs": [
        {
          "output_type": "execute_result",
          "data": {
            "text/plain": [
              "{0.3: {'mae_clean': 0.7573236116711286,\n",
              "  'mae_location': 0.6416426593138239,\n",
              "  'mae_mean': 0.8166749084466852,\n",
              "  'mae_rooms': 0.8618205411513135,\n",
              "  'mae_service': 0.8777648571296727,\n",
              "  'mae_value': 0.9448228729674859,\n",
              "  'rmse_clean': 1.0462999387886491,\n",
              "  'rmse_location': 0.9019071089535735,\n",
              "  'rmse_mean': 1.0967950984717714,\n",
              "  'rmse_rooms': 1.1265091611693498,\n",
              "  'rmse_service': 1.1905265046516427,\n",
              "  'rmse_value': 1.2187327787956446},\n",
              " 0.5: {'mae_clean': 0.756549656425,\n",
              "  'mae_location': 0.6477247050974867,\n",
              "  'mae_mean': 0.8141286522887972,\n",
              "  'mae_rooms': 0.8622012466615919,\n",
              "  'mae_service': 0.8699692400130061,\n",
              "  'mae_value': 0.9341984132469001,\n",
              "  'rmse_clean': 1.0437042552401468,\n",
              "  'rmse_location': 0.902313906454397,\n",
              "  'rmse_mean': 1.091789860017184,\n",
              "  'rmse_rooms': 1.1246639671918817,\n",
              "  'rmse_service': 1.18065926004379,\n",
              "  'rmse_value': 1.2076079111557216},\n",
              " 0.7: {'mae_clean': 0.7625697273538278,\n",
              "  'mae_location': 0.6608655535701998,\n",
              "  'mae_mean': 0.8194867694047787,\n",
              "  'mae_rooms': 0.8704207995397255,\n",
              "  'mae_service': 0.8698181419642307,\n",
              "  'mae_value': 0.9337596245959128,\n",
              "  'rmse_clean': 1.0548226450780598,\n",
              "  'rmse_location': 0.9177872909770686,\n",
              "  'rmse_mean': 1.1014943618994717,\n",
              "  'rmse_rooms': 1.137744430712495,\n",
              "  'rmse_service': 1.1853988860916647,\n",
              "  'rmse_value': 1.2117185566380801}}"
            ]
          },
          "metadata": {},
          "execution_count": 50
        }
      ]
    },
    {
      "cell_type": "code",
      "source": [
        "import json\n",
        "with open(\"/content/drive/MyDrive/multi_NCF+BERT_cf_with_callback.json\", \"w\") as outfile:\n",
        "    json.dump(dic_final, outfile)"
      ],
      "metadata": {
        "id": "0D5elNGoiEbR"
      },
      "execution_count": null,
      "outputs": []
    },
    {
      "cell_type": "code",
      "source": [
        "!"
      ],
      "metadata": {
        "id": "QSbLLdw6_WiX"
      },
      "execution_count": null,
      "outputs": []
    },
    {
      "cell_type": "code",
      "source": [
        "for j in range(1,6):"
      ],
      "metadata": {
        "id": "rELAZdzn_Te5"
      },
      "execution_count": null,
      "outputs": []
    },
    {
      "cell_type": "markdown",
      "source": [
        "#Alpha 0.7 beta 0.3"
      ],
      "metadata": {
        "id": "oOuo5K6UgTxO"
      }
    },
    {
      "cell_type": "code",
      "source": [
        "pred = 0.7*ncf_pred + 0.3*pred_Bert_cf\n",
        "mae(pred,y_test)"
      ],
      "metadata": {
        "colab": {
          "base_uri": "https://localhost:8080/"
        },
        "id": "D1AaMpgjN0Hp",
        "outputId": "1d742076-ecb1-4609-f38e-083c80740514"
      },
      "execution_count": null,
      "outputs": [
        {
          "output_type": "execute_result",
          "data": {
            "text/plain": [
              "0.8222287391593394"
            ]
          },
          "metadata": {},
          "execution_count": 31
        }
      ]
    },
    {
      "cell_type": "markdown",
      "source": [
        "#Alpha 0.5 beta 0.5"
      ],
      "metadata": {
        "id": "z_hm-YMpOXOT"
      }
    },
    {
      "cell_type": "code",
      "source": [
        "pred = 0.5*ncf_pred + 0.5*pred_Bert_cf\n",
        "mae(pred,y_test)"
      ],
      "metadata": {
        "id": "O4fgQlvV_GtS",
        "colab": {
          "base_uri": "https://localhost:8080/"
        },
        "outputId": "644846e0-0539-4e09-834a-63050b97bdce"
      },
      "execution_count": null,
      "outputs": [
        {
          "output_type": "execute_result",
          "data": {
            "text/plain": [
              "0.8178455189825333"
            ]
          },
          "metadata": {},
          "execution_count": 32
        }
      ]
    },
    {
      "cell_type": "markdown",
      "source": [
        "#Alpha 0.3 beta 0.7"
      ],
      "metadata": {
        "id": "yFyJguGRObB4"
      }
    },
    {
      "cell_type": "code",
      "source": [
        "pred = 0.3*ncf_pred + 0.7*pred_Bert_cf\n",
        "mae(pred,y_test)"
      ],
      "metadata": {
        "id": "NxuGjx8J96Pc",
        "colab": {
          "base_uri": "https://localhost:8080/"
        },
        "outputId": "e5f4c0be-525b-4f5c-8bb6-9160934334d7"
      },
      "execution_count": null,
      "outputs": [
        {
          "output_type": "execute_result",
          "data": {
            "text/plain": [
              "0.8234194200785353"
            ]
          },
          "metadata": {},
          "execution_count": 33
        }
      ]
    },
    {
      "cell_type": "code",
      "source": [
        ""
      ],
      "metadata": {
        "id": "kObHSdOrO-Wf"
      },
      "execution_count": null,
      "outputs": []
    }
  ]
}