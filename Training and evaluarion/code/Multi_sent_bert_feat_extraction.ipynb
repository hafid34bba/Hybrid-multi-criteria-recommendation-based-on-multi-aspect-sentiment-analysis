{
  "nbformat": 4,
  "nbformat_minor": 0,
  "metadata": {
    "colab": {
      "name": "Multi_bert_feat_extraction.ipynb",
      "provenance": [],
      "collapsed_sections": []
    },
    "kernelspec": {
      "name": "python3",
      "display_name": "Python 3"
    },
    "language_info": {
      "name": "python"
    },
    "accelerator": "GPU",
    "widgets": {
      "application/vnd.jupyter.widget-state+json": {
        "701d9d7493634f4096fcf07e81e4d814": {
          "model_module": "@jupyter-widgets/controls",
          "model_name": "HBoxModel",
          "model_module_version": "1.5.0",
          "state": {
            "_dom_classes": [],
            "_model_module": "@jupyter-widgets/controls",
            "_model_module_version": "1.5.0",
            "_model_name": "HBoxModel",
            "_view_count": null,
            "_view_module": "@jupyter-widgets/controls",
            "_view_module_version": "1.5.0",
            "_view_name": "HBoxView",
            "box_style": "",
            "children": [
              "IPY_MODEL_5f2fc49abbe4466eb706ba9f413418e5",
              "IPY_MODEL_a7cb45a6e80f48e78de3408c52e04d20",
              "IPY_MODEL_eb290b33f6c844daa4333cb00d833d90"
            ],
            "layout": "IPY_MODEL_7486df7ac53e45358d0fd2a08da305c3"
          }
        },
        "5f2fc49abbe4466eb706ba9f413418e5": {
          "model_module": "@jupyter-widgets/controls",
          "model_name": "HTMLModel",
          "model_module_version": "1.5.0",
          "state": {
            "_dom_classes": [],
            "_model_module": "@jupyter-widgets/controls",
            "_model_module_version": "1.5.0",
            "_model_name": "HTMLModel",
            "_view_count": null,
            "_view_module": "@jupyter-widgets/controls",
            "_view_module_version": "1.5.0",
            "_view_name": "HTMLView",
            "description": "",
            "description_tooltip": null,
            "layout": "IPY_MODEL_25b7ad6fe12446a791981282332c633f",
            "placeholder": "​",
            "style": "IPY_MODEL_804cc907cc1b440da6e74a9b3b817993",
            "value": "Downloading: 100%"
          }
        },
        "a7cb45a6e80f48e78de3408c52e04d20": {
          "model_module": "@jupyter-widgets/controls",
          "model_name": "FloatProgressModel",
          "model_module_version": "1.5.0",
          "state": {
            "_dom_classes": [],
            "_model_module": "@jupyter-widgets/controls",
            "_model_module_version": "1.5.0",
            "_model_name": "FloatProgressModel",
            "_view_count": null,
            "_view_module": "@jupyter-widgets/controls",
            "_view_module_version": "1.5.0",
            "_view_name": "ProgressView",
            "bar_style": "success",
            "description": "",
            "description_tooltip": null,
            "layout": "IPY_MODEL_c77b93a50f034cbca931bb17d026531e",
            "max": 231508,
            "min": 0,
            "orientation": "horizontal",
            "style": "IPY_MODEL_a60a129b044040c7acdcd3439674edc3",
            "value": 231508
          }
        },
        "eb290b33f6c844daa4333cb00d833d90": {
          "model_module": "@jupyter-widgets/controls",
          "model_name": "HTMLModel",
          "model_module_version": "1.5.0",
          "state": {
            "_dom_classes": [],
            "_model_module": "@jupyter-widgets/controls",
            "_model_module_version": "1.5.0",
            "_model_name": "HTMLModel",
            "_view_count": null,
            "_view_module": "@jupyter-widgets/controls",
            "_view_module_version": "1.5.0",
            "_view_name": "HTMLView",
            "description": "",
            "description_tooltip": null,
            "layout": "IPY_MODEL_ec53949e4ac14b23869aa257bc9404c9",
            "placeholder": "​",
            "style": "IPY_MODEL_d3cf20ae08e64d21a2c6b7a2860302d2",
            "value": " 226k/226k [00:00&lt;00:00, 450kB/s]"
          }
        },
        "7486df7ac53e45358d0fd2a08da305c3": {
          "model_module": "@jupyter-widgets/base",
          "model_name": "LayoutModel",
          "model_module_version": "1.2.0",
          "state": {
            "_model_module": "@jupyter-widgets/base",
            "_model_module_version": "1.2.0",
            "_model_name": "LayoutModel",
            "_view_count": null,
            "_view_module": "@jupyter-widgets/base",
            "_view_module_version": "1.2.0",
            "_view_name": "LayoutView",
            "align_content": null,
            "align_items": null,
            "align_self": null,
            "border": null,
            "bottom": null,
            "display": null,
            "flex": null,
            "flex_flow": null,
            "grid_area": null,
            "grid_auto_columns": null,
            "grid_auto_flow": null,
            "grid_auto_rows": null,
            "grid_column": null,
            "grid_gap": null,
            "grid_row": null,
            "grid_template_areas": null,
            "grid_template_columns": null,
            "grid_template_rows": null,
            "height": null,
            "justify_content": null,
            "justify_items": null,
            "left": null,
            "margin": null,
            "max_height": null,
            "max_width": null,
            "min_height": null,
            "min_width": null,
            "object_fit": null,
            "object_position": null,
            "order": null,
            "overflow": null,
            "overflow_x": null,
            "overflow_y": null,
            "padding": null,
            "right": null,
            "top": null,
            "visibility": null,
            "width": null
          }
        },
        "25b7ad6fe12446a791981282332c633f": {
          "model_module": "@jupyter-widgets/base",
          "model_name": "LayoutModel",
          "model_module_version": "1.2.0",
          "state": {
            "_model_module": "@jupyter-widgets/base",
            "_model_module_version": "1.2.0",
            "_model_name": "LayoutModel",
            "_view_count": null,
            "_view_module": "@jupyter-widgets/base",
            "_view_module_version": "1.2.0",
            "_view_name": "LayoutView",
            "align_content": null,
            "align_items": null,
            "align_self": null,
            "border": null,
            "bottom": null,
            "display": null,
            "flex": null,
            "flex_flow": null,
            "grid_area": null,
            "grid_auto_columns": null,
            "grid_auto_flow": null,
            "grid_auto_rows": null,
            "grid_column": null,
            "grid_gap": null,
            "grid_row": null,
            "grid_template_areas": null,
            "grid_template_columns": null,
            "grid_template_rows": null,
            "height": null,
            "justify_content": null,
            "justify_items": null,
            "left": null,
            "margin": null,
            "max_height": null,
            "max_width": null,
            "min_height": null,
            "min_width": null,
            "object_fit": null,
            "object_position": null,
            "order": null,
            "overflow": null,
            "overflow_x": null,
            "overflow_y": null,
            "padding": null,
            "right": null,
            "top": null,
            "visibility": null,
            "width": null
          }
        },
        "804cc907cc1b440da6e74a9b3b817993": {
          "model_module": "@jupyter-widgets/controls",
          "model_name": "DescriptionStyleModel",
          "model_module_version": "1.5.0",
          "state": {
            "_model_module": "@jupyter-widgets/controls",
            "_model_module_version": "1.5.0",
            "_model_name": "DescriptionStyleModel",
            "_view_count": null,
            "_view_module": "@jupyter-widgets/base",
            "_view_module_version": "1.2.0",
            "_view_name": "StyleView",
            "description_width": ""
          }
        },
        "c77b93a50f034cbca931bb17d026531e": {
          "model_module": "@jupyter-widgets/base",
          "model_name": "LayoutModel",
          "model_module_version": "1.2.0",
          "state": {
            "_model_module": "@jupyter-widgets/base",
            "_model_module_version": "1.2.0",
            "_model_name": "LayoutModel",
            "_view_count": null,
            "_view_module": "@jupyter-widgets/base",
            "_view_module_version": "1.2.0",
            "_view_name": "LayoutView",
            "align_content": null,
            "align_items": null,
            "align_self": null,
            "border": null,
            "bottom": null,
            "display": null,
            "flex": null,
            "flex_flow": null,
            "grid_area": null,
            "grid_auto_columns": null,
            "grid_auto_flow": null,
            "grid_auto_rows": null,
            "grid_column": null,
            "grid_gap": null,
            "grid_row": null,
            "grid_template_areas": null,
            "grid_template_columns": null,
            "grid_template_rows": null,
            "height": null,
            "justify_content": null,
            "justify_items": null,
            "left": null,
            "margin": null,
            "max_height": null,
            "max_width": null,
            "min_height": null,
            "min_width": null,
            "object_fit": null,
            "object_position": null,
            "order": null,
            "overflow": null,
            "overflow_x": null,
            "overflow_y": null,
            "padding": null,
            "right": null,
            "top": null,
            "visibility": null,
            "width": null
          }
        },
        "a60a129b044040c7acdcd3439674edc3": {
          "model_module": "@jupyter-widgets/controls",
          "model_name": "ProgressStyleModel",
          "model_module_version": "1.5.0",
          "state": {
            "_model_module": "@jupyter-widgets/controls",
            "_model_module_version": "1.5.0",
            "_model_name": "ProgressStyleModel",
            "_view_count": null,
            "_view_module": "@jupyter-widgets/base",
            "_view_module_version": "1.2.0",
            "_view_name": "StyleView",
            "bar_color": null,
            "description_width": ""
          }
        },
        "ec53949e4ac14b23869aa257bc9404c9": {
          "model_module": "@jupyter-widgets/base",
          "model_name": "LayoutModel",
          "model_module_version": "1.2.0",
          "state": {
            "_model_module": "@jupyter-widgets/base",
            "_model_module_version": "1.2.0",
            "_model_name": "LayoutModel",
            "_view_count": null,
            "_view_module": "@jupyter-widgets/base",
            "_view_module_version": "1.2.0",
            "_view_name": "LayoutView",
            "align_content": null,
            "align_items": null,
            "align_self": null,
            "border": null,
            "bottom": null,
            "display": null,
            "flex": null,
            "flex_flow": null,
            "grid_area": null,
            "grid_auto_columns": null,
            "grid_auto_flow": null,
            "grid_auto_rows": null,
            "grid_column": null,
            "grid_gap": null,
            "grid_row": null,
            "grid_template_areas": null,
            "grid_template_columns": null,
            "grid_template_rows": null,
            "height": null,
            "justify_content": null,
            "justify_items": null,
            "left": null,
            "margin": null,
            "max_height": null,
            "max_width": null,
            "min_height": null,
            "min_width": null,
            "object_fit": null,
            "object_position": null,
            "order": null,
            "overflow": null,
            "overflow_x": null,
            "overflow_y": null,
            "padding": null,
            "right": null,
            "top": null,
            "visibility": null,
            "width": null
          }
        },
        "d3cf20ae08e64d21a2c6b7a2860302d2": {
          "model_module": "@jupyter-widgets/controls",
          "model_name": "DescriptionStyleModel",
          "model_module_version": "1.5.0",
          "state": {
            "_model_module": "@jupyter-widgets/controls",
            "_model_module_version": "1.5.0",
            "_model_name": "DescriptionStyleModel",
            "_view_count": null,
            "_view_module": "@jupyter-widgets/base",
            "_view_module_version": "1.2.0",
            "_view_name": "StyleView",
            "description_width": ""
          }
        },
        "a5424aa8e6344a8d9b6093cfaa61a63f": {
          "model_module": "@jupyter-widgets/controls",
          "model_name": "HBoxModel",
          "model_module_version": "1.5.0",
          "state": {
            "_dom_classes": [],
            "_model_module": "@jupyter-widgets/controls",
            "_model_module_version": "1.5.0",
            "_model_name": "HBoxModel",
            "_view_count": null,
            "_view_module": "@jupyter-widgets/controls",
            "_view_module_version": "1.5.0",
            "_view_name": "HBoxView",
            "box_style": "",
            "children": [
              "IPY_MODEL_6dc3d75983664e2690faba568b4e337a",
              "IPY_MODEL_c06ed700332e49568ef4f25932e3783b",
              "IPY_MODEL_b289b8fba9794f309f13595fb8563bc9"
            ],
            "layout": "IPY_MODEL_1141cc89feae443a8a0ea0a57911b6a5"
          }
        },
        "6dc3d75983664e2690faba568b4e337a": {
          "model_module": "@jupyter-widgets/controls",
          "model_name": "HTMLModel",
          "model_module_version": "1.5.0",
          "state": {
            "_dom_classes": [],
            "_model_module": "@jupyter-widgets/controls",
            "_model_module_version": "1.5.0",
            "_model_name": "HTMLModel",
            "_view_count": null,
            "_view_module": "@jupyter-widgets/controls",
            "_view_module_version": "1.5.0",
            "_view_name": "HTMLView",
            "description": "",
            "description_tooltip": null,
            "layout": "IPY_MODEL_834bf589871e4651b6425813cbc9dcd4",
            "placeholder": "​",
            "style": "IPY_MODEL_18f56131614c42599ee757f484032692",
            "value": "Downloading: 100%"
          }
        },
        "c06ed700332e49568ef4f25932e3783b": {
          "model_module": "@jupyter-widgets/controls",
          "model_name": "FloatProgressModel",
          "model_module_version": "1.5.0",
          "state": {
            "_dom_classes": [],
            "_model_module": "@jupyter-widgets/controls",
            "_model_module_version": "1.5.0",
            "_model_name": "FloatProgressModel",
            "_view_count": null,
            "_view_module": "@jupyter-widgets/controls",
            "_view_module_version": "1.5.0",
            "_view_name": "ProgressView",
            "bar_style": "success",
            "description": "",
            "description_tooltip": null,
            "layout": "IPY_MODEL_5d729e9ff553488999b54be3d5f6b3ee",
            "max": 28,
            "min": 0,
            "orientation": "horizontal",
            "style": "IPY_MODEL_ed6cbb718c2b44f8b4a108131f3c386c",
            "value": 28
          }
        },
        "b289b8fba9794f309f13595fb8563bc9": {
          "model_module": "@jupyter-widgets/controls",
          "model_name": "HTMLModel",
          "model_module_version": "1.5.0",
          "state": {
            "_dom_classes": [],
            "_model_module": "@jupyter-widgets/controls",
            "_model_module_version": "1.5.0",
            "_model_name": "HTMLModel",
            "_view_count": null,
            "_view_module": "@jupyter-widgets/controls",
            "_view_module_version": "1.5.0",
            "_view_name": "HTMLView",
            "description": "",
            "description_tooltip": null,
            "layout": "IPY_MODEL_2c7021530ba54c7bbba9b1521730c4f7",
            "placeholder": "​",
            "style": "IPY_MODEL_0305fbbdef294de6bd6a4f343393cb7a",
            "value": " 28.0/28.0 [00:00&lt;00:00, 203B/s]"
          }
        },
        "1141cc89feae443a8a0ea0a57911b6a5": {
          "model_module": "@jupyter-widgets/base",
          "model_name": "LayoutModel",
          "model_module_version": "1.2.0",
          "state": {
            "_model_module": "@jupyter-widgets/base",
            "_model_module_version": "1.2.0",
            "_model_name": "LayoutModel",
            "_view_count": null,
            "_view_module": "@jupyter-widgets/base",
            "_view_module_version": "1.2.0",
            "_view_name": "LayoutView",
            "align_content": null,
            "align_items": null,
            "align_self": null,
            "border": null,
            "bottom": null,
            "display": null,
            "flex": null,
            "flex_flow": null,
            "grid_area": null,
            "grid_auto_columns": null,
            "grid_auto_flow": null,
            "grid_auto_rows": null,
            "grid_column": null,
            "grid_gap": null,
            "grid_row": null,
            "grid_template_areas": null,
            "grid_template_columns": null,
            "grid_template_rows": null,
            "height": null,
            "justify_content": null,
            "justify_items": null,
            "left": null,
            "margin": null,
            "max_height": null,
            "max_width": null,
            "min_height": null,
            "min_width": null,
            "object_fit": null,
            "object_position": null,
            "order": null,
            "overflow": null,
            "overflow_x": null,
            "overflow_y": null,
            "padding": null,
            "right": null,
            "top": null,
            "visibility": null,
            "width": null
          }
        },
        "834bf589871e4651b6425813cbc9dcd4": {
          "model_module": "@jupyter-widgets/base",
          "model_name": "LayoutModel",
          "model_module_version": "1.2.0",
          "state": {
            "_model_module": "@jupyter-widgets/base",
            "_model_module_version": "1.2.0",
            "_model_name": "LayoutModel",
            "_view_count": null,
            "_view_module": "@jupyter-widgets/base",
            "_view_module_version": "1.2.0",
            "_view_name": "LayoutView",
            "align_content": null,
            "align_items": null,
            "align_self": null,
            "border": null,
            "bottom": null,
            "display": null,
            "flex": null,
            "flex_flow": null,
            "grid_area": null,
            "grid_auto_columns": null,
            "grid_auto_flow": null,
            "grid_auto_rows": null,
            "grid_column": null,
            "grid_gap": null,
            "grid_row": null,
            "grid_template_areas": null,
            "grid_template_columns": null,
            "grid_template_rows": null,
            "height": null,
            "justify_content": null,
            "justify_items": null,
            "left": null,
            "margin": null,
            "max_height": null,
            "max_width": null,
            "min_height": null,
            "min_width": null,
            "object_fit": null,
            "object_position": null,
            "order": null,
            "overflow": null,
            "overflow_x": null,
            "overflow_y": null,
            "padding": null,
            "right": null,
            "top": null,
            "visibility": null,
            "width": null
          }
        },
        "18f56131614c42599ee757f484032692": {
          "model_module": "@jupyter-widgets/controls",
          "model_name": "DescriptionStyleModel",
          "model_module_version": "1.5.0",
          "state": {
            "_model_module": "@jupyter-widgets/controls",
            "_model_module_version": "1.5.0",
            "_model_name": "DescriptionStyleModel",
            "_view_count": null,
            "_view_module": "@jupyter-widgets/base",
            "_view_module_version": "1.2.0",
            "_view_name": "StyleView",
            "description_width": ""
          }
        },
        "5d729e9ff553488999b54be3d5f6b3ee": {
          "model_module": "@jupyter-widgets/base",
          "model_name": "LayoutModel",
          "model_module_version": "1.2.0",
          "state": {
            "_model_module": "@jupyter-widgets/base",
            "_model_module_version": "1.2.0",
            "_model_name": "LayoutModel",
            "_view_count": null,
            "_view_module": "@jupyter-widgets/base",
            "_view_module_version": "1.2.0",
            "_view_name": "LayoutView",
            "align_content": null,
            "align_items": null,
            "align_self": null,
            "border": null,
            "bottom": null,
            "display": null,
            "flex": null,
            "flex_flow": null,
            "grid_area": null,
            "grid_auto_columns": null,
            "grid_auto_flow": null,
            "grid_auto_rows": null,
            "grid_column": null,
            "grid_gap": null,
            "grid_row": null,
            "grid_template_areas": null,
            "grid_template_columns": null,
            "grid_template_rows": null,
            "height": null,
            "justify_content": null,
            "justify_items": null,
            "left": null,
            "margin": null,
            "max_height": null,
            "max_width": null,
            "min_height": null,
            "min_width": null,
            "object_fit": null,
            "object_position": null,
            "order": null,
            "overflow": null,
            "overflow_x": null,
            "overflow_y": null,
            "padding": null,
            "right": null,
            "top": null,
            "visibility": null,
            "width": null
          }
        },
        "ed6cbb718c2b44f8b4a108131f3c386c": {
          "model_module": "@jupyter-widgets/controls",
          "model_name": "ProgressStyleModel",
          "model_module_version": "1.5.0",
          "state": {
            "_model_module": "@jupyter-widgets/controls",
            "_model_module_version": "1.5.0",
            "_model_name": "ProgressStyleModel",
            "_view_count": null,
            "_view_module": "@jupyter-widgets/base",
            "_view_module_version": "1.2.0",
            "_view_name": "StyleView",
            "bar_color": null,
            "description_width": ""
          }
        },
        "2c7021530ba54c7bbba9b1521730c4f7": {
          "model_module": "@jupyter-widgets/base",
          "model_name": "LayoutModel",
          "model_module_version": "1.2.0",
          "state": {
            "_model_module": "@jupyter-widgets/base",
            "_model_module_version": "1.2.0",
            "_model_name": "LayoutModel",
            "_view_count": null,
            "_view_module": "@jupyter-widgets/base",
            "_view_module_version": "1.2.0",
            "_view_name": "LayoutView",
            "align_content": null,
            "align_items": null,
            "align_self": null,
            "border": null,
            "bottom": null,
            "display": null,
            "flex": null,
            "flex_flow": null,
            "grid_area": null,
            "grid_auto_columns": null,
            "grid_auto_flow": null,
            "grid_auto_rows": null,
            "grid_column": null,
            "grid_gap": null,
            "grid_row": null,
            "grid_template_areas": null,
            "grid_template_columns": null,
            "grid_template_rows": null,
            "height": null,
            "justify_content": null,
            "justify_items": null,
            "left": null,
            "margin": null,
            "max_height": null,
            "max_width": null,
            "min_height": null,
            "min_width": null,
            "object_fit": null,
            "object_position": null,
            "order": null,
            "overflow": null,
            "overflow_x": null,
            "overflow_y": null,
            "padding": null,
            "right": null,
            "top": null,
            "visibility": null,
            "width": null
          }
        },
        "0305fbbdef294de6bd6a4f343393cb7a": {
          "model_module": "@jupyter-widgets/controls",
          "model_name": "DescriptionStyleModel",
          "model_module_version": "1.5.0",
          "state": {
            "_model_module": "@jupyter-widgets/controls",
            "_model_module_version": "1.5.0",
            "_model_name": "DescriptionStyleModel",
            "_view_count": null,
            "_view_module": "@jupyter-widgets/base",
            "_view_module_version": "1.2.0",
            "_view_name": "StyleView",
            "description_width": ""
          }
        },
        "66d7355fba544457b47953d3693cdb43": {
          "model_module": "@jupyter-widgets/controls",
          "model_name": "HBoxModel",
          "model_module_version": "1.5.0",
          "state": {
            "_dom_classes": [],
            "_model_module": "@jupyter-widgets/controls",
            "_model_module_version": "1.5.0",
            "_model_name": "HBoxModel",
            "_view_count": null,
            "_view_module": "@jupyter-widgets/controls",
            "_view_module_version": "1.5.0",
            "_view_name": "HBoxView",
            "box_style": "",
            "children": [
              "IPY_MODEL_e9afb892872947d284ad912846b54527",
              "IPY_MODEL_6f0e86b9540a46bba1c97566afed3bfc",
              "IPY_MODEL_db60ed656ed949c990bd3cb84d5ad63e"
            ],
            "layout": "IPY_MODEL_4aa33a6ad0b645d9b0af09c940389604"
          }
        },
        "e9afb892872947d284ad912846b54527": {
          "model_module": "@jupyter-widgets/controls",
          "model_name": "HTMLModel",
          "model_module_version": "1.5.0",
          "state": {
            "_dom_classes": [],
            "_model_module": "@jupyter-widgets/controls",
            "_model_module_version": "1.5.0",
            "_model_name": "HTMLModel",
            "_view_count": null,
            "_view_module": "@jupyter-widgets/controls",
            "_view_module_version": "1.5.0",
            "_view_name": "HTMLView",
            "description": "",
            "description_tooltip": null,
            "layout": "IPY_MODEL_cffe2bbd31954fc5a639c545320c849c",
            "placeholder": "​",
            "style": "IPY_MODEL_ca8e78e34db64827843e5475da2f68e6",
            "value": "Downloading: 100%"
          }
        },
        "6f0e86b9540a46bba1c97566afed3bfc": {
          "model_module": "@jupyter-widgets/controls",
          "model_name": "FloatProgressModel",
          "model_module_version": "1.5.0",
          "state": {
            "_dom_classes": [],
            "_model_module": "@jupyter-widgets/controls",
            "_model_module_version": "1.5.0",
            "_model_name": "FloatProgressModel",
            "_view_count": null,
            "_view_module": "@jupyter-widgets/controls",
            "_view_module_version": "1.5.0",
            "_view_name": "ProgressView",
            "bar_style": "success",
            "description": "",
            "description_tooltip": null,
            "layout": "IPY_MODEL_0137c182e5f8418b9fa25c9aa27834ce",
            "max": 570,
            "min": 0,
            "orientation": "horizontal",
            "style": "IPY_MODEL_e5fdc5e6619a4cc8998ab07664a6b612",
            "value": 570
          }
        },
        "db60ed656ed949c990bd3cb84d5ad63e": {
          "model_module": "@jupyter-widgets/controls",
          "model_name": "HTMLModel",
          "model_module_version": "1.5.0",
          "state": {
            "_dom_classes": [],
            "_model_module": "@jupyter-widgets/controls",
            "_model_module_version": "1.5.0",
            "_model_name": "HTMLModel",
            "_view_count": null,
            "_view_module": "@jupyter-widgets/controls",
            "_view_module_version": "1.5.0",
            "_view_name": "HTMLView",
            "description": "",
            "description_tooltip": null,
            "layout": "IPY_MODEL_283cebb311e34ba194cc3686a9004dd3",
            "placeholder": "​",
            "style": "IPY_MODEL_9ad993c854014c7ebf74e0907d3e679a",
            "value": " 570/570 [00:00&lt;00:00, 4.50kB/s]"
          }
        },
        "4aa33a6ad0b645d9b0af09c940389604": {
          "model_module": "@jupyter-widgets/base",
          "model_name": "LayoutModel",
          "model_module_version": "1.2.0",
          "state": {
            "_model_module": "@jupyter-widgets/base",
            "_model_module_version": "1.2.0",
            "_model_name": "LayoutModel",
            "_view_count": null,
            "_view_module": "@jupyter-widgets/base",
            "_view_module_version": "1.2.0",
            "_view_name": "LayoutView",
            "align_content": null,
            "align_items": null,
            "align_self": null,
            "border": null,
            "bottom": null,
            "display": null,
            "flex": null,
            "flex_flow": null,
            "grid_area": null,
            "grid_auto_columns": null,
            "grid_auto_flow": null,
            "grid_auto_rows": null,
            "grid_column": null,
            "grid_gap": null,
            "grid_row": null,
            "grid_template_areas": null,
            "grid_template_columns": null,
            "grid_template_rows": null,
            "height": null,
            "justify_content": null,
            "justify_items": null,
            "left": null,
            "margin": null,
            "max_height": null,
            "max_width": null,
            "min_height": null,
            "min_width": null,
            "object_fit": null,
            "object_position": null,
            "order": null,
            "overflow": null,
            "overflow_x": null,
            "overflow_y": null,
            "padding": null,
            "right": null,
            "top": null,
            "visibility": null,
            "width": null
          }
        },
        "cffe2bbd31954fc5a639c545320c849c": {
          "model_module": "@jupyter-widgets/base",
          "model_name": "LayoutModel",
          "model_module_version": "1.2.0",
          "state": {
            "_model_module": "@jupyter-widgets/base",
            "_model_module_version": "1.2.0",
            "_model_name": "LayoutModel",
            "_view_count": null,
            "_view_module": "@jupyter-widgets/base",
            "_view_module_version": "1.2.0",
            "_view_name": "LayoutView",
            "align_content": null,
            "align_items": null,
            "align_self": null,
            "border": null,
            "bottom": null,
            "display": null,
            "flex": null,
            "flex_flow": null,
            "grid_area": null,
            "grid_auto_columns": null,
            "grid_auto_flow": null,
            "grid_auto_rows": null,
            "grid_column": null,
            "grid_gap": null,
            "grid_row": null,
            "grid_template_areas": null,
            "grid_template_columns": null,
            "grid_template_rows": null,
            "height": null,
            "justify_content": null,
            "justify_items": null,
            "left": null,
            "margin": null,
            "max_height": null,
            "max_width": null,
            "min_height": null,
            "min_width": null,
            "object_fit": null,
            "object_position": null,
            "order": null,
            "overflow": null,
            "overflow_x": null,
            "overflow_y": null,
            "padding": null,
            "right": null,
            "top": null,
            "visibility": null,
            "width": null
          }
        },
        "ca8e78e34db64827843e5475da2f68e6": {
          "model_module": "@jupyter-widgets/controls",
          "model_name": "DescriptionStyleModel",
          "model_module_version": "1.5.0",
          "state": {
            "_model_module": "@jupyter-widgets/controls",
            "_model_module_version": "1.5.0",
            "_model_name": "DescriptionStyleModel",
            "_view_count": null,
            "_view_module": "@jupyter-widgets/base",
            "_view_module_version": "1.2.0",
            "_view_name": "StyleView",
            "description_width": ""
          }
        },
        "0137c182e5f8418b9fa25c9aa27834ce": {
          "model_module": "@jupyter-widgets/base",
          "model_name": "LayoutModel",
          "model_module_version": "1.2.0",
          "state": {
            "_model_module": "@jupyter-widgets/base",
            "_model_module_version": "1.2.0",
            "_model_name": "LayoutModel",
            "_view_count": null,
            "_view_module": "@jupyter-widgets/base",
            "_view_module_version": "1.2.0",
            "_view_name": "LayoutView",
            "align_content": null,
            "align_items": null,
            "align_self": null,
            "border": null,
            "bottom": null,
            "display": null,
            "flex": null,
            "flex_flow": null,
            "grid_area": null,
            "grid_auto_columns": null,
            "grid_auto_flow": null,
            "grid_auto_rows": null,
            "grid_column": null,
            "grid_gap": null,
            "grid_row": null,
            "grid_template_areas": null,
            "grid_template_columns": null,
            "grid_template_rows": null,
            "height": null,
            "justify_content": null,
            "justify_items": null,
            "left": null,
            "margin": null,
            "max_height": null,
            "max_width": null,
            "min_height": null,
            "min_width": null,
            "object_fit": null,
            "object_position": null,
            "order": null,
            "overflow": null,
            "overflow_x": null,
            "overflow_y": null,
            "padding": null,
            "right": null,
            "top": null,
            "visibility": null,
            "width": null
          }
        },
        "e5fdc5e6619a4cc8998ab07664a6b612": {
          "model_module": "@jupyter-widgets/controls",
          "model_name": "ProgressStyleModel",
          "model_module_version": "1.5.0",
          "state": {
            "_model_module": "@jupyter-widgets/controls",
            "_model_module_version": "1.5.0",
            "_model_name": "ProgressStyleModel",
            "_view_count": null,
            "_view_module": "@jupyter-widgets/base",
            "_view_module_version": "1.2.0",
            "_view_name": "StyleView",
            "bar_color": null,
            "description_width": ""
          }
        },
        "283cebb311e34ba194cc3686a9004dd3": {
          "model_module": "@jupyter-widgets/base",
          "model_name": "LayoutModel",
          "model_module_version": "1.2.0",
          "state": {
            "_model_module": "@jupyter-widgets/base",
            "_model_module_version": "1.2.0",
            "_model_name": "LayoutModel",
            "_view_count": null,
            "_view_module": "@jupyter-widgets/base",
            "_view_module_version": "1.2.0",
            "_view_name": "LayoutView",
            "align_content": null,
            "align_items": null,
            "align_self": null,
            "border": null,
            "bottom": null,
            "display": null,
            "flex": null,
            "flex_flow": null,
            "grid_area": null,
            "grid_auto_columns": null,
            "grid_auto_flow": null,
            "grid_auto_rows": null,
            "grid_column": null,
            "grid_gap": null,
            "grid_row": null,
            "grid_template_areas": null,
            "grid_template_columns": null,
            "grid_template_rows": null,
            "height": null,
            "justify_content": null,
            "justify_items": null,
            "left": null,
            "margin": null,
            "max_height": null,
            "max_width": null,
            "min_height": null,
            "min_width": null,
            "object_fit": null,
            "object_position": null,
            "order": null,
            "overflow": null,
            "overflow_x": null,
            "overflow_y": null,
            "padding": null,
            "right": null,
            "top": null,
            "visibility": null,
            "width": null
          }
        },
        "9ad993c854014c7ebf74e0907d3e679a": {
          "model_module": "@jupyter-widgets/controls",
          "model_name": "DescriptionStyleModel",
          "model_module_version": "1.5.0",
          "state": {
            "_model_module": "@jupyter-widgets/controls",
            "_model_module_version": "1.5.0",
            "_model_name": "DescriptionStyleModel",
            "_view_count": null,
            "_view_module": "@jupyter-widgets/base",
            "_view_module_version": "1.2.0",
            "_view_name": "StyleView",
            "description_width": ""
          }
        },
        "1fa80a4bf828476ea55cc6491bf3fe9e": {
          "model_module": "@jupyter-widgets/controls",
          "model_name": "HBoxModel",
          "model_module_version": "1.5.0",
          "state": {
            "_dom_classes": [],
            "_model_module": "@jupyter-widgets/controls",
            "_model_module_version": "1.5.0",
            "_model_name": "HBoxModel",
            "_view_count": null,
            "_view_module": "@jupyter-widgets/controls",
            "_view_module_version": "1.5.0",
            "_view_name": "HBoxView",
            "box_style": "",
            "children": [
              "IPY_MODEL_79dd03436892411ea8b0c13676da234d",
              "IPY_MODEL_832899e7f4dc426ab22764a37c4ac87c",
              "IPY_MODEL_edf376ac0e474fe89094cb683bf77114"
            ],
            "layout": "IPY_MODEL_8f3ddd24865d4296a511d0ca5f0eef4f"
          }
        },
        "79dd03436892411ea8b0c13676da234d": {
          "model_module": "@jupyter-widgets/controls",
          "model_name": "HTMLModel",
          "model_module_version": "1.5.0",
          "state": {
            "_dom_classes": [],
            "_model_module": "@jupyter-widgets/controls",
            "_model_module_version": "1.5.0",
            "_model_name": "HTMLModel",
            "_view_count": null,
            "_view_module": "@jupyter-widgets/controls",
            "_view_module_version": "1.5.0",
            "_view_name": "HTMLView",
            "description": "",
            "description_tooltip": null,
            "layout": "IPY_MODEL_48ed0059fcdd43e6b64f946ec4e5c083",
            "placeholder": "​",
            "style": "IPY_MODEL_d00f4820cb9340b09c7c847b22aeeaeb",
            "value": "Downloading: 100%"
          }
        },
        "832899e7f4dc426ab22764a37c4ac87c": {
          "model_module": "@jupyter-widgets/controls",
          "model_name": "FloatProgressModel",
          "model_module_version": "1.5.0",
          "state": {
            "_dom_classes": [],
            "_model_module": "@jupyter-widgets/controls",
            "_model_module_version": "1.5.0",
            "_model_name": "FloatProgressModel",
            "_view_count": null,
            "_view_module": "@jupyter-widgets/controls",
            "_view_module_version": "1.5.0",
            "_view_name": "ProgressView",
            "bar_style": "success",
            "description": "",
            "description_tooltip": null,
            "layout": "IPY_MODEL_7e282031694945098cbc36eb6b8a1a38",
            "max": 536063208,
            "min": 0,
            "orientation": "horizontal",
            "style": "IPY_MODEL_11dad148558d4449b9d0d8b0ac7f6aba",
            "value": 536063208
          }
        },
        "edf376ac0e474fe89094cb683bf77114": {
          "model_module": "@jupyter-widgets/controls",
          "model_name": "HTMLModel",
          "model_module_version": "1.5.0",
          "state": {
            "_dom_classes": [],
            "_model_module": "@jupyter-widgets/controls",
            "_model_module_version": "1.5.0",
            "_model_name": "HTMLModel",
            "_view_count": null,
            "_view_module": "@jupyter-widgets/controls",
            "_view_module_version": "1.5.0",
            "_view_name": "HTMLView",
            "description": "",
            "description_tooltip": null,
            "layout": "IPY_MODEL_59fbd37c83834ec0836b4750bcd17029",
            "placeholder": "​",
            "style": "IPY_MODEL_edbc33831e6342b087858a9128b1a091",
            "value": " 511M/511M [00:19&lt;00:00, 57.3MB/s]"
          }
        },
        "8f3ddd24865d4296a511d0ca5f0eef4f": {
          "model_module": "@jupyter-widgets/base",
          "model_name": "LayoutModel",
          "model_module_version": "1.2.0",
          "state": {
            "_model_module": "@jupyter-widgets/base",
            "_model_module_version": "1.2.0",
            "_model_name": "LayoutModel",
            "_view_count": null,
            "_view_module": "@jupyter-widgets/base",
            "_view_module_version": "1.2.0",
            "_view_name": "LayoutView",
            "align_content": null,
            "align_items": null,
            "align_self": null,
            "border": null,
            "bottom": null,
            "display": null,
            "flex": null,
            "flex_flow": null,
            "grid_area": null,
            "grid_auto_columns": null,
            "grid_auto_flow": null,
            "grid_auto_rows": null,
            "grid_column": null,
            "grid_gap": null,
            "grid_row": null,
            "grid_template_areas": null,
            "grid_template_columns": null,
            "grid_template_rows": null,
            "height": null,
            "justify_content": null,
            "justify_items": null,
            "left": null,
            "margin": null,
            "max_height": null,
            "max_width": null,
            "min_height": null,
            "min_width": null,
            "object_fit": null,
            "object_position": null,
            "order": null,
            "overflow": null,
            "overflow_x": null,
            "overflow_y": null,
            "padding": null,
            "right": null,
            "top": null,
            "visibility": null,
            "width": null
          }
        },
        "48ed0059fcdd43e6b64f946ec4e5c083": {
          "model_module": "@jupyter-widgets/base",
          "model_name": "LayoutModel",
          "model_module_version": "1.2.0",
          "state": {
            "_model_module": "@jupyter-widgets/base",
            "_model_module_version": "1.2.0",
            "_model_name": "LayoutModel",
            "_view_count": null,
            "_view_module": "@jupyter-widgets/base",
            "_view_module_version": "1.2.0",
            "_view_name": "LayoutView",
            "align_content": null,
            "align_items": null,
            "align_self": null,
            "border": null,
            "bottom": null,
            "display": null,
            "flex": null,
            "flex_flow": null,
            "grid_area": null,
            "grid_auto_columns": null,
            "grid_auto_flow": null,
            "grid_auto_rows": null,
            "grid_column": null,
            "grid_gap": null,
            "grid_row": null,
            "grid_template_areas": null,
            "grid_template_columns": null,
            "grid_template_rows": null,
            "height": null,
            "justify_content": null,
            "justify_items": null,
            "left": null,
            "margin": null,
            "max_height": null,
            "max_width": null,
            "min_height": null,
            "min_width": null,
            "object_fit": null,
            "object_position": null,
            "order": null,
            "overflow": null,
            "overflow_x": null,
            "overflow_y": null,
            "padding": null,
            "right": null,
            "top": null,
            "visibility": null,
            "width": null
          }
        },
        "d00f4820cb9340b09c7c847b22aeeaeb": {
          "model_module": "@jupyter-widgets/controls",
          "model_name": "DescriptionStyleModel",
          "model_module_version": "1.5.0",
          "state": {
            "_model_module": "@jupyter-widgets/controls",
            "_model_module_version": "1.5.0",
            "_model_name": "DescriptionStyleModel",
            "_view_count": null,
            "_view_module": "@jupyter-widgets/base",
            "_view_module_version": "1.2.0",
            "_view_name": "StyleView",
            "description_width": ""
          }
        },
        "7e282031694945098cbc36eb6b8a1a38": {
          "model_module": "@jupyter-widgets/base",
          "model_name": "LayoutModel",
          "model_module_version": "1.2.0",
          "state": {
            "_model_module": "@jupyter-widgets/base",
            "_model_module_version": "1.2.0",
            "_model_name": "LayoutModel",
            "_view_count": null,
            "_view_module": "@jupyter-widgets/base",
            "_view_module_version": "1.2.0",
            "_view_name": "LayoutView",
            "align_content": null,
            "align_items": null,
            "align_self": null,
            "border": null,
            "bottom": null,
            "display": null,
            "flex": null,
            "flex_flow": null,
            "grid_area": null,
            "grid_auto_columns": null,
            "grid_auto_flow": null,
            "grid_auto_rows": null,
            "grid_column": null,
            "grid_gap": null,
            "grid_row": null,
            "grid_template_areas": null,
            "grid_template_columns": null,
            "grid_template_rows": null,
            "height": null,
            "justify_content": null,
            "justify_items": null,
            "left": null,
            "margin": null,
            "max_height": null,
            "max_width": null,
            "min_height": null,
            "min_width": null,
            "object_fit": null,
            "object_position": null,
            "order": null,
            "overflow": null,
            "overflow_x": null,
            "overflow_y": null,
            "padding": null,
            "right": null,
            "top": null,
            "visibility": null,
            "width": null
          }
        },
        "11dad148558d4449b9d0d8b0ac7f6aba": {
          "model_module": "@jupyter-widgets/controls",
          "model_name": "ProgressStyleModel",
          "model_module_version": "1.5.0",
          "state": {
            "_model_module": "@jupyter-widgets/controls",
            "_model_module_version": "1.5.0",
            "_model_name": "ProgressStyleModel",
            "_view_count": null,
            "_view_module": "@jupyter-widgets/base",
            "_view_module_version": "1.2.0",
            "_view_name": "StyleView",
            "bar_color": null,
            "description_width": ""
          }
        },
        "59fbd37c83834ec0836b4750bcd17029": {
          "model_module": "@jupyter-widgets/base",
          "model_name": "LayoutModel",
          "model_module_version": "1.2.0",
          "state": {
            "_model_module": "@jupyter-widgets/base",
            "_model_module_version": "1.2.0",
            "_model_name": "LayoutModel",
            "_view_count": null,
            "_view_module": "@jupyter-widgets/base",
            "_view_module_version": "1.2.0",
            "_view_name": "LayoutView",
            "align_content": null,
            "align_items": null,
            "align_self": null,
            "border": null,
            "bottom": null,
            "display": null,
            "flex": null,
            "flex_flow": null,
            "grid_area": null,
            "grid_auto_columns": null,
            "grid_auto_flow": null,
            "grid_auto_rows": null,
            "grid_column": null,
            "grid_gap": null,
            "grid_row": null,
            "grid_template_areas": null,
            "grid_template_columns": null,
            "grid_template_rows": null,
            "height": null,
            "justify_content": null,
            "justify_items": null,
            "left": null,
            "margin": null,
            "max_height": null,
            "max_width": null,
            "min_height": null,
            "min_width": null,
            "object_fit": null,
            "object_position": null,
            "order": null,
            "overflow": null,
            "overflow_x": null,
            "overflow_y": null,
            "padding": null,
            "right": null,
            "top": null,
            "visibility": null,
            "width": null
          }
        },
        "edbc33831e6342b087858a9128b1a091": {
          "model_module": "@jupyter-widgets/controls",
          "model_name": "DescriptionStyleModel",
          "model_module_version": "1.5.0",
          "state": {
            "_model_module": "@jupyter-widgets/controls",
            "_model_module_version": "1.5.0",
            "_model_name": "DescriptionStyleModel",
            "_view_count": null,
            "_view_module": "@jupyter-widgets/base",
            "_view_module_version": "1.2.0",
            "_view_name": "StyleView",
            "description_width": ""
          }
        }
      }
    }
  },
  "cells": [
    {
      "cell_type": "code",
      "execution_count": null,
      "metadata": {
        "id": "lbeBE9UaD8Bd"
      },
      "outputs": [],
      "source": [
        "import tensorflow as tf\n",
        "from tensorflow.keras.layers import Embedding, Dense, Input, Flatten, concatenate,LSTM,Dropout\n",
        "from tensorflow.keras.models import Model\n",
        "import pandas as pd\n",
        "import numpy as np\n",
        "from sklearn.preprocessing import OrdinalEncoder\n",
        "from keras.preprocessing.text import Tokenizer\n",
        "from keras.preprocessing.sequence import pad_sequences"
      ]
    },
    {
      "cell_type": "code",
      "source": [
        "from google.colab import drive\n",
        "drive.mount('/content/drive')"
      ],
      "metadata": {
        "colab": {
          "base_uri": "https://localhost:8080/"
        },
        "id": "O7jE2H8Twims",
        "outputId": "075b281f-e32e-474b-eeac-fdb8b2c030b6"
      },
      "execution_count": null,
      "outputs": [
        {
          "output_type": "stream",
          "name": "stdout",
          "text": [
            "Mounted at /content/drive\n"
          ]
        }
      ]
    },
    {
      "cell_type": "code",
      "source": [
        "data = pd.read_csv('/content/drive/MyDrive/sentiment_hotel_data_multi.csv')\n",
        "data.head()"
      ],
      "metadata": {
        "colab": {
          "base_uri": "https://localhost:8080/",
          "height": 600
        },
        "id": "RKEQOuw9EJAj",
        "outputId": "c0856c8f-2ca9-4977-9e9b-b237d694686f"
      },
      "execution_count": null,
      "outputs": [
        {
          "output_type": "execute_result",
          "data": {
            "text/plain": [
              "   Unnamed: 0  overall  cleanliness location  rooms  service  value  \\\n",
              "0      347763      5.0          5.0      5.0    5.0      5.0    5.0   \n",
              "1      683165      5.0          4.0      4.0    4.0      5.0    5.0   \n",
              "2      596197      2.0          1.0      3.0    2.0      5.0    3.0   \n",
              "3      164718      4.0          4.0      3.0    3.0      5.0    4.0   \n",
              "4      126383      4.0          5.0      5.0    4.0      5.0    4.0   \n",
              "\n",
              "                                     title  \\\n",
              "0                       “The place to be!”   \n",
              "1       “A lovely introduction to Memphis”   \n",
              "2                     “Not my favorite...”   \n",
              "3                    “Courteous and clean”   \n",
              "4  “Great place to stay in the Big Apple!”   \n",
              "\n",
              "                                                text          username  \\\n",
              "0  While searching for a place to stay in San Ant...     billyburg_gal   \n",
              "1  It is a bit out of the way but if you have car...         BethAilsa   \n",
              "2  The restaurant and bar staff were outstanding!...          Nailmark   \n",
              "3  The hotel room was modern and the bed was comf...  LivingInParadise   \n",
              "4  A friend and I travelling to NYC for my birthd...           Dentyne   \n",
              "\n",
              "   num_cities  num_helpful_votes  num_reviews  num_type_reviews         id  \\\n",
              "0         6.0                  0          6.0               NaN  133634921   \n",
              "1         4.0                  0          9.0               5.0  130052739   \n",
              "2        24.0                  0         40.0               8.0  123689053   \n",
              "3         4.0                  2          6.0               NaN  119002043   \n",
              "4         4.0                  5         18.0               5.0  130122332   \n",
              "\n",
              "      date_stayed  offering_id              date  via_mobile  \\\n",
              "0       June 2012       570285      July 6, 2012       False   \n",
              "1        May 2012       295791      May 16, 2012       False   \n",
              "2    January 2012       109138  January 27, 2012        True   \n",
              "3  September 2011        99354   October 6, 2011       False   \n",
              "4      April 2012       122005      May 17, 2012       False   \n",
              "\n",
              "                            user_id  \n",
              "0  CB4EC484D7EF1C121CA07E4CEFE753F9  \n",
              "1  7484D9929DD349511DCA198F21CC7126  \n",
              "2  BB77722086A5C473515AA172FBDDD37C  \n",
              "3  D46DD97DF2F410EFF7262D6F68CDE9F4  \n",
              "4  0483BA36417B757A2AED16EE41958A3B  "
            ],
            "text/html": [
              "\n",
              "  <div id=\"df-8f663dc2-70c0-48bc-a888-129679ec76df\">\n",
              "    <div class=\"colab-df-container\">\n",
              "      <div>\n",
              "<style scoped>\n",
              "    .dataframe tbody tr th:only-of-type {\n",
              "        vertical-align: middle;\n",
              "    }\n",
              "\n",
              "    .dataframe tbody tr th {\n",
              "        vertical-align: top;\n",
              "    }\n",
              "\n",
              "    .dataframe thead th {\n",
              "        text-align: right;\n",
              "    }\n",
              "</style>\n",
              "<table border=\"1\" class=\"dataframe\">\n",
              "  <thead>\n",
              "    <tr style=\"text-align: right;\">\n",
              "      <th></th>\n",
              "      <th>Unnamed: 0</th>\n",
              "      <th>overall</th>\n",
              "      <th>cleanliness</th>\n",
              "      <th>location</th>\n",
              "      <th>rooms</th>\n",
              "      <th>service</th>\n",
              "      <th>value</th>\n",
              "      <th>title</th>\n",
              "      <th>text</th>\n",
              "      <th>username</th>\n",
              "      <th>num_cities</th>\n",
              "      <th>num_helpful_votes</th>\n",
              "      <th>num_reviews</th>\n",
              "      <th>num_type_reviews</th>\n",
              "      <th>id</th>\n",
              "      <th>date_stayed</th>\n",
              "      <th>offering_id</th>\n",
              "      <th>date</th>\n",
              "      <th>via_mobile</th>\n",
              "      <th>user_id</th>\n",
              "    </tr>\n",
              "  </thead>\n",
              "  <tbody>\n",
              "    <tr>\n",
              "      <th>0</th>\n",
              "      <td>347763</td>\n",
              "      <td>5.0</td>\n",
              "      <td>5.0</td>\n",
              "      <td>5.0</td>\n",
              "      <td>5.0</td>\n",
              "      <td>5.0</td>\n",
              "      <td>5.0</td>\n",
              "      <td>“The place to be!”</td>\n",
              "      <td>While searching for a place to stay in San Ant...</td>\n",
              "      <td>billyburg_gal</td>\n",
              "      <td>6.0</td>\n",
              "      <td>0</td>\n",
              "      <td>6.0</td>\n",
              "      <td>NaN</td>\n",
              "      <td>133634921</td>\n",
              "      <td>June 2012</td>\n",
              "      <td>570285</td>\n",
              "      <td>July 6, 2012</td>\n",
              "      <td>False</td>\n",
              "      <td>CB4EC484D7EF1C121CA07E4CEFE753F9</td>\n",
              "    </tr>\n",
              "    <tr>\n",
              "      <th>1</th>\n",
              "      <td>683165</td>\n",
              "      <td>5.0</td>\n",
              "      <td>4.0</td>\n",
              "      <td>4.0</td>\n",
              "      <td>4.0</td>\n",
              "      <td>5.0</td>\n",
              "      <td>5.0</td>\n",
              "      <td>“A lovely introduction to Memphis”</td>\n",
              "      <td>It is a bit out of the way but if you have car...</td>\n",
              "      <td>BethAilsa</td>\n",
              "      <td>4.0</td>\n",
              "      <td>0</td>\n",
              "      <td>9.0</td>\n",
              "      <td>5.0</td>\n",
              "      <td>130052739</td>\n",
              "      <td>May 2012</td>\n",
              "      <td>295791</td>\n",
              "      <td>May 16, 2012</td>\n",
              "      <td>False</td>\n",
              "      <td>7484D9929DD349511DCA198F21CC7126</td>\n",
              "    </tr>\n",
              "    <tr>\n",
              "      <th>2</th>\n",
              "      <td>596197</td>\n",
              "      <td>2.0</td>\n",
              "      <td>1.0</td>\n",
              "      <td>3.0</td>\n",
              "      <td>2.0</td>\n",
              "      <td>5.0</td>\n",
              "      <td>3.0</td>\n",
              "      <td>“Not my favorite...”</td>\n",
              "      <td>The restaurant and bar staff were outstanding!...</td>\n",
              "      <td>Nailmark</td>\n",
              "      <td>24.0</td>\n",
              "      <td>0</td>\n",
              "      <td>40.0</td>\n",
              "      <td>8.0</td>\n",
              "      <td>123689053</td>\n",
              "      <td>January 2012</td>\n",
              "      <td>109138</td>\n",
              "      <td>January 27, 2012</td>\n",
              "      <td>True</td>\n",
              "      <td>BB77722086A5C473515AA172FBDDD37C</td>\n",
              "    </tr>\n",
              "    <tr>\n",
              "      <th>3</th>\n",
              "      <td>164718</td>\n",
              "      <td>4.0</td>\n",
              "      <td>4.0</td>\n",
              "      <td>3.0</td>\n",
              "      <td>3.0</td>\n",
              "      <td>5.0</td>\n",
              "      <td>4.0</td>\n",
              "      <td>“Courteous and clean”</td>\n",
              "      <td>The hotel room was modern and the bed was comf...</td>\n",
              "      <td>LivingInParadise</td>\n",
              "      <td>4.0</td>\n",
              "      <td>2</td>\n",
              "      <td>6.0</td>\n",
              "      <td>NaN</td>\n",
              "      <td>119002043</td>\n",
              "      <td>September 2011</td>\n",
              "      <td>99354</td>\n",
              "      <td>October 6, 2011</td>\n",
              "      <td>False</td>\n",
              "      <td>D46DD97DF2F410EFF7262D6F68CDE9F4</td>\n",
              "    </tr>\n",
              "    <tr>\n",
              "      <th>4</th>\n",
              "      <td>126383</td>\n",
              "      <td>4.0</td>\n",
              "      <td>5.0</td>\n",
              "      <td>5.0</td>\n",
              "      <td>4.0</td>\n",
              "      <td>5.0</td>\n",
              "      <td>4.0</td>\n",
              "      <td>“Great place to stay in the Big Apple!”</td>\n",
              "      <td>A friend and I travelling to NYC for my birthd...</td>\n",
              "      <td>Dentyne</td>\n",
              "      <td>4.0</td>\n",
              "      <td>5</td>\n",
              "      <td>18.0</td>\n",
              "      <td>5.0</td>\n",
              "      <td>130122332</td>\n",
              "      <td>April 2012</td>\n",
              "      <td>122005</td>\n",
              "      <td>May 17, 2012</td>\n",
              "      <td>False</td>\n",
              "      <td>0483BA36417B757A2AED16EE41958A3B</td>\n",
              "    </tr>\n",
              "  </tbody>\n",
              "</table>\n",
              "</div>\n",
              "      <button class=\"colab-df-convert\" onclick=\"convertToInteractive('df-8f663dc2-70c0-48bc-a888-129679ec76df')\"\n",
              "              title=\"Convert this dataframe to an interactive table.\"\n",
              "              style=\"display:none;\">\n",
              "        \n",
              "  <svg xmlns=\"http://www.w3.org/2000/svg\" height=\"24px\"viewBox=\"0 0 24 24\"\n",
              "       width=\"24px\">\n",
              "    <path d=\"M0 0h24v24H0V0z\" fill=\"none\"/>\n",
              "    <path d=\"M18.56 5.44l.94 2.06.94-2.06 2.06-.94-2.06-.94-.94-2.06-.94 2.06-2.06.94zm-11 1L8.5 8.5l.94-2.06 2.06-.94-2.06-.94L8.5 2.5l-.94 2.06-2.06.94zm10 10l.94 2.06.94-2.06 2.06-.94-2.06-.94-.94-2.06-.94 2.06-2.06.94z\"/><path d=\"M17.41 7.96l-1.37-1.37c-.4-.4-.92-.59-1.43-.59-.52 0-1.04.2-1.43.59L10.3 9.45l-7.72 7.72c-.78.78-.78 2.05 0 2.83L4 21.41c.39.39.9.59 1.41.59.51 0 1.02-.2 1.41-.59l7.78-7.78 2.81-2.81c.8-.78.8-2.07 0-2.86zM5.41 20L4 18.59l7.72-7.72 1.47 1.35L5.41 20z\"/>\n",
              "  </svg>\n",
              "      </button>\n",
              "      \n",
              "  <style>\n",
              "    .colab-df-container {\n",
              "      display:flex;\n",
              "      flex-wrap:wrap;\n",
              "      gap: 12px;\n",
              "    }\n",
              "\n",
              "    .colab-df-convert {\n",
              "      background-color: #E8F0FE;\n",
              "      border: none;\n",
              "      border-radius: 50%;\n",
              "      cursor: pointer;\n",
              "      display: none;\n",
              "      fill: #1967D2;\n",
              "      height: 32px;\n",
              "      padding: 0 0 0 0;\n",
              "      width: 32px;\n",
              "    }\n",
              "\n",
              "    .colab-df-convert:hover {\n",
              "      background-color: #E2EBFA;\n",
              "      box-shadow: 0px 1px 2px rgba(60, 64, 67, 0.3), 0px 1px 3px 1px rgba(60, 64, 67, 0.15);\n",
              "      fill: #174EA6;\n",
              "    }\n",
              "\n",
              "    [theme=dark] .colab-df-convert {\n",
              "      background-color: #3B4455;\n",
              "      fill: #D2E3FC;\n",
              "    }\n",
              "\n",
              "    [theme=dark] .colab-df-convert:hover {\n",
              "      background-color: #434B5C;\n",
              "      box-shadow: 0px 1px 3px 1px rgba(0, 0, 0, 0.15);\n",
              "      filter: drop-shadow(0px 1px 2px rgba(0, 0, 0, 0.3));\n",
              "      fill: #FFFFFF;\n",
              "    }\n",
              "  </style>\n",
              "\n",
              "      <script>\n",
              "        const buttonEl =\n",
              "          document.querySelector('#df-8f663dc2-70c0-48bc-a888-129679ec76df button.colab-df-convert');\n",
              "        buttonEl.style.display =\n",
              "          google.colab.kernel.accessAllowed ? 'block' : 'none';\n",
              "\n",
              "        async function convertToInteractive(key) {\n",
              "          const element = document.querySelector('#df-8f663dc2-70c0-48bc-a888-129679ec76df');\n",
              "          const dataTable =\n",
              "            await google.colab.kernel.invokeFunction('convertToInteractive',\n",
              "                                                     [key], {});\n",
              "          if (!dataTable) return;\n",
              "\n",
              "          const docLinkHtml = 'Like what you see? Visit the ' +\n",
              "            '<a target=\"_blank\" href=https://colab.research.google.com/notebooks/data_table.ipynb>data table notebook</a>'\n",
              "            + ' to learn more about interactive tables.';\n",
              "          element.innerHTML = '';\n",
              "          dataTable['output_type'] = 'display_data';\n",
              "          await google.colab.output.renderOutput(dataTable, element);\n",
              "          const docLink = document.createElement('div');\n",
              "          docLink.innerHTML = docLinkHtml;\n",
              "          element.appendChild(docLink);\n",
              "        }\n",
              "      </script>\n",
              "    </div>\n",
              "  </div>\n",
              "  "
            ]
          },
          "metadata": {},
          "execution_count": 3
        }
      ]
    },
    {
      "cell_type": "code",
      "source": [
        ""
      ],
      "metadata": {
        "id": "A2L4giGuxb13"
      },
      "execution_count": null,
      "outputs": []
    },
    {
      "cell_type": "code",
      "source": [
        "data = data[data.location.isin(['0.0','1.0','2.0','3.0','4.0','5.0'])]"
      ],
      "metadata": {
        "id": "WS0FqTapyNmm"
      },
      "execution_count": null,
      "outputs": []
    },
    {
      "cell_type": "code",
      "source": [
        "cls = ['cleanliness','location','rooms','service','value']\n",
        "for cl in cls:\n",
        "  data[cl] = np.asarray(data[cl]).astype(np.float64)"
      ],
      "metadata": {
        "id": "5ubNz6ThyXUt",
        "colab": {
          "base_uri": "https://localhost:8080/"
        },
        "outputId": "721ee9bd-da2c-44a5-82a4-c075f17c3b52"
      },
      "execution_count": null,
      "outputs": [
        {
          "output_type": "stream",
          "name": "stderr",
          "text": [
            "/usr/local/lib/python3.7/dist-packages/ipykernel_launcher.py:3: SettingWithCopyWarning: \n",
            "A value is trying to be set on a copy of a slice from a DataFrame.\n",
            "Try using .loc[row_indexer,col_indexer] = value instead\n",
            "\n",
            "See the caveats in the documentation: https://pandas.pydata.org/pandas-docs/stable/user_guide/indexing.html#returning-a-view-versus-a-copy\n",
            "  This is separate from the ipykernel package so we can avoid doing imports until\n"
          ]
        }
      ]
    },
    {
      "cell_type": "code",
      "source": [
        "data = data[data['cleanliness']!=3]\n",
        "data = data[data['location']!=3]\n",
        "data = data[data['rooms']!=3]\n",
        "data = data[data['service']!=3]\n",
        "data = data[data['value']!=3]\n",
        "data = data[data['overall']!=3]"
      ],
      "metadata": {
        "id": "YUcqRl-Bxe_b"
      },
      "execution_count": null,
      "outputs": []
    },
    {
      "cell_type": "code",
      "source": [
        "data.shape"
      ],
      "metadata": {
        "colab": {
          "base_uri": "https://localhost:8080/"
        },
        "id": "3qkCriG7xrz3",
        "outputId": "4f443aeb-c6fa-4aa2-9bbd-148d2435985f"
      },
      "execution_count": null,
      "outputs": [
        {
          "output_type": "execute_result",
          "data": {
            "text/plain": [
              "(58359, 20)"
            ]
          },
          "metadata": {},
          "execution_count": 7
        }
      ]
    },
    {
      "cell_type": "code",
      "source": [
        "\n",
        "data['cleanliness_sent'] = data['cleanliness'].apply(lambda x : 1 if x> 3 else 0 )\n",
        "data['location_sent'] = data['location'].apply(lambda x : 1 if x> 3 else 0 )\n",
        "data['rooms_sent'] = data['rooms'].apply(lambda x : 1 if x> 3 else 0 )\n",
        "data['service_sent'] = data['service'].apply(lambda x : 1 if x> 3 else 0 )\n",
        "data['value_sent'] = data['value'].apply(lambda x : 1 if x> 3 else 0 )\n",
        "\n",
        "data['Label'] = data['overall'].apply(lambda x : 1 if x> 3 else 0 )\n",
        "data.head()"
      ],
      "metadata": {
        "colab": {
          "base_uri": "https://localhost:8080/",
          "height": 1000
        },
        "id": "sw23a4eoGCFN",
        "outputId": "7a6c13f1-17d0-437d-bf4c-5d7427e03f97"
      },
      "execution_count": null,
      "outputs": [
        {
          "output_type": "stream",
          "name": "stderr",
          "text": [
            "/usr/local/lib/python3.7/dist-packages/ipykernel_launcher.py:2: SettingWithCopyWarning: \n",
            "A value is trying to be set on a copy of a slice from a DataFrame.\n",
            "Try using .loc[row_indexer,col_indexer] = value instead\n",
            "\n",
            "See the caveats in the documentation: https://pandas.pydata.org/pandas-docs/stable/user_guide/indexing.html#returning-a-view-versus-a-copy\n",
            "  \n",
            "/usr/local/lib/python3.7/dist-packages/ipykernel_launcher.py:3: SettingWithCopyWarning: \n",
            "A value is trying to be set on a copy of a slice from a DataFrame.\n",
            "Try using .loc[row_indexer,col_indexer] = value instead\n",
            "\n",
            "See the caveats in the documentation: https://pandas.pydata.org/pandas-docs/stable/user_guide/indexing.html#returning-a-view-versus-a-copy\n",
            "  This is separate from the ipykernel package so we can avoid doing imports until\n",
            "/usr/local/lib/python3.7/dist-packages/ipykernel_launcher.py:4: SettingWithCopyWarning: \n",
            "A value is trying to be set on a copy of a slice from a DataFrame.\n",
            "Try using .loc[row_indexer,col_indexer] = value instead\n",
            "\n",
            "See the caveats in the documentation: https://pandas.pydata.org/pandas-docs/stable/user_guide/indexing.html#returning-a-view-versus-a-copy\n",
            "  after removing the cwd from sys.path.\n",
            "/usr/local/lib/python3.7/dist-packages/ipykernel_launcher.py:5: SettingWithCopyWarning: \n",
            "A value is trying to be set on a copy of a slice from a DataFrame.\n",
            "Try using .loc[row_indexer,col_indexer] = value instead\n",
            "\n",
            "See the caveats in the documentation: https://pandas.pydata.org/pandas-docs/stable/user_guide/indexing.html#returning-a-view-versus-a-copy\n",
            "  \"\"\"\n",
            "/usr/local/lib/python3.7/dist-packages/ipykernel_launcher.py:6: SettingWithCopyWarning: \n",
            "A value is trying to be set on a copy of a slice from a DataFrame.\n",
            "Try using .loc[row_indexer,col_indexer] = value instead\n",
            "\n",
            "See the caveats in the documentation: https://pandas.pydata.org/pandas-docs/stable/user_guide/indexing.html#returning-a-view-versus-a-copy\n",
            "  \n",
            "/usr/local/lib/python3.7/dist-packages/ipykernel_launcher.py:8: SettingWithCopyWarning: \n",
            "A value is trying to be set on a copy of a slice from a DataFrame.\n",
            "Try using .loc[row_indexer,col_indexer] = value instead\n",
            "\n",
            "See the caveats in the documentation: https://pandas.pydata.org/pandas-docs/stable/user_guide/indexing.html#returning-a-view-versus-a-copy\n",
            "  \n"
          ]
        },
        {
          "output_type": "execute_result",
          "data": {
            "text/plain": [
              "   Unnamed: 0  overall  cleanliness  location  rooms  service  value  \\\n",
              "0      347763      5.0          5.0       5.0    5.0      5.0    5.0   \n",
              "1      683165      5.0          4.0       4.0    4.0      5.0    5.0   \n",
              "4      126383      4.0          5.0       5.0    4.0      5.0    4.0   \n",
              "7      729781      1.0          1.0       5.0    1.0      1.0    1.0   \n",
              "8      444718      5.0          5.0       5.0    5.0      5.0    5.0   \n",
              "\n",
              "                                     title  \\\n",
              "0                       “The place to be!”   \n",
              "1       “A lovely introduction to Memphis”   \n",
              "4  “Great place to stay in the Big Apple!”   \n",
              "7                              “BED BUGS!”   \n",
              "8                   “Spectacular Service!”   \n",
              "\n",
              "                                                text          username  ...  \\\n",
              "0  While searching for a place to stay in San Ant...     billyburg_gal  ...   \n",
              "1  It is a bit out of the way but if you have car...         BethAilsa  ...   \n",
              "4  A friend and I travelling to NYC for my birthd...           Dentyne  ...   \n",
              "7  Don't stay at this hotel. They have bedbugs. I...     almorris60745  ...   \n",
              "8  Wonderful and professional welcome from the st...  traveling_gal801  ...   \n",
              "\n",
              "   offering_id            date  via_mobile                           user_id  \\\n",
              "0       570285    July 6, 2012       False  CB4EC484D7EF1C121CA07E4CEFE753F9   \n",
              "1       295791    May 16, 2012       False  7484D9929DD349511DCA198F21CC7126   \n",
              "4       122005    May 17, 2012       False  0483BA36417B757A2AED16EE41958A3B   \n",
              "7        84051    July 2, 2012       False  C4BC9AF097113D5FBC61C163A626D68E   \n",
              "8      2015227  March 15, 2012       False  1C780DE0AB3D20E1A22D3FDC854535B3   \n",
              "\n",
              "   cleanliness_sent location_sent  rooms_sent service_sent  value_sent Label  \n",
              "0                 1             1           1            1           1     1  \n",
              "1                 1             1           1            1           1     1  \n",
              "4                 1             1           1            1           1     1  \n",
              "7                 0             1           0            0           0     0  \n",
              "8                 1             1           1            1           1     1  \n",
              "\n",
              "[5 rows x 26 columns]"
            ],
            "text/html": [
              "\n",
              "  <div id=\"df-f967e40f-526f-4118-a18f-ccb70a461337\">\n",
              "    <div class=\"colab-df-container\">\n",
              "      <div>\n",
              "<style scoped>\n",
              "    .dataframe tbody tr th:only-of-type {\n",
              "        vertical-align: middle;\n",
              "    }\n",
              "\n",
              "    .dataframe tbody tr th {\n",
              "        vertical-align: top;\n",
              "    }\n",
              "\n",
              "    .dataframe thead th {\n",
              "        text-align: right;\n",
              "    }\n",
              "</style>\n",
              "<table border=\"1\" class=\"dataframe\">\n",
              "  <thead>\n",
              "    <tr style=\"text-align: right;\">\n",
              "      <th></th>\n",
              "      <th>Unnamed: 0</th>\n",
              "      <th>overall</th>\n",
              "      <th>cleanliness</th>\n",
              "      <th>location</th>\n",
              "      <th>rooms</th>\n",
              "      <th>service</th>\n",
              "      <th>value</th>\n",
              "      <th>title</th>\n",
              "      <th>text</th>\n",
              "      <th>username</th>\n",
              "      <th>...</th>\n",
              "      <th>offering_id</th>\n",
              "      <th>date</th>\n",
              "      <th>via_mobile</th>\n",
              "      <th>user_id</th>\n",
              "      <th>cleanliness_sent</th>\n",
              "      <th>location_sent</th>\n",
              "      <th>rooms_sent</th>\n",
              "      <th>service_sent</th>\n",
              "      <th>value_sent</th>\n",
              "      <th>Label</th>\n",
              "    </tr>\n",
              "  </thead>\n",
              "  <tbody>\n",
              "    <tr>\n",
              "      <th>0</th>\n",
              "      <td>347763</td>\n",
              "      <td>5.0</td>\n",
              "      <td>5.0</td>\n",
              "      <td>5.0</td>\n",
              "      <td>5.0</td>\n",
              "      <td>5.0</td>\n",
              "      <td>5.0</td>\n",
              "      <td>“The place to be!”</td>\n",
              "      <td>While searching for a place to stay in San Ant...</td>\n",
              "      <td>billyburg_gal</td>\n",
              "      <td>...</td>\n",
              "      <td>570285</td>\n",
              "      <td>July 6, 2012</td>\n",
              "      <td>False</td>\n",
              "      <td>CB4EC484D7EF1C121CA07E4CEFE753F9</td>\n",
              "      <td>1</td>\n",
              "      <td>1</td>\n",
              "      <td>1</td>\n",
              "      <td>1</td>\n",
              "      <td>1</td>\n",
              "      <td>1</td>\n",
              "    </tr>\n",
              "    <tr>\n",
              "      <th>1</th>\n",
              "      <td>683165</td>\n",
              "      <td>5.0</td>\n",
              "      <td>4.0</td>\n",
              "      <td>4.0</td>\n",
              "      <td>4.0</td>\n",
              "      <td>5.0</td>\n",
              "      <td>5.0</td>\n",
              "      <td>“A lovely introduction to Memphis”</td>\n",
              "      <td>It is a bit out of the way but if you have car...</td>\n",
              "      <td>BethAilsa</td>\n",
              "      <td>...</td>\n",
              "      <td>295791</td>\n",
              "      <td>May 16, 2012</td>\n",
              "      <td>False</td>\n",
              "      <td>7484D9929DD349511DCA198F21CC7126</td>\n",
              "      <td>1</td>\n",
              "      <td>1</td>\n",
              "      <td>1</td>\n",
              "      <td>1</td>\n",
              "      <td>1</td>\n",
              "      <td>1</td>\n",
              "    </tr>\n",
              "    <tr>\n",
              "      <th>4</th>\n",
              "      <td>126383</td>\n",
              "      <td>4.0</td>\n",
              "      <td>5.0</td>\n",
              "      <td>5.0</td>\n",
              "      <td>4.0</td>\n",
              "      <td>5.0</td>\n",
              "      <td>4.0</td>\n",
              "      <td>“Great place to stay in the Big Apple!”</td>\n",
              "      <td>A friend and I travelling to NYC for my birthd...</td>\n",
              "      <td>Dentyne</td>\n",
              "      <td>...</td>\n",
              "      <td>122005</td>\n",
              "      <td>May 17, 2012</td>\n",
              "      <td>False</td>\n",
              "      <td>0483BA36417B757A2AED16EE41958A3B</td>\n",
              "      <td>1</td>\n",
              "      <td>1</td>\n",
              "      <td>1</td>\n",
              "      <td>1</td>\n",
              "      <td>1</td>\n",
              "      <td>1</td>\n",
              "    </tr>\n",
              "    <tr>\n",
              "      <th>7</th>\n",
              "      <td>729781</td>\n",
              "      <td>1.0</td>\n",
              "      <td>1.0</td>\n",
              "      <td>5.0</td>\n",
              "      <td>1.0</td>\n",
              "      <td>1.0</td>\n",
              "      <td>1.0</td>\n",
              "      <td>“BED BUGS!”</td>\n",
              "      <td>Don't stay at this hotel. They have bedbugs. I...</td>\n",
              "      <td>almorris60745</td>\n",
              "      <td>...</td>\n",
              "      <td>84051</td>\n",
              "      <td>July 2, 2012</td>\n",
              "      <td>False</td>\n",
              "      <td>C4BC9AF097113D5FBC61C163A626D68E</td>\n",
              "      <td>0</td>\n",
              "      <td>1</td>\n",
              "      <td>0</td>\n",
              "      <td>0</td>\n",
              "      <td>0</td>\n",
              "      <td>0</td>\n",
              "    </tr>\n",
              "    <tr>\n",
              "      <th>8</th>\n",
              "      <td>444718</td>\n",
              "      <td>5.0</td>\n",
              "      <td>5.0</td>\n",
              "      <td>5.0</td>\n",
              "      <td>5.0</td>\n",
              "      <td>5.0</td>\n",
              "      <td>5.0</td>\n",
              "      <td>“Spectacular Service!”</td>\n",
              "      <td>Wonderful and professional welcome from the st...</td>\n",
              "      <td>traveling_gal801</td>\n",
              "      <td>...</td>\n",
              "      <td>2015227</td>\n",
              "      <td>March 15, 2012</td>\n",
              "      <td>False</td>\n",
              "      <td>1C780DE0AB3D20E1A22D3FDC854535B3</td>\n",
              "      <td>1</td>\n",
              "      <td>1</td>\n",
              "      <td>1</td>\n",
              "      <td>1</td>\n",
              "      <td>1</td>\n",
              "      <td>1</td>\n",
              "    </tr>\n",
              "  </tbody>\n",
              "</table>\n",
              "<p>5 rows × 26 columns</p>\n",
              "</div>\n",
              "      <button class=\"colab-df-convert\" onclick=\"convertToInteractive('df-f967e40f-526f-4118-a18f-ccb70a461337')\"\n",
              "              title=\"Convert this dataframe to an interactive table.\"\n",
              "              style=\"display:none;\">\n",
              "        \n",
              "  <svg xmlns=\"http://www.w3.org/2000/svg\" height=\"24px\"viewBox=\"0 0 24 24\"\n",
              "       width=\"24px\">\n",
              "    <path d=\"M0 0h24v24H0V0z\" fill=\"none\"/>\n",
              "    <path d=\"M18.56 5.44l.94 2.06.94-2.06 2.06-.94-2.06-.94-.94-2.06-.94 2.06-2.06.94zm-11 1L8.5 8.5l.94-2.06 2.06-.94-2.06-.94L8.5 2.5l-.94 2.06-2.06.94zm10 10l.94 2.06.94-2.06 2.06-.94-2.06-.94-.94-2.06-.94 2.06-2.06.94z\"/><path d=\"M17.41 7.96l-1.37-1.37c-.4-.4-.92-.59-1.43-.59-.52 0-1.04.2-1.43.59L10.3 9.45l-7.72 7.72c-.78.78-.78 2.05 0 2.83L4 21.41c.39.39.9.59 1.41.59.51 0 1.02-.2 1.41-.59l7.78-7.78 2.81-2.81c.8-.78.8-2.07 0-2.86zM5.41 20L4 18.59l7.72-7.72 1.47 1.35L5.41 20z\"/>\n",
              "  </svg>\n",
              "      </button>\n",
              "      \n",
              "  <style>\n",
              "    .colab-df-container {\n",
              "      display:flex;\n",
              "      flex-wrap:wrap;\n",
              "      gap: 12px;\n",
              "    }\n",
              "\n",
              "    .colab-df-convert {\n",
              "      background-color: #E8F0FE;\n",
              "      border: none;\n",
              "      border-radius: 50%;\n",
              "      cursor: pointer;\n",
              "      display: none;\n",
              "      fill: #1967D2;\n",
              "      height: 32px;\n",
              "      padding: 0 0 0 0;\n",
              "      width: 32px;\n",
              "    }\n",
              "\n",
              "    .colab-df-convert:hover {\n",
              "      background-color: #E2EBFA;\n",
              "      box-shadow: 0px 1px 2px rgba(60, 64, 67, 0.3), 0px 1px 3px 1px rgba(60, 64, 67, 0.15);\n",
              "      fill: #174EA6;\n",
              "    }\n",
              "\n",
              "    [theme=dark] .colab-df-convert {\n",
              "      background-color: #3B4455;\n",
              "      fill: #D2E3FC;\n",
              "    }\n",
              "\n",
              "    [theme=dark] .colab-df-convert:hover {\n",
              "      background-color: #434B5C;\n",
              "      box-shadow: 0px 1px 3px 1px rgba(0, 0, 0, 0.15);\n",
              "      filter: drop-shadow(0px 1px 2px rgba(0, 0, 0, 0.3));\n",
              "      fill: #FFFFFF;\n",
              "    }\n",
              "  </style>\n",
              "\n",
              "      <script>\n",
              "        const buttonEl =\n",
              "          document.querySelector('#df-f967e40f-526f-4118-a18f-ccb70a461337 button.colab-df-convert');\n",
              "        buttonEl.style.display =\n",
              "          google.colab.kernel.accessAllowed ? 'block' : 'none';\n",
              "\n",
              "        async function convertToInteractive(key) {\n",
              "          const element = document.querySelector('#df-f967e40f-526f-4118-a18f-ccb70a461337');\n",
              "          const dataTable =\n",
              "            await google.colab.kernel.invokeFunction('convertToInteractive',\n",
              "                                                     [key], {});\n",
              "          if (!dataTable) return;\n",
              "\n",
              "          const docLinkHtml = 'Like what you see? Visit the ' +\n",
              "            '<a target=\"_blank\" href=https://colab.research.google.com/notebooks/data_table.ipynb>data table notebook</a>'\n",
              "            + ' to learn more about interactive tables.';\n",
              "          element.innerHTML = '';\n",
              "          dataTable['output_type'] = 'display_data';\n",
              "          await google.colab.output.renderOutput(dataTable, element);\n",
              "          const docLink = document.createElement('div');\n",
              "          docLink.innerHTML = docLinkHtml;\n",
              "          element.appendChild(docLink);\n",
              "        }\n",
              "      </script>\n",
              "    </div>\n",
              "  </div>\n",
              "  "
            ]
          },
          "metadata": {},
          "execution_count": 8
        }
      ]
    },
    {
      "cell_type": "code",
      "source": [
        ""
      ],
      "metadata": {
        "id": "Uw_0XwSEbo7Y"
      },
      "execution_count": null,
      "outputs": []
    },
    {
      "cell_type": "code",
      "source": [
        "data.Label.hist()"
      ],
      "metadata": {
        "colab": {
          "base_uri": "https://localhost:8080/",
          "height": 282
        },
        "id": "Rhx59iuTGYEi",
        "outputId": "de2e30ae-ef15-4fae-a0e6-5c784f88041f"
      },
      "execution_count": null,
      "outputs": [
        {
          "output_type": "execute_result",
          "data": {
            "text/plain": [
              "<matplotlib.axes._subplots.AxesSubplot at 0x7f599e0fcfd0>"
            ]
          },
          "metadata": {},
          "execution_count": 9
        },
        {
          "output_type": "display_data",
          "data": {
            "text/plain": [
              "<Figure size 432x288 with 1 Axes>"
            ],
            "image/png": "[encoded data removed]"
          },
          "metadata": {
            "needs_background": "light"
          }
        }
      ]
    },
    {
      "cell_type": "code",
      "source": [
        "pos_data = data[data['Label']==1].iloc[:3795]\n",
        "neg_data = data[data['Label']==0].iloc[:3795]"
      ],
      "metadata": {
        "id": "aRXCoAwgbuM2"
      },
      "execution_count": null,
      "outputs": []
    },
    {
      "cell_type": "code",
      "source": [
        "pos_data.shape , neg_data.shape"
      ],
      "metadata": {
        "colab": {
          "base_uri": "https://localhost:8080/"
        },
        "id": "Jl5hi6gh2S7x",
        "outputId": "385bd52e-5dba-4658-8f57-f5e0befd0a92"
      },
      "execution_count": null,
      "outputs": [
        {
          "output_type": "execute_result",
          "data": {
            "text/plain": [
              "((3795, 26), (3795, 26))"
            ]
          },
          "metadata": {},
          "execution_count": 11
        }
      ]
    },
    {
      "cell_type": "code",
      "source": [
        "data = pd.concat([pos_data,neg_data])\n",
        "data = data.sample(frac=1)\n",
        "data.head()"
      ],
      "metadata": {
        "colab": {
          "base_uri": "https://localhost:8080/",
          "height": 664
        },
        "id": "m5H9-3dOb8dT",
        "outputId": "63b8b546-ae0f-40fb-9ecb-cf83bda6b0bb"
      },
      "execution_count": null,
      "outputs": [
        {
          "output_type": "execute_result",
          "data": {
            "text/plain": [
              "       Unnamed: 0  overall  cleanliness  location  rooms  service  value  \\\n",
              "57499      692416      2.0          1.0       2.0    2.0      2.0    2.0   \n",
              "68         443347      5.0          5.0       5.0    5.0      5.0    4.0   \n",
              "42272      360235      1.0          1.0       1.0    1.0      1.0    1.0   \n",
              "3200       500701      5.0          5.0       5.0    5.0      5.0    5.0   \n",
              "56600      272750      1.0          1.0       1.0    1.0      1.0    1.0   \n",
              "\n",
              "                                            title  \\\n",
              "57499                        “Dirty/smelly hotel”   \n",
              "68                          “Visit to the Valley”   \n",
              "42272            “Dirty, Filthy, and Disgusting!”   \n",
              "3200   “I love this hotel, especially for the...”   \n",
              "56600                                 “Its awful”   \n",
              "\n",
              "                                                    text      username  ...  \\\n",
              "57499  As a Travel Agent i like to experience as many...       kglobal  ...   \n",
              "68     Picked this property out for an overnight visi...        Jill D  ...   \n",
              "42272  Oh where to begin...okay how about the horribl...  socaltrav075  ...   \n",
              "3200   I love this hotel, especially for the price. C...  Cardesigner1  ...   \n",
              "56600  Dont waste your money coming to this place. It...        rnikki  ...   \n",
              "\n",
              "       offering_id               date  via_mobile  \\\n",
              "57499       125626  December 12, 2007       False   \n",
              "68         1200121   December 6, 2012       False   \n",
              "42272       119746      July 24, 2008       False   \n",
              "3200         80823    August 16, 2010        True   \n",
              "56600       549441      July 10, 2010       False   \n",
              "\n",
              "                                user_id  cleanliness_sent location_sent  \\\n",
              "57499  FF4D56F15A274C83AF33D8E6A569382D                 0             0   \n",
              "68     69405DA4751D2AE12CBA55F5ADCADAFB                 1             1   \n",
              "42272  0A8D4B783458E1CB32FC9A657E2C6F4D                 0             0   \n",
              "3200   8AB3512EF907E582E26A162DB316791B                 1             1   \n",
              "56600  A022BE8A0CA3F0238832A58E192F977B                 0             0   \n",
              "\n",
              "       rooms_sent service_sent  value_sent Label  \n",
              "57499           0            0           0     0  \n",
              "68              1            1           1     1  \n",
              "42272           0            0           0     0  \n",
              "3200            1            1           1     1  \n",
              "56600           0            0           0     0  \n",
              "\n",
              "[5 rows x 26 columns]"
            ],
            "text/html": [
              "\n",
              "  <div id=\"df-98c2258f-60ef-4dca-be81-94f2070eb9cb\">\n",
              "    <div class=\"colab-df-container\">\n",
              "      <div>\n",
              "<style scoped>\n",
              "    .dataframe tbody tr th:only-of-type {\n",
              "        vertical-align: middle;\n",
              "    }\n",
              "\n",
              "    .dataframe tbody tr th {\n",
              "        vertical-align: top;\n",
              "    }\n",
              "\n",
              "    .dataframe thead th {\n",
              "        text-align: right;\n",
              "    }\n",
              "</style>\n",
              "<table border=\"1\" class=\"dataframe\">\n",
              "  <thead>\n",
              "    <tr style=\"text-align: right;\">\n",
              "      <th></th>\n",
              "      <th>Unnamed: 0</th>\n",
              "      <th>overall</th>\n",
              "      <th>cleanliness</th>\n",
              "      <th>location</th>\n",
              "      <th>rooms</th>\n",
              "      <th>service</th>\n",
              "      <th>value</th>\n",
              "      <th>title</th>\n",
              "      <th>text</th>\n",
              "      <th>username</th>\n",
              "      <th>...</th>\n",
              "      <th>offering_id</th>\n",
              "      <th>date</th>\n",
              "      <th>via_mobile</th>\n",
              "      <th>user_id</th>\n",
              "      <th>cleanliness_sent</th>\n",
              "      <th>location_sent</th>\n",
              "      <th>rooms_sent</th>\n",
              "      <th>service_sent</th>\n",
              "      <th>value_sent</th>\n",
              "      <th>Label</th>\n",
              "    </tr>\n",
              "  </thead>\n",
              "  <tbody>\n",
              "    <tr>\n",
              "      <th>57499</th>\n",
              "      <td>692416</td>\n",
              "      <td>2.0</td>\n",
              "      <td>1.0</td>\n",
              "      <td>2.0</td>\n",
              "      <td>2.0</td>\n",
              "      <td>2.0</td>\n",
              "      <td>2.0</td>\n",
              "      <td>“Dirty/smelly hotel”</td>\n",
              "      <td>As a Travel Agent i like to experience as many...</td>\n",
              "      <td>kglobal</td>\n",
              "      <td>...</td>\n",
              "      <td>125626</td>\n",
              "      <td>December 12, 2007</td>\n",
              "      <td>False</td>\n",
              "      <td>FF4D56F15A274C83AF33D8E6A569382D</td>\n",
              "      <td>0</td>\n",
              "      <td>0</td>\n",
              "      <td>0</td>\n",
              "      <td>0</td>\n",
              "      <td>0</td>\n",
              "      <td>0</td>\n",
              "    </tr>\n",
              "    <tr>\n",
              "      <th>68</th>\n",
              "      <td>443347</td>\n",
              "      <td>5.0</td>\n",
              "      <td>5.0</td>\n",
              "      <td>5.0</td>\n",
              "      <td>5.0</td>\n",
              "      <td>5.0</td>\n",
              "      <td>4.0</td>\n",
              "      <td>“Visit to the Valley”</td>\n",
              "      <td>Picked this property out for an overnight visi...</td>\n",
              "      <td>Jill D</td>\n",
              "      <td>...</td>\n",
              "      <td>1200121</td>\n",
              "      <td>December 6, 2012</td>\n",
              "      <td>False</td>\n",
              "      <td>69405DA4751D2AE12CBA55F5ADCADAFB</td>\n",
              "      <td>1</td>\n",
              "      <td>1</td>\n",
              "      <td>1</td>\n",
              "      <td>1</td>\n",
              "      <td>1</td>\n",
              "      <td>1</td>\n",
              "    </tr>\n",
              "    <tr>\n",
              "      <th>42272</th>\n",
              "      <td>360235</td>\n",
              "      <td>1.0</td>\n",
              "      <td>1.0</td>\n",
              "      <td>1.0</td>\n",
              "      <td>1.0</td>\n",
              "      <td>1.0</td>\n",
              "      <td>1.0</td>\n",
              "      <td>“Dirty, Filthy, and Disgusting!”</td>\n",
              "      <td>Oh where to begin...okay how about the horribl...</td>\n",
              "      <td>socaltrav075</td>\n",
              "      <td>...</td>\n",
              "      <td>119746</td>\n",
              "      <td>July 24, 2008</td>\n",
              "      <td>False</td>\n",
              "      <td>0A8D4B783458E1CB32FC9A657E2C6F4D</td>\n",
              "      <td>0</td>\n",
              "      <td>0</td>\n",
              "      <td>0</td>\n",
              "      <td>0</td>\n",
              "      <td>0</td>\n",
              "      <td>0</td>\n",
              "    </tr>\n",
              "    <tr>\n",
              "      <th>3200</th>\n",
              "      <td>500701</td>\n",
              "      <td>5.0</td>\n",
              "      <td>5.0</td>\n",
              "      <td>5.0</td>\n",
              "      <td>5.0</td>\n",
              "      <td>5.0</td>\n",
              "      <td>5.0</td>\n",
              "      <td>“I love this hotel, especially for the...”</td>\n",
              "      <td>I love this hotel, especially for the price. C...</td>\n",
              "      <td>Cardesigner1</td>\n",
              "      <td>...</td>\n",
              "      <td>80823</td>\n",
              "      <td>August 16, 2010</td>\n",
              "      <td>True</td>\n",
              "      <td>8AB3512EF907E582E26A162DB316791B</td>\n",
              "      <td>1</td>\n",
              "      <td>1</td>\n",
              "      <td>1</td>\n",
              "      <td>1</td>\n",
              "      <td>1</td>\n",
              "      <td>1</td>\n",
              "    </tr>\n",
              "    <tr>\n",
              "      <th>56600</th>\n",
              "      <td>272750</td>\n",
              "      <td>1.0</td>\n",
              "      <td>1.0</td>\n",
              "      <td>1.0</td>\n",
              "      <td>1.0</td>\n",
              "      <td>1.0</td>\n",
              "      <td>1.0</td>\n",
              "      <td>“Its awful”</td>\n",
              "      <td>Dont waste your money coming to this place. It...</td>\n",
              "      <td>rnikki</td>\n",
              "      <td>...</td>\n",
              "      <td>549441</td>\n",
              "      <td>July 10, 2010</td>\n",
              "      <td>False</td>\n",
              "      <td>A022BE8A0CA3F0238832A58E192F977B</td>\n",
              "      <td>0</td>\n",
              "      <td>0</td>\n",
              "      <td>0</td>\n",
              "      <td>0</td>\n",
              "      <td>0</td>\n",
              "      <td>0</td>\n",
              "    </tr>\n",
              "  </tbody>\n",
              "</table>\n",
              "<p>5 rows × 26 columns</p>\n",
              "</div>\n",
              "      <button class=\"colab-df-convert\" onclick=\"convertToInteractive('df-98c2258f-60ef-4dca-be81-94f2070eb9cb')\"\n",
              "              title=\"Convert this dataframe to an interactive table.\"\n",
              "              style=\"display:none;\">\n",
              "        \n",
              "  <svg xmlns=\"http://www.w3.org/2000/svg\" height=\"24px\"viewBox=\"0 0 24 24\"\n",
              "       width=\"24px\">\n",
              "    <path d=\"M0 0h24v24H0V0z\" fill=\"none\"/>\n",
              "    <path d=\"M18.56 5.44l.94 2.06.94-2.06 2.06-.94-2.06-.94-.94-2.06-.94 2.06-2.06.94zm-11 1L8.5 8.5l.94-2.06 2.06-.94-2.06-.94L8.5 2.5l-.94 2.06-2.06.94zm10 10l.94 2.06.94-2.06 2.06-.94-2.06-.94-.94-2.06-.94 2.06-2.06.94z\"/><path d=\"M17.41 7.96l-1.37-1.37c-.4-.4-.92-.59-1.43-.59-.52 0-1.04.2-1.43.59L10.3 9.45l-7.72 7.72c-.78.78-.78 2.05 0 2.83L4 21.41c.39.39.9.59 1.41.59.51 0 1.02-.2 1.41-.59l7.78-7.78 2.81-2.81c.8-.78.8-2.07 0-2.86zM5.41 20L4 18.59l7.72-7.72 1.47 1.35L5.41 20z\"/>\n",
              "  </svg>\n",
              "      </button>\n",
              "      \n",
              "  <style>\n",
              "    .colab-df-container {\n",
              "      display:flex;\n",
              "      flex-wrap:wrap;\n",
              "      gap: 12px;\n",
              "    }\n",
              "\n",
              "    .colab-df-convert {\n",
              "      background-color: #E8F0FE;\n",
              "      border: none;\n",
              "      border-radius: 50%;\n",
              "      cursor: pointer;\n",
              "      display: none;\n",
              "      fill: #1967D2;\n",
              "      height: 32px;\n",
              "      padding: 0 0 0 0;\n",
              "      width: 32px;\n",
              "    }\n",
              "\n",
              "    .colab-df-convert:hover {\n",
              "      background-color: #E2EBFA;\n",
              "      box-shadow: 0px 1px 2px rgba(60, 64, 67, 0.3), 0px 1px 3px 1px rgba(60, 64, 67, 0.15);\n",
              "      fill: #174EA6;\n",
              "    }\n",
              "\n",
              "    [theme=dark] .colab-df-convert {\n",
              "      background-color: #3B4455;\n",
              "      fill: #D2E3FC;\n",
              "    }\n",
              "\n",
              "    [theme=dark] .colab-df-convert:hover {\n",
              "      background-color: #434B5C;\n",
              "      box-shadow: 0px 1px 3px 1px rgba(0, 0, 0, 0.15);\n",
              "      filter: drop-shadow(0px 1px 2px rgba(0, 0, 0, 0.3));\n",
              "      fill: #FFFFFF;\n",
              "    }\n",
              "  </style>\n",
              "\n",
              "      <script>\n",
              "        const buttonEl =\n",
              "          document.querySelector('#df-98c2258f-60ef-4dca-be81-94f2070eb9cb button.colab-df-convert');\n",
              "        buttonEl.style.display =\n",
              "          google.colab.kernel.accessAllowed ? 'block' : 'none';\n",
              "\n",
              "        async function convertToInteractive(key) {\n",
              "          const element = document.querySelector('#df-98c2258f-60ef-4dca-be81-94f2070eb9cb');\n",
              "          const dataTable =\n",
              "            await google.colab.kernel.invokeFunction('convertToInteractive',\n",
              "                                                     [key], {});\n",
              "          if (!dataTable) return;\n",
              "\n",
              "          const docLinkHtml = 'Like what you see? Visit the ' +\n",
              "            '<a target=\"_blank\" href=https://colab.research.google.com/notebooks/data_table.ipynb>data table notebook</a>'\n",
              "            + ' to learn more about interactive tables.';\n",
              "          element.innerHTML = '';\n",
              "          dataTable['output_type'] = 'display_data';\n",
              "          await google.colab.output.renderOutput(dataTable, element);\n",
              "          const docLink = document.createElement('div');\n",
              "          docLink.innerHTML = docLinkHtml;\n",
              "          element.appendChild(docLink);\n",
              "        }\n",
              "      </script>\n",
              "    </div>\n",
              "  </div>\n",
              "  "
            ]
          },
          "metadata": {},
          "execution_count": 12
        }
      ]
    },
    {
      "cell_type": "code",
      "source": [
        "data.Label.hist()"
      ],
      "metadata": {
        "colab": {
          "base_uri": "https://localhost:8080/",
          "height": 282
        },
        "id": "_T_uldkUchoZ",
        "outputId": "7f9e3e81-6410-4d43-f1cb-a43401f43121"
      },
      "execution_count": null,
      "outputs": [
        {
          "output_type": "execute_result",
          "data": {
            "text/plain": [
              "<matplotlib.axes._subplots.AxesSubplot at 0x7f599e17ba10>"
            ]
          },
          "metadata": {},
          "execution_count": 13
        },
        {
          "output_type": "display_data",
          "data": {
            "text/plain": [
              "<Figure size 432x288 with 1 Axes>"
            ],
            "image/png": "[encoded data removed]"
          },
          "metadata": {
            "needs_background": "light"
          }
        }
      ]
    },
    {
      "cell_type": "code",
      "source": [
        "import nltk\n",
        "nltk.download('stopwords')\n",
        "nltk.download('wordnet')"
      ],
      "metadata": {
        "colab": {
          "base_uri": "https://localhost:8080/"
        },
        "id": "vwM5banmEQgZ",
        "outputId": "6f381f34-7b08-4a7d-b6fc-09247323f196"
      },
      "execution_count": null,
      "outputs": [
        {
          "output_type": "stream",
          "name": "stderr",
          "text": [
            "[nltk_data] Downloading package stopwords to /root/nltk_data...\n",
            "[nltk_data]   Unzipping corpora/stopwords.zip.\n",
            "[nltk_data] Downloading package wordnet to /root/nltk_data...\n",
            "[nltk_data]   Unzipping corpora/wordnet.zip.\n"
          ]
        },
        {
          "output_type": "execute_result",
          "data": {
            "text/plain": [
              "True"
            ]
          },
          "metadata": {},
          "execution_count": 14
        }
      ]
    },
    {
      "cell_type": "code",
      "source": [
        "import re\n",
        "def remove_punc(line):\n",
        "  line = re.sub('[0-9@]', '',line)\n",
        "  line = re.sub('[#[]', '',line)\n",
        "  line = re.sub(']', '',line)\n",
        "  line = re.sub('[\\'\":,.?!&)(]', '',line)\n",
        "  line = line.rstrip().lstrip()\n",
        "  return line\n",
        "\n",
        "data['text'] = data['text'].apply(lambda x : remove_punc(x))\n",
        "data.text.values"
      ],
      "metadata": {
        "colab": {
          "base_uri": "https://localhost:8080/"
        },
        "id": "m_i4l3CLEaWG",
        "outputId": "d3ebbdcd-250a-42ee-805c-4fac98537ad1"
      },
      "execution_count": null,
      "outputs": [
        {
          "output_type": "execute_result",
          "data": {
            "text/plain": [
              "array(['As a Travel Agent i like to experience as many places as possible\\nMyself and a friend decided to go to Memphis and wanted the full experience of Elvis so decided to stay at the Heart Break hotel\\nFirstly the hotel is only across the road from Gracelands so it is extremely easy to visit\\nThis is the only good thing about this hotel\\nLOCATION- Nearest to Gracelands but miles from aywhere else ie shops restuarnts bars etc a taxi to local mall is about  dollers round trip\\nThere is a free shuttle which will take you to Beale Street but only runs evenings\\nHOTEL- Looks nice as you walk in great for Elvis fans We were put in room  which was right by the public toilets so our room always smelt of poo and wee\\nThe bed linen had blood and wee stains on it so we had to ask for it to be changed which was not much better\\nTowels smelt musty and had old make up stains on them so again we asked for these to be changed which again was not much better\\nAs a TRavel Agent i would recommend a hotel nearer to Beale Street and visit Gracelands for the day\\nWHOEVER SAID IT WAS GREAT MUST BE USED TO THAT TYPE OF  STAR HOLIDAY',\n",
              "       'Picked this property out for an overnight visit from another area of the state It was very convenient to our destination Desk staff was efficient and friendly; all common areas inside and out were spotless; our room was great - everything clean in working order and comfortable Outstanding selection for breakfast and tended to frequently Lots of conveniences in the room and on the st floor for business travelers',\n",
              "       'Oh where to beginokay how about the horrible propane gas smell from the stove that burns your throat when you breathe\\nBooked the room for  nights stayed one night I myself thought the location was terribleif you like fast food joints and low end very low end shopping then the location might be great for you\\nThe bed was as hard as a concrete floor and the blanket was stained with who knows what Its a good thing I happen to have spare clean sheets in my car trunk because I was not touching the sheets and blanket on the bed The carpet was dingy and was not clean when I arrivedthere were crumbs There was no table to sit atthe couch was so dirty it looked liked it was found \\nat the city dumpthe staff even covered the couch with a sheet to hide all the stains I was not planning on cooking during my stay which was a good thing because there was nothing to cook with and there was a knob missing on the stove There was one cup one plate and a tea kettle which had a layers of dust on it There was hair on the kitchen faucet and on the bathroom floor and also on  of the four towels There were\\nbaby flies flying around and seemed to want to get out too because they loved sitting on the curtains The curtains in my room were broken off from the hooksthe blinds were broken\\nthe shower head was held on with tape and so was the towel rack There was no hair dryer There was an ironing board but no iron The safe did not work There were only  hangers and the bathroom window did not shut \\nThe parking lot is very small and had to park on the street I noticed that when the trash truck came to empty the bins a lot of the trash fell down onto my car and on another car I left the room at noon and there was no maid service at all Went out for a few hours and when we returned the parking lot was closed for a few hours and no one could go to their rooms for a few hours due to deliveries of beds to some of the room but no one was to enter their rooms for the few hours Its a good thing we took everything out of our room before we left for the day because our door was wide open when we returned All the doors face the street and it was not wise for the staff to think leaving doors open and unattended was ok The staff does not care properly for their guests and it is very obvious with the doors left wide open and rooms that are not maintained The photos the owners post on their site are very misleading\\nChecked out right then and therethis inn which is really a low class motel is way below standards and my advice is to bring hand sanitizer because everything in the room is disgusting and dirty I had to use a towel to cover the light switch because I did not feel comfortable touching the switchit was grimey and sticky\\nIt was worth the few extra dollars spent for the room the second night',\n",
              "       ...,\n",
              "       'Clean reasonable accommodation in a rather interesting historic section of Seattle - industrial Georgetown now filled with cool shops bars and restaurants We just needed a place to sleep in the southern portion of Seattle and this was perfect The room was small but comfortable clean and well taken care of flat-screen TV mini-fridge fluffy towels nice duvet in white linen cover Everything worked Although the area is somewhat industrial the presence of some funky shops bars and restaurants made it quite inviting and a good place for late night snacks WE had no trouble finding the the Inn and it was actually a pretty central location for forays around the city The continental breakfast featured fresh fruit and good muffins I would have liked a coffee maker in the room but coffee and tea were available in the lobby round the clock so it wasnt a huge problem The staff was friendly and professional All in all a good stay',\n",
              "       'This motel is disgusting I wouldnt recommend that ANYONE stay there Its in a scary industrial type area outside of downtown Seattle There is nothing within walking distance You cannot walk to Safeco field so dont bother trying to save a couple bucks if youre going to the game by staying there which is what we triedugh Our bed turned out to be broken on one side We slept on a slant Enough said',\n",
              "       'Chicago is wonderful and clean  The Drake hotel is Beautiful The service is exceptional  The city is unbelievable The people are very friendly The FOOD is delicious Everything about our trip here was very pleasant Definitely coming back soon'],\n",
              "      dtype=object)"
            ]
          },
          "metadata": {},
          "execution_count": 15
        }
      ]
    },
    {
      "cell_type": "code",
      "source": [
        "import nltk\n",
        "nltk.download('omw-1.4')"
      ],
      "metadata": {
        "colab": {
          "base_uri": "https://localhost:8080/"
        },
        "id": "zVSmxe7Fjpub",
        "outputId": "b1df3fcd-17f0-4d6f-efe1-70e1915f663b"
      },
      "execution_count": null,
      "outputs": [
        {
          "output_type": "stream",
          "name": "stderr",
          "text": [
            "[nltk_data] Downloading package omw-1.4 to /root/nltk_data...\n",
            "[nltk_data]   Unzipping corpora/omw-1.4.zip.\n"
          ]
        },
        {
          "output_type": "execute_result",
          "data": {
            "text/plain": [
              "True"
            ]
          },
          "metadata": {},
          "execution_count": 17
        }
      ]
    },
    {
      "cell_type": "code",
      "source": [
        "import nltk\n",
        "from nltk.corpus import stopwords\n",
        "stop_w = stopwords.words('english')\n",
        "\n",
        "from nltk.stem import WordNetLemmatizer\n",
        "  \n",
        "lemmatizer = WordNetLemmatizer()\n",
        "\n",
        "data['text'] = data['text'].apply(lambda x : ' '.join([lemmatizer.lemmatize(w.lower()) for w in x.split(' ') if lemmatizer.lemmatize(w.lower()) not in stop_w ]))\n",
        "\n",
        "data['text'] = data['text'].apply(lambda x : ' '.join([t for t in x.split(' ') if len(t)>0]))\n",
        "    \n",
        "data.text.values"
      ],
      "metadata": {
        "id": "QpfVHPCoEcsJ",
        "colab": {
          "base_uri": "https://localhost:8080/"
        },
        "outputId": "b8e2917c-e61f-4d67-9940-c4f0d5b9d780"
      },
      "execution_count": null,
      "outputs": [
        {
          "output_type": "execute_result",
          "data": {
            "text/plain": [
              "array(['travel agent like experience many place possible\\nmyself friend decided go memphis wanted full experience elvis decided stay heart break hotel\\nfirstly hotel across road gracelands extremely easy visit\\nthis good thing hotel\\nlocation- nearest gracelands mile aywhere else ie shop restuarnts bar etc taxi local mall dollers round trip\\nthere free shuttle take beale street run evenings\\nhotel- look nice walk great elvis fan put room wa right public toilet room always smelt poo wee\\nthe bed linen blood wee stain ask changed wa much better\\ntowels smelt musty old make stain asked changed wa much better\\nas travel agent would recommend hotel nearer beale street visit gracelands day\\nwhoever said wa great must used type star holiday',\n",
              "       'picked property overnight visit another area state wa convenient destination desk staff wa efficient friendly; common area inside spotless; room wa great - everything clean working order comfortable outstanding selection breakfast tended frequently lot convenience room st floor business traveler',\n",
              "       'oh beginokay horrible propane gas smell stove burn throat breathe\\nbooked room night stayed one night thought location wa terribleif like fast food joint low end low end shopping location might great you\\nthe bed wa hard concrete floor blanket wa stained know good thing happen spare clean sheet car trunk wa touching sheet blanket bed carpet wa dingy wa clean arrivedthere crumb wa table sit atthe couch wa dirty looked liked wa found \\nat city dumpthe staff even covered couch sheet hide stain wa planning cooking stay wa good thing wa nothing cook wa knob missing stove wa one cup one plate tea kettle layer dust wa hair kitchen faucet bathroom floor also four towel were\\nbaby fly flying around seemed want get loved sitting curtain curtain room broken hooksthe blind broken\\nthe shower head wa held tape wa towel rack wa hair dryer wa ironing board iron safe work hanger bathroom window shut \\nthe parking lot small park street noticed trash truck came empty bin lot trash fell onto car another car left room noon wa maid service went hour returned parking lot wa closed hour one could go room hour due delivery bed room one wa enter room hour good thing took everything room left day door wa wide open returned door face street wa wise staff think leaving door open unattended wa ok staff doe care properly guest obvious door left wide open room maintained photo owner post site misleading\\nchecked right therethis inn really low class motel way standard advice bring hand sanitizer everything room disgusting dirty use towel cover light switch feel comfortable touching switchit wa grimey sticky\\nit wa worth extra dollar spent room second night',\n",
              "       ...,\n",
              "       'clean reasonable accommodation rather interesting historic section seattle - industrial georgetown filled cool shop bar restaurant needed place sleep southern portion seattle wa perfect room wa small comfortable clean well taken care flat-screen tv mini-fridge fluffy towel nice duvet white linen cover everything worked although area somewhat industrial presence funky shop bar restaurant made quite inviting good place late night snack trouble finding inn wa actually pretty central location foray around city continental breakfast featured fresh fruit good muffin would liked coffee maker room coffee tea available lobby round clock wasnt huge problem staff wa friendly professional good stay',\n",
              "       'motel disgusting wouldnt recommend anyone stay scary industrial type area outside downtown seattle nothing within walking distance cannot walk safeco field dont bother trying save couple buck youre going game staying triedugh bed turned broken one side slept slant enough said',\n",
              "       'chicago wonderful clean drake hotel beautiful service exceptional city unbelievable people friendly food delicious everything trip wa pleasant definitely coming back soon'],\n",
              "      dtype=object)"
            ]
          },
          "metadata": {},
          "execution_count": 18
        }
      ]
    },
    {
      "cell_type": "code",
      "source": [
        "data['length'] = data['text'].apply(lambda x : len(x.split(' ')))\n",
        "data.length.hist()"
      ],
      "metadata": {
        "id": "5htv_-Hz3Qn-",
        "colab": {
          "base_uri": "https://localhost:8080/",
          "height": 282
        },
        "outputId": "bede2f54-0d6c-458c-fc92-055763e27308"
      },
      "execution_count": null,
      "outputs": [
        {
          "output_type": "execute_result",
          "data": {
            "text/plain": [
              "<matplotlib.axes._subplots.AxesSubplot at 0x7f599e2ba350>"
            ]
          },
          "metadata": {},
          "execution_count": 19
        },
        {
          "output_type": "display_data",
          "data": {
            "text/plain": [
              "<Figure size 432x288 with 1 Axes>"
            ],
            "image/png": "[encoded data removed]"
          },
          "metadata": {
            "needs_background": "light"
          }
        }
      ]
    },
    {
      "cell_type": "code",
      "source": [
        ""
      ],
      "metadata": {
        "id": "OfuyJjSUjyil"
      },
      "execution_count": null,
      "outputs": []
    },
    {
      "cell_type": "code",
      "source": [
        "!pip install --upgrade transformers"
      ],
      "metadata": {
        "id": "pz1yO0bNwGuh",
        "colab": {
          "base_uri": "https://localhost:8080/"
        },
        "outputId": "33aa6bfe-dab3-49c7-f42f-03c1062e502c"
      },
      "execution_count": null,
      "outputs": [
        {
          "output_type": "stream",
          "name": "stdout",
          "text": [
            "Looking in indexes: https://pypi.org/simple, https://us-python.pkg.dev/colab-wheels/public/simple/\n",
            "Collecting transformers\n",
            "  Downloading transformers-4.20.1-py3-none-any.whl (4.4 MB)\n",
            "\u001b[K     |████████████████████████████████| 4.4 MB 13.9 MB/s \n",
            "\u001b[?25hRequirement already satisfied: requests in /usr/local/lib/python3.7/dist-packages (from transformers) (2.23.0)\n",
            "Collecting pyyaml>=5.1\n",
            "  Downloading PyYAML-6.0-cp37-cp37m-manylinux_2_5_x86_64.manylinux1_x86_64.manylinux_2_12_x86_64.manylinux2010_x86_64.whl (596 kB)\n",
            "\u001b[K     |████████████████████████████████| 596 kB 61.9 MB/s \n",
            "\u001b[?25hCollecting huggingface-hub<1.0,>=0.1.0\n",
            "  Downloading huggingface_hub-0.8.1-py3-none-any.whl (101 kB)\n",
            "\u001b[K     |████████████████████████████████| 101 kB 13.7 MB/s \n",
            "\u001b[?25hRequirement already satisfied: numpy>=1.17 in /usr/local/lib/python3.7/dist-packages (from transformers) (1.21.6)\n",
            "Requirement already satisfied: filelock in /usr/local/lib/python3.7/dist-packages (from transformers) (3.7.1)\n",
            "Requirement already satisfied: importlib-metadata in /usr/local/lib/python3.7/dist-packages (from transformers) (4.11.4)\n",
            "Requirement already satisfied: regex!=2019.12.17 in /usr/local/lib/python3.7/dist-packages (from transformers) (2022.6.2)\n",
            "Collecting tokenizers!=0.11.3,<0.13,>=0.11.1\n",
            "  Downloading tokenizers-0.12.1-cp37-cp37m-manylinux_2_12_x86_64.manylinux2010_x86_64.whl (6.6 MB)\n",
            "\u001b[K     |████████████████████████████████| 6.6 MB 53.3 MB/s \n",
            "\u001b[?25hRequirement already satisfied: tqdm>=4.27 in /usr/local/lib/python3.7/dist-packages (from transformers) (4.64.0)\n",
            "Requirement already satisfied: packaging>=20.0 in /usr/local/lib/python3.7/dist-packages (from transformers) (21.3)\n",
            "Requirement already satisfied: typing-extensions>=3.7.4.3 in /usr/local/lib/python3.7/dist-packages (from huggingface-hub<1.0,>=0.1.0->transformers) (4.1.1)\n",
            "Requirement already satisfied: pyparsing!=3.0.5,>=2.0.2 in /usr/local/lib/python3.7/dist-packages (from packaging>=20.0->transformers) (3.0.9)\n",
            "Requirement already satisfied: zipp>=0.5 in /usr/local/lib/python3.7/dist-packages (from importlib-metadata->transformers) (3.8.0)\n",
            "Requirement already satisfied: certifi>=2017.4.17 in /usr/local/lib/python3.7/dist-packages (from requests->transformers) (2022.6.15)\n",
            "Requirement already satisfied: idna<3,>=2.5 in /usr/local/lib/python3.7/dist-packages (from requests->transformers) (2.10)\n",
            "Requirement already satisfied: chardet<4,>=3.0.2 in /usr/local/lib/python3.7/dist-packages (from requests->transformers) (3.0.4)\n",
            "Requirement already satisfied: urllib3!=1.25.0,!=1.25.1,<1.26,>=1.21.1 in /usr/local/lib/python3.7/dist-packages (from requests->transformers) (1.24.3)\n",
            "Installing collected packages: pyyaml, tokenizers, huggingface-hub, transformers\n",
            "  Attempting uninstall: pyyaml\n",
            "    Found existing installation: PyYAML 3.13\n",
            "    Uninstalling PyYAML-3.13:\n",
            "      Successfully uninstalled PyYAML-3.13\n",
            "Successfully installed huggingface-hub-0.8.1 pyyaml-6.0 tokenizers-0.12.1 transformers-4.20.1\n"
          ]
        }
      ]
    },
    {
      "cell_type": "code",
      "source": [
        "from transformers import BertTokenizer, TFBertModel,pipeline\n",
        "tokenizer = BertTokenizer.from_pretrained('bert-base-uncased')\n",
        "model = TFBertModel.from_pretrained(\"bert-base-uncased\")"
      ],
      "metadata": {
        "id": "palJWQvMwJ8S",
        "colab": {
          "base_uri": "https://localhost:8080/",
          "height": 252,
          "referenced_widgets": [
            "701d9d7493634f4096fcf07e81e4d814",
            "5f2fc49abbe4466eb706ba9f413418e5",
            "a7cb45a6e80f48e78de3408c52e04d20",
            "eb290b33f6c844daa4333cb00d833d90",
            "7486df7ac53e45358d0fd2a08da305c3",
            "25b7ad6fe12446a791981282332c633f",
            "804cc907cc1b440da6e74a9b3b817993",
            "c77b93a50f034cbca931bb17d026531e",
            "a60a129b044040c7acdcd3439674edc3",
            "ec53949e4ac14b23869aa257bc9404c9",
            "d3cf20ae08e64d21a2c6b7a2860302d2",
            "a5424aa8e6344a8d9b6093cfaa61a63f",
            "6dc3d75983664e2690faba568b4e337a",
            "c06ed700332e49568ef4f25932e3783b",
            "b289b8fba9794f309f13595fb8563bc9",
            "1141cc89feae443a8a0ea0a57911b6a5",
            "834bf589871e4651b6425813cbc9dcd4",
            "18f56131614c42599ee757f484032692",
            "5d729e9ff553488999b54be3d5f6b3ee",
            "ed6cbb718c2b44f8b4a108131f3c386c",
            "2c7021530ba54c7bbba9b1521730c4f7",
            "0305fbbdef294de6bd6a4f343393cb7a",
            "66d7355fba544457b47953d3693cdb43",
            "e9afb892872947d284ad912846b54527",
            "6f0e86b9540a46bba1c97566afed3bfc",
            "db60ed656ed949c990bd3cb84d5ad63e",
            "4aa33a6ad0b645d9b0af09c940389604",
            "cffe2bbd31954fc5a639c545320c849c",
            "ca8e78e34db64827843e5475da2f68e6",
            "0137c182e5f8418b9fa25c9aa27834ce",
            "e5fdc5e6619a4cc8998ab07664a6b612",
            "283cebb311e34ba194cc3686a9004dd3",
            "9ad993c854014c7ebf74e0907d3e679a",
            "1fa80a4bf828476ea55cc6491bf3fe9e",
            "79dd03436892411ea8b0c13676da234d",
            "832899e7f4dc426ab22764a37c4ac87c",
            "edf376ac0e474fe89094cb683bf77114",
            "8f3ddd24865d4296a511d0ca5f0eef4f",
            "48ed0059fcdd43e6b64f946ec4e5c083",
            "d00f4820cb9340b09c7c847b22aeeaeb",
            "7e282031694945098cbc36eb6b8a1a38",
            "11dad148558d4449b9d0d8b0ac7f6aba",
            "59fbd37c83834ec0836b4750bcd17029",
            "edbc33831e6342b087858a9128b1a091"
          ]
        },
        "outputId": "5771d6cc-65ec-40c5-a0f2-4336f3a23fea"
      },
      "execution_count": null,
      "outputs": [
        {
          "output_type": "display_data",
          "data": {
            "text/plain": [
              "Downloading:   0%|          | 0.00/226k [00:00<?, ?B/s]"
            ],
            "application/vnd.jupyter.widget-view+json": {
              "version_major": 2,
              "version_minor": 0,
              "model_id": "701d9d7493634f4096fcf07e81e4d814"
            }
          },
          "metadata": {}
        },
        {
          "output_type": "display_data",
          "data": {
            "text/plain": [
              "Downloading:   0%|          | 0.00/28.0 [00:00<?, ?B/s]"
            ],
            "application/vnd.jupyter.widget-view+json": {
              "version_major": 2,
              "version_minor": 0,
              "model_id": "a5424aa8e6344a8d9b6093cfaa61a63f"
            }
          },
          "metadata": {}
        },
        {
          "output_type": "display_data",
          "data": {
            "text/plain": [
              "Downloading:   0%|          | 0.00/570 [00:00<?, ?B/s]"
            ],
            "application/vnd.jupyter.widget-view+json": {
              "version_major": 2,
              "version_minor": 0,
              "model_id": "66d7355fba544457b47953d3693cdb43"
            }
          },
          "metadata": {}
        },
        {
          "output_type": "display_data",
          "data": {
            "text/plain": [
              "Downloading:   0%|          | 0.00/511M [00:00<?, ?B/s]"
            ],
            "application/vnd.jupyter.widget-view+json": {
              "version_major": 2,
              "version_minor": 0,
              "model_id": "1fa80a4bf828476ea55cc6491bf3fe9e"
            }
          },
          "metadata": {}
        },
        {
          "output_type": "stream",
          "name": "stderr",
          "text": [
            "Some layers from the model checkpoint at bert-base-uncased were not used when initializing TFBertModel: ['nsp___cls', 'mlm___cls']\n",
            "- This IS expected if you are initializing TFBertModel from the checkpoint of a model trained on another task or with another architecture (e.g. initializing a BertForSequenceClassification model from a BertForPreTraining model).\n",
            "- This IS NOT expected if you are initializing TFBertModel from the checkpoint of a model that you expect to be exactly identical (initializing a BertForSequenceClassification model from a BertForSequenceClassification model).\n",
            "All the layers of TFBertModel were initialized from the model checkpoint at bert-base-uncased.\n",
            "If your task is similar to the task the model of the checkpoint was trained on, you can already use TFBertModel for predictions without further training.\n"
          ]
        }
      ]
    },
    {
      "cell_type": "code",
      "source": [
        "texts = []\n",
        "labels = []\n",
        "text = list(data.text.values)\n",
        "label = list(data.Label.values)\n",
        "\n",
        "for i in range(0,len(text),10):\n",
        "  if (i % 1000) == 0:\n",
        "    print(i)\n",
        "  try:\n",
        "    encoded_input = tokenizer(text[i:i+10], return_tensors='tf',max_length = 150,  # maximum length of a sentence  (TODO Figure the longest passage length)\n",
        "      truncation = 'longest_first',padding='max_length'\n",
        "    )\n",
        "  \n",
        "    output = model(encoded_input)\n",
        "    for j in range(10):\n",
        "      texts.append(np.copy(np.array(output['last_hidden_state'])[j]))\n",
        "      labels.append(label[i+j])\n",
        "  except:\n",
        "    pass"
      ],
      "metadata": {
        "id": "SgUg5zPf93bx",
        "colab": {
          "base_uri": "https://localhost:8080/"
        },
        "outputId": "9819f720-cc7a-43d6-8327-182a8f7d3ffe"
      },
      "execution_count": null,
      "outputs": [
        {
          "output_type": "stream",
          "name": "stdout",
          "text": [
            "0\n",
            "1000\n",
            "2000\n",
            "3000\n",
            "4000\n",
            "5000\n",
            "6000\n",
            "7000\n"
          ]
        }
      ]
    },
    {
      "cell_type": "code",
      "source": [
        "import numpy as np"
      ],
      "metadata": {
        "id": "iblRzOqWAnwx"
      },
      "execution_count": null,
      "outputs": []
    },
    {
      "cell_type": "code",
      "source": [
        "texts = np.array(texts)"
      ],
      "metadata": {
        "id": "FzwwHgoiIlOE"
      },
      "execution_count": null,
      "outputs": []
    },
    {
      "cell_type": "code",
      "source": [
        "labels = data[['cleanliness_sent','location_sent','rooms_sent','service_sent','value_sent']].values"
      ],
      "metadata": {
        "id": "Nwy7crOq8ejF"
      },
      "execution_count": null,
      "outputs": []
    },
    {
      "cell_type": "code",
      "source": [
        "#texts[0].shape"
      ],
      "metadata": {
        "id": "LW9qQpGR8h9j"
      },
      "execution_count": null,
      "outputs": []
    },
    {
      "cell_type": "code",
      "source": [
        "from sklearn.model_selection import train_test_split\n",
        "text_train, text_test,label_train,label_test = train_test_split(texts,labels,test_size=0.2,random_state=24)"
      ],
      "metadata": {
        "id": "0WMy60dRFR9g"
      },
      "execution_count": null,
      "outputs": []
    },
    {
      "cell_type": "code",
      "source": [
        "texts = None"
      ],
      "metadata": {
        "id": "ecEZGiqx7Rqy"
      },
      "execution_count": null,
      "outputs": []
    },
    {
      "cell_type": "code",
      "source": [
        "from tensorflow.keras.regularizers import L1L2\n",
        "from tensorflow.keras.layers import Dense, LSTM, Embedding,Bidirectional\n",
        "import tensorflow\n",
        "from tensorflow.compat.v1.keras.layers import CuDNNLSTM\n",
        "def mod():\n",
        "  sent_inp = Input(shape=(150, 768))\n",
        "  X = Bidirectional(LSTM(512, return_sequences=True))(sent_inp)\n",
        "  \n",
        "  #X = Bidirectional(CuDNNLSTM(100,return_sequences=True))(X)\n",
        "  #X = Dropout(0.4)(X)\n",
        "  X = Bidirectional(LSTM(256,return_sequences=True))(X)\n",
        "  X = Dropout(0.3)(X)\n",
        "  X = Bidirectional(LSTM(128))(X)\n",
        "  X = Dropout(0.2)(X)\n",
        "  X = Dense(32,activation='relu')(X) \n",
        "  out = Dense(5,activation='sigmoid')(X)\n",
        "\n",
        "\n",
        "  \n",
        "\n",
        "\n",
        "  \n",
        "  \n",
        "  \n",
        "  \n",
        "  model = Model(inputs=sent_inp, \n",
        "                  outputs=out)\n",
        "  \n",
        "  return model\n"
      ],
      "metadata": {
        "id": "85Xj7ob3FUT2"
      },
      "execution_count": null,
      "outputs": []
    },
    {
      "cell_type": "code",
      "source": [
        "model = mod()"
      ],
      "metadata": {
        "id": "HqSsUJsZFXgu"
      },
      "execution_count": null,
      "outputs": []
    },
    {
      "cell_type": "code",
      "source": [
        "\n"
      ],
      "metadata": {
        "id": "ruDOd2OW-oX7"
      },
      "execution_count": null,
      "outputs": []
    },
    {
      "cell_type": "code",
      "source": [
        "tf.keras.utils.plot_model(model, to_file='img.png', show_shapes=True)"
      ],
      "metadata": {
        "id": "6hytVp92Fls1",
        "colab": {
          "base_uri": "https://localhost:8080/",
          "height": 865
        },
        "outputId": "f28144b2-3438-4e15-a268-1e41cd564847"
      },
      "execution_count": null,
      "outputs": [
        {
          "output_type": "execute_result",
          "data": {
            "text/plain": [
              "<IPython.core.display.Image object>"
            ],
            "image/png": "[encoded data removed]"
          },
          "metadata": {},
          "execution_count": 31
        }
      ]
    },
    {
      "cell_type": "code",
      "source": [
        "model.compile(optimizer='adam',loss='binary_crossentropy',metrics=['binary_accuracy'])"
      ],
      "metadata": {
        "id": "E9u8fVLqFm91"
      },
      "execution_count": null,
      "outputs": []
    },
    {
      "cell_type": "code",
      "source": [
        ""
      ],
      "metadata": {
        "id": "rRy3RNx6Cl1i"
      },
      "execution_count": null,
      "outputs": []
    },
    {
      "cell_type": "code",
      "source": [
        "callback = tf.keras.callbacks.EarlyStopping(monitor='val_loss', patience=3)\n",
        "history = model.fit(text_train,label_train,validation_split=0.15,epochs=15,batch_size=64,callbacks=[callback])"
      ],
      "metadata": {
        "id": "HXo-AzZq-2Cz",
        "colab": {
          "base_uri": "https://localhost:8080/"
        },
        "outputId": "cf055680-7509-4cde-c452-f0ab8a4e02e3"
      },
      "execution_count": null,
      "outputs": [
        {
          "output_type": "stream",
          "name": "stdout",
          "text": [
            "Epoch 1/15\n",
            "81/81 [==============================] - 33s 242ms/step - loss: 0.3799 - binary_accuracy: 0.8290 - val_loss: 0.2992 - val_binary_accuracy: 0.8685\n",
            "Epoch 2/15\n",
            "81/81 [==============================] - 17s 216ms/step - loss: 0.3001 - binary_accuracy: 0.8696 - val_loss: 0.2876 - val_binary_accuracy: 0.8768\n",
            "Epoch 3/15\n",
            "81/81 [==============================] - 18s 217ms/step - loss: 0.2713 - binary_accuracy: 0.8839 - val_loss: 0.2643 - val_binary_accuracy: 0.8933\n",
            "Epoch 4/15\n",
            "81/81 [==============================] - 17s 212ms/step - loss: 0.2618 - binary_accuracy: 0.8884 - val_loss: 0.2909 - val_binary_accuracy: 0.8768\n",
            "Epoch 5/15\n",
            "81/81 [==============================] - 17s 213ms/step - loss: 0.2425 - binary_accuracy: 0.8953 - val_loss: 0.2575 - val_binary_accuracy: 0.8894\n",
            "Epoch 6/15\n",
            "81/81 [==============================] - 17s 214ms/step - loss: 0.2362 - binary_accuracy: 0.8996 - val_loss: 0.2857 - val_binary_accuracy: 0.8744\n",
            "Epoch 7/15\n",
            "81/81 [==============================] - 17s 215ms/step - loss: 0.2220 - binary_accuracy: 0.9032 - val_loss: 0.2814 - val_binary_accuracy: 0.8777\n",
            "Epoch 8/15\n",
            "81/81 [==============================] - 17s 215ms/step - loss: 0.2100 - binary_accuracy: 0.9101 - val_loss: 0.2571 - val_binary_accuracy: 0.8900\n",
            "Epoch 9/15\n",
            "81/81 [==============================] - 17s 213ms/step - loss: 0.1964 - binary_accuracy: 0.9152 - val_loss: 0.2525 - val_binary_accuracy: 0.8915\n",
            "Epoch 10/15\n",
            "81/81 [==============================] - 17s 212ms/step - loss: 0.1898 - binary_accuracy: 0.9191 - val_loss: 0.2612 - val_binary_accuracy: 0.8902\n",
            "Epoch 11/15\n",
            "81/81 [==============================] - 17s 213ms/step - loss: 0.1733 - binary_accuracy: 0.9274 - val_loss: 0.2804 - val_binary_accuracy: 0.8902\n",
            "Epoch 12/15\n",
            "81/81 [==============================] - 17s 214ms/step - loss: 0.1529 - binary_accuracy: 0.9364 - val_loss: 0.2681 - val_binary_accuracy: 0.8902\n"
          ]
        }
      ]
    },
    {
      "cell_type": "code",
      "source": [
        "pred = model.predict(text_test)"
      ],
      "metadata": {
        "id": "dYObTPSr_6tZ"
      },
      "execution_count": null,
      "outputs": []
    },
    {
      "cell_type": "code",
      "source": [
        "m = tf.keras.metrics.BinaryAccuracy()\n",
        "m.update_state(label_test, pred)\n",
        "'accuracy on test data',m.result().numpy()"
      ],
      "metadata": {
        "id": "ithxhe3gz-8r",
        "colab": {
          "base_uri": "https://localhost:8080/"
        },
        "outputId": "e17b928b-6e49-407c-c986-980b127b28f3"
      },
      "execution_count": null,
      "outputs": [
        {
          "output_type": "execute_result",
          "data": {
            "text/plain": [
              "('accuracy on test data', 0.8905138)"
            ]
          },
          "metadata": {},
          "execution_count": 35
        }
      ]
    },
    {
      "cell_type": "code",
      "source": [
        "from matplotlib import pyplot as plt\n",
        "\n",
        "plt.plot(history.history['loss'], label='train loss')\n",
        "plt.plot(history.history['val_loss'], label='val loss')\n",
        "plt.legend()\n",
        "plt.show()\n",
        "plt.savefig('loss')"
      ],
      "metadata": {
        "id": "5fap0O42bR9P",
        "colab": {
          "base_uri": "https://localhost:8080/",
          "height": 159
        },
        "outputId": "e22476fd-f9de-4cc2-ee20-fe607c96103a"
      },
      "execution_count": null,
      "outputs": [
        {
          "output_type": "display_data",
          "data": {
            "text/plain": [
              "<Figure size 432x288 with 1 Axes>"
            ],
            "image/png": "[encoded data removed]"
          },
          "metadata": {
            "needs_background": "light"
          }
        },
        {
          "output_type": "display_data",
          "data": {
            "text/plain": [
              "<Figure size 432x288 with 0 Axes>"
            ]
          },
          "metadata": {}
        }
      ]
    },
    {
      "cell_type": "code",
      "source": [
        "model.save('/content/drive/MyDrive/model_multi_sentimentv2_withoutCuda.h5')"
      ],
      "metadata": {
        "id": "Kp9sBFdWZiOp"
      },
      "execution_count": null,
      "outputs": []
    },
    {
      "cell_type": "code",
      "source": [
        ""
      ],
      "metadata": {
        "id": "XhYh8dpxGafa"
      },
      "execution_count": null,
      "outputs": []
    }
  ]
}